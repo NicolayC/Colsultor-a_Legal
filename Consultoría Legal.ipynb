{
 "cells": [
  {
   "cell_type": "markdown",
   "metadata": {
    "application/vnd.databricks.v1+cell": {
     "cellMetadata": {},
     "inputWidgets": {},
     "nuid": "8352bae0-76c9-440a-8717-24bf0af68c69",
     "showTitle": false,
     "tableResultSettingsMap": {},
     "title": ""
    }
   },
   "source": [
    "##Instalaciones"
   ]
  },
  {
   "cell_type": "code",
   "execution_count": 0,
   "metadata": {
    "application/vnd.databricks.v1+cell": {
     "cellMetadata": {
      "byteLimit": 2048000,
      "rowLimit": 10000
     },
     "inputWidgets": {},
     "nuid": "d8d34eae-577e-4277-b606-628fb4fd2ac2",
     "showTitle": false,
     "tableResultSettingsMap": {},
     "title": ""
    }
   },
   "outputs": [
    {
     "name": "stdout",
     "output_type": "stream",
     "text": [
      "Requirement already satisfied: pandas in /databricks/python3/lib/python3.11/site-packages (1.5.3)\n",
      "Collecting sentence-transformers\n",
      "  Obtaining dependency information for sentence-transformers from https://files.pythonhosted.org/packages/6f/ff/178f08ea5ebc1f9193d9de7f601efe78c01748347875c8438f66f5cecc19/sentence_transformers-5.0.0-py3-none-any.whl.metadata\n",
      "  Downloading sentence_transformers-5.0.0-py3-none-any.whl.metadata (16 kB)\n",
      "Collecting transformers\n",
      "  Obtaining dependency information for transformers from https://files.pythonhosted.org/packages/5e/0c/68d03a38f6ab2ba2b2829eb11b334610dd236e7926787f7656001b68e1f2/transformers-4.53.0-py3-none-any.whl.metadata\n",
      "  Downloading transformers-4.53.0-py3-none-any.whl.metadata (39 kB)\n",
      "Collecting accelerate\n",
      "  Obtaining dependency information for accelerate from https://files.pythonhosted.org/packages/91/d9/e044c9d42d8ad9afa96533b46ecc9b7aea893d362b3c52bd78fb9fe4d7b3/accelerate-1.8.1-py3-none-any.whl.metadata\n",
      "  Downloading accelerate-1.8.1-py3-none-any.whl.metadata (19 kB)\n",
      "Requirement already satisfied: python-dateutil>=2.8.1 in /databricks/python3/lib/python3.11/site-packages (from pandas) (2.8.2)\n",
      "Requirement already satisfied: pytz>=2020.1 in /databricks/python3/lib/python3.11/site-packages (from pandas) (2022.7)\n",
      "Requirement already satisfied: numpy>=1.21.0 in /databricks/python3/lib/python3.11/site-packages (from pandas) (1.23.5)\n",
      "Collecting tqdm (from sentence-transformers)\n",
      "  Obtaining dependency information for tqdm from https://files.pythonhosted.org/packages/d0/30/dc54f88dd4a2b5dc8a0279bdd7270e735851848b762aeb1c1184ed1f6b14/tqdm-4.67.1-py3-none-any.whl.metadata\n",
      "  Downloading tqdm-4.67.1-py3-none-any.whl.metadata (57 kB)\n",
      "\u001b[?25l     \u001b[90m━━━━━━━━━━━━━━━━━━━━━━━━━━━━━━━━━━━━━━━━\u001b[0m \u001b[32m0.0/57.7 kB\u001b[0m \u001b[31m?\u001b[0m eta \u001b[36m-:--:--\u001b[0m\n",
      "\u001b[2K     \u001b[90m━━━━━━━━━━━━━━━━━━━━━━━━━━━━━━━━━━━━━━━━\u001b[0m \u001b[32m57.7/57.7 kB\u001b[0m \u001b[31m2.0 MB/s\u001b[0m eta \u001b[36m0:00:00\u001b[0m\n",
      "\u001b[?25hCollecting torch>=1.11.0 (from sentence-transformers)\n",
      "  Obtaining dependency information for torch>=1.11.0 from https://files.pythonhosted.org/packages/e5/94/34b80bd172d0072c9979708ccd279c2da2f55c3ef318eceec276ab9544a4/torch-2.7.1-cp311-cp311-manylinux_2_28_x86_64.whl.metadata\n",
      "  Downloading torch-2.7.1-cp311-cp311-manylinux_2_28_x86_64.whl.metadata (29 kB)\n",
      "Requirement already satisfied: scikit-learn in /databricks/python3/lib/python3.11/site-packages (from sentence-transformers) (1.3.0)\n",
      "Requirement already satisfied: scipy in /databricks/python3/lib/python3.11/site-packages (from sentence-transformers) (1.11.1)\n",
      "Collecting huggingface-hub>=0.20.0 (from sentence-transformers)\n",
      "  Obtaining dependency information for huggingface-hub>=0.20.0 from https://files.pythonhosted.org/packages/44/f4/5f3f22e762ad1965f01122b42dae5bf0e009286e2dba601ce1d0dba72424/huggingface_hub-0.33.2-py3-none-any.whl.metadata\n",
      "  Downloading huggingface_hub-0.33.2-py3-none-any.whl.metadata (14 kB)\n",
      "Requirement already satisfied: Pillow in /databricks/python3/lib/python3.11/site-packages (from sentence-transformers) (9.4.0)\n",
      "Requirement already satisfied: typing_extensions>=4.5.0 in /databricks/python3/lib/python3.11/site-packages (from sentence-transformers) (4.10.0)\n",
      "Requirement already satisfied: filelock in /databricks/python3/lib/python3.11/site-packages (from transformers) (3.13.4)\n",
      "Requirement already satisfied: packaging>=20.0 in /databricks/python3/lib/python3.11/site-packages (from transformers) (23.2)\n",
      "Requirement already satisfied: pyyaml>=5.1 in /databricks/python3/lib/python3.11/site-packages (from transformers) (6.0)\n",
      "Collecting regex!=2019.12.17 (from transformers)\n",
      "  Obtaining dependency information for regex!=2019.12.17 from https://files.pythonhosted.org/packages/bf/ce/0d0e61429f603bac433910d99ef1a02ce45a8967ffbe3cbee48599e62d88/regex-2024.11.6-cp311-cp311-manylinux_2_17_x86_64.manylinux2014_x86_64.whl.metadata\n",
      "  Downloading regex-2024.11.6-cp311-cp311-manylinux_2_17_x86_64.manylinux2014_x86_64.whl.metadata (40 kB)\n",
      "\u001b[?25l     \u001b[90m━━━━━━━━━━━━━━━━━━━━━━━━━━━━━━━━━━━━━━━━\u001b[0m \u001b[32m0.0/40.5 kB\u001b[0m \u001b[31m?\u001b[0m eta \u001b[36m-:--:--\u001b[0m\n",
      "\u001b[2K     \u001b[90m━━━━━━━━━━━━━━━━━━━━━━━━━━━━━━━━━━━━━━━━\u001b[0m \u001b[32m40.5/40.5 kB\u001b[0m \u001b[31m1.8 MB/s\u001b[0m eta \u001b[36m0:00:00\u001b[0m\n",
      "\u001b[?25hRequirement already satisfied: requests in /databricks/python3/lib/python3.11/site-packages (from transformers) (2.31.0)\n",
      "Collecting tokenizers<0.22,>=0.21 (from transformers)\n",
      "  Obtaining dependency information for tokenizers<0.22,>=0.21 from https://files.pythonhosted.org/packages/c5/74/f41a432a0733f61f3d21b288de6dfa78f7acff309c6f0f323b2833e9189f/tokenizers-0.21.2-cp39-abi3-manylinux_2_17_x86_64.manylinux2014_x86_64.whl.metadata\n",
      "  Downloading tokenizers-0.21.2-cp39-abi3-manylinux_2_17_x86_64.manylinux2014_x86_64.whl.metadata (6.8 kB)\n",
      "Collecting safetensors>=0.4.3 (from transformers)\n",
      "  Obtaining dependency information for safetensors>=0.4.3 from https://files.pythonhosted.org/packages/a6/f8/dae3421624fcc87a89d42e1898a798bc7ff72c61f38973a65d60df8f124c/safetensors-0.5.3-cp38-abi3-manylinux_2_17_x86_64.manylinux2014_x86_64.whl.metadata\n",
      "  Downloading safetensors-0.5.3-cp38-abi3-manylinux_2_17_x86_64.manylinux2014_x86_64.whl.metadata (3.8 kB)\n",
      "Requirement already satisfied: psutil in /databricks/python3/lib/python3.11/site-packages (from accelerate) (5.9.0)\n",
      "Collecting fsspec>=2023.5.0 (from huggingface-hub>=0.20.0->sentence-transformers)\n",
      "  Obtaining dependency information for fsspec>=2023.5.0 from https://files.pythonhosted.org/packages/bb/61/78c7b3851add1481b048b5fdc29067397a1784e2910592bc81bb3f608635/fsspec-2025.5.1-py3-none-any.whl.metadata\n",
      "  Downloading fsspec-2025.5.1-py3-none-any.whl.metadata (11 kB)\n",
      "Collecting hf-xet<2.0.0,>=1.1.2 (from huggingface-hub>=0.20.0->sentence-transformers)\n",
      "  Obtaining dependency information for hf-xet<2.0.0,>=1.1.2 from https://files.pythonhosted.org/packages/6d/2f/6cad7b5fe86b7652579346cb7f85156c11761df26435651cbba89376cd2c/hf_xet-1.1.5-cp37-abi3-manylinux_2_17_x86_64.manylinux2014_x86_64.whl.metadata\n",
      "  Downloading hf_xet-1.1.5-cp37-abi3-manylinux_2_17_x86_64.manylinux2014_x86_64.whl.metadata (879 bytes)\n",
      "Requirement already satisfied: six>=1.5 in /usr/lib/python3/dist-packages (from python-dateutil>=2.8.1->pandas) (1.16.0)\n",
      "Collecting sympy>=1.13.3 (from torch>=1.11.0->sentence-transformers)\n",
      "  Obtaining dependency information for sympy>=1.13.3 from https://files.pythonhosted.org/packages/a2/09/77d55d46fd61b4a135c444fc97158ef34a095e5681d0a6c10b75bf356191/sympy-1.14.0-py3-none-any.whl.metadata\n",
      "  Downloading sympy-1.14.0-py3-none-any.whl.metadata (12 kB)\n",
      "Collecting networkx (from torch>=1.11.0->sentence-transformers)\n",
      "  Obtaining dependency information for networkx from https://files.pythonhosted.org/packages/eb/8d/776adee7bbf76365fdd7f2552710282c79a4ead5d2a46408c9043a2b70ba/networkx-3.5-py3-none-any.whl.metadata\n",
      "  Downloading networkx-3.5-py3-none-any.whl.metadata (6.3 kB)\n",
      "Collecting jinja2 (from torch>=1.11.0->sentence-transformers)\n",
      "  Obtaining dependency information for jinja2 from https://files.pythonhosted.org/packages/62/a1/3d680cbfd5f4b8f15abc1d571870c5fc3e594bb582bc3b64ea099db13e56/jinja2-3.1.6-py3-none-any.whl.metadata\n",
      "  Downloading jinja2-3.1.6-py3-none-any.whl.metadata (2.9 kB)\n",
      "Collecting nvidia-cuda-nvrtc-cu12==12.6.77 (from torch>=1.11.0->sentence-transformers)\n",
      "  Obtaining dependency information for nvidia-cuda-nvrtc-cu12==12.6.77 from https://files.pythonhosted.org/packages/75/2e/46030320b5a80661e88039f59060d1790298b4718944a65a7f2aeda3d9e9/nvidia_cuda_nvrtc_cu12-12.6.77-py3-none-manylinux2014_x86_64.whl.metadata\n",
      "  Downloading nvidia_cuda_nvrtc_cu12-12.6.77-py3-none-manylinux2014_x86_64.whl.metadata (1.5 kB)\n",
      "Collecting nvidia-cuda-runtime-cu12==12.6.77 (from torch>=1.11.0->sentence-transformers)\n",
      "  Obtaining dependency information for nvidia-cuda-runtime-cu12==12.6.77 from https://files.pythonhosted.org/packages/e1/23/e717c5ac26d26cf39a27fbc076240fad2e3b817e5889d671b67f4f9f49c5/nvidia_cuda_runtime_cu12-12.6.77-py3-none-manylinux2014_x86_64.manylinux_2_17_x86_64.whl.metadata\n",
      "  Downloading nvidia_cuda_runtime_cu12-12.6.77-py3-none-manylinux2014_x86_64.manylinux_2_17_x86_64.whl.metadata (1.5 kB)\n",
      "Collecting nvidia-cuda-cupti-cu12==12.6.80 (from torch>=1.11.0->sentence-transformers)\n",
      "  Obtaining dependency information for nvidia-cuda-cupti-cu12==12.6.80 from https://files.pythonhosted.org/packages/49/60/7b6497946d74bcf1de852a21824d63baad12cd417db4195fc1bfe59db953/nvidia_cuda_cupti_cu12-12.6.80-py3-none-manylinux2014_x86_64.manylinux_2_17_x86_64.whl.metadata\n",
      "  Downloading nvidia_cuda_cupti_cu12-12.6.80-py3-none-manylinux2014_x86_64.manylinux_2_17_x86_64.whl.metadata (1.6 kB)\n",
      "Collecting nvidia-cudnn-cu12==9.5.1.17 (from torch>=1.11.0->sentence-transformers)\n",
      "  Obtaining dependency information for nvidia-cudnn-cu12==9.5.1.17 from https://files.pythonhosted.org/packages/2a/78/4535c9c7f859a64781e43c969a3a7e84c54634e319a996d43ef32ce46f83/nvidia_cudnn_cu12-9.5.1.17-py3-none-manylinux_2_28_x86_64.whl.metadata\n",
      "  Downloading nvidia_cudnn_cu12-9.5.1.17-py3-none-manylinux_2_28_x86_64.whl.metadata (1.6 kB)\n",
      "Collecting nvidia-cublas-cu12==12.6.4.1 (from torch>=1.11.0->sentence-transformers)\n",
      "  Obtaining dependency information for nvidia-cublas-cu12==12.6.4.1 from https://files.pythonhosted.org/packages/af/eb/ff4b8c503fa1f1796679dce648854d58751982426e4e4b37d6fce49d259c/nvidia_cublas_cu12-12.6.4.1-py3-none-manylinux2014_x86_64.manylinux_2_17_x86_64.whl.metadata\n",
      "  Downloading nvidia_cublas_cu12-12.6.4.1-py3-none-manylinux2014_x86_64.manylinux_2_17_x86_64.whl.metadata (1.5 kB)\n",
      "Collecting nvidia-cufft-cu12==11.3.0.4 (from torch>=1.11.0->sentence-transformers)\n",
      "  Obtaining dependency information for nvidia-cufft-cu12==11.3.0.4 from https://files.pythonhosted.org/packages/8f/16/73727675941ab8e6ffd86ca3a4b7b47065edcca7a997920b831f8147c99d/nvidia_cufft_cu12-11.3.0.4-py3-none-manylinux2014_x86_64.manylinux_2_17_x86_64.whl.metadata\n",
      "  Downloading nvidia_cufft_cu12-11.3.0.4-py3-none-manylinux2014_x86_64.manylinux_2_17_x86_64.whl.metadata (1.5 kB)\n",
      "Collecting nvidia-curand-cu12==10.3.7.77 (from torch>=1.11.0->sentence-transformers)\n",
      "  Obtaining dependency information for nvidia-curand-cu12==10.3.7.77 from https://files.pythonhosted.org/packages/73/1b/44a01c4e70933637c93e6e1a8063d1e998b50213a6b65ac5a9169c47e98e/nvidia_curand_cu12-10.3.7.77-py3-none-manylinux2014_x86_64.manylinux_2_17_x86_64.whl.metadata\n",
      "  Downloading nvidia_curand_cu12-10.3.7.77-py3-none-manylinux2014_x86_64.manylinux_2_17_x86_64.whl.metadata (1.5 kB)\n",
      "Collecting nvidia-cusolver-cu12==11.7.1.2 (from torch>=1.11.0->sentence-transformers)\n",
      "  Obtaining dependency information for nvidia-cusolver-cu12==11.7.1.2 from https://files.pythonhosted.org/packages/f0/6e/c2cf12c9ff8b872e92b4a5740701e51ff17689c4d726fca91875b07f655d/nvidia_cusolver_cu12-11.7.1.2-py3-none-manylinux2014_x86_64.manylinux_2_17_x86_64.whl.metadata\n",
      "  Downloading nvidia_cusolver_cu12-11.7.1.2-py3-none-manylinux2014_x86_64.manylinux_2_17_x86_64.whl.metadata (1.6 kB)\n",
      "Collecting nvidia-cusparse-cu12==12.5.4.2 (from torch>=1.11.0->sentence-transformers)\n",
      "  Obtaining dependency information for nvidia-cusparse-cu12==12.5.4.2 from https://files.pythonhosted.org/packages/06/1e/b8b7c2f4099a37b96af5c9bb158632ea9e5d9d27d7391d7eb8fc45236674/nvidia_cusparse_cu12-12.5.4.2-py3-none-manylinux2014_x86_64.manylinux_2_17_x86_64.whl.metadata\n",
      "  Downloading nvidia_cusparse_cu12-12.5.4.2-py3-none-manylinux2014_x86_64.manylinux_2_17_x86_64.whl.metadata (1.6 kB)\n",
      "Collecting nvidia-cusparselt-cu12==0.6.3 (from torch>=1.11.0->sentence-transformers)\n",
      "  Obtaining dependency information for nvidia-cusparselt-cu12==0.6.3 from https://files.pythonhosted.org/packages/3b/9a/72ef35b399b0e183bc2e8f6f558036922d453c4d8237dab26c666a04244b/nvidia_cusparselt_cu12-0.6.3-py3-none-manylinux2014_x86_64.whl.metadata\n",
      "  Downloading nvidia_cusparselt_cu12-0.6.3-py3-none-manylinux2014_x86_64.whl.metadata (6.8 kB)\n",
      "Collecting nvidia-nccl-cu12==2.26.2 (from torch>=1.11.0->sentence-transformers)\n",
      "  Obtaining dependency information for nvidia-nccl-cu12==2.26.2 from https://files.pythonhosted.org/packages/67/ca/f42388aed0fddd64ade7493dbba36e1f534d4e6fdbdd355c6a90030ae028/nvidia_nccl_cu12-2.26.2-py3-none-manylinux2014_x86_64.manylinux_2_17_x86_64.whl.metadata\n",
      "  Downloading nvidia_nccl_cu12-2.26.2-py3-none-manylinux2014_x86_64.manylinux_2_17_x86_64.whl.metadata (2.0 kB)\n",
      "Collecting nvidia-nvtx-cu12==12.6.77 (from torch>=1.11.0->sentence-transformers)\n",
      "  Obtaining dependency information for nvidia-nvtx-cu12==12.6.77 from https://files.pythonhosted.org/packages/56/9a/fff8376f8e3d084cd1530e1ef7b879bb7d6d265620c95c1b322725c694f4/nvidia_nvtx_cu12-12.6.77-py3-none-manylinux2014_x86_64.manylinux_2_17_x86_64.whl.metadata\n",
      "  Downloading nvidia_nvtx_cu12-12.6.77-py3-none-manylinux2014_x86_64.manylinux_2_17_x86_64.whl.metadata (1.6 kB)\n",
      "Collecting nvidia-nvjitlink-cu12==12.6.85 (from torch>=1.11.0->sentence-transformers)\n",
      "  Obtaining dependency information for nvidia-nvjitlink-cu12==12.6.85 from https://files.pythonhosted.org/packages/9d/d7/c5383e47c7e9bf1c99d5bd2a8c935af2b6d705ad831a7ec5c97db4d82f4f/nvidia_nvjitlink_cu12-12.6.85-py3-none-manylinux2010_x86_64.manylinux_2_12_x86_64.whl.metadata\n",
      "  Downloading nvidia_nvjitlink_cu12-12.6.85-py3-none-manylinux2010_x86_64.manylinux_2_12_x86_64.whl.metadata (1.5 kB)\n",
      "Collecting nvidia-cufile-cu12==1.11.1.6 (from torch>=1.11.0->sentence-transformers)\n",
      "  Obtaining dependency information for nvidia-cufile-cu12==1.11.1.6 from https://files.pythonhosted.org/packages/b2/66/cc9876340ac68ae71b15c743ddb13f8b30d5244af344ec8322b449e35426/nvidia_cufile_cu12-1.11.1.6-py3-none-manylinux2014_x86_64.manylinux_2_17_x86_64.whl.metadata\n",
      "  Downloading nvidia_cufile_cu12-1.11.1.6-py3-none-manylinux2014_x86_64.manylinux_2_17_x86_64.whl.metadata (1.5 kB)\n",
      "Collecting triton==3.3.1 (from torch>=1.11.0->sentence-transformers)\n",
      "  Obtaining dependency information for triton==3.3.1 from https://files.pythonhosted.org/packages/21/2f/3e56ea7b58f80ff68899b1dbe810ff257c9d177d288c6b0f55bf2fe4eb50/triton-3.3.1-cp311-cp311-manylinux_2_27_x86_64.manylinux_2_28_x86_64.whl.metadata\n",
      "  Downloading triton-3.3.1-cp311-cp311-manylinux_2_27_x86_64.manylinux_2_28_x86_64.whl.metadata (1.5 kB)\n",
      "Requirement already satisfied: setuptools>=40.8.0 in /databricks/python3/lib/python3.11/site-packages (from triton==3.3.1->torch>=1.11.0->sentence-transformers) (68.0.0)\n",
      "Requirement already satisfied: charset-normalizer<4,>=2 in /databricks/python3/lib/python3.11/site-packages (from requests->transformers) (2.0.4)\n",
      "Requirement already satisfied: idna<4,>=2.5 in /databricks/python3/lib/python3.11/site-packages (from requests->transformers) (3.4)\n",
      "Requirement already satisfied: urllib3<3,>=1.21.1 in /databricks/python3/lib/python3.11/site-packages (from requests->transformers) (1.26.16)\n",
      "Requirement already satisfied: certifi>=2017.4.17 in /databricks/python3/lib/python3.11/site-packages (from requests->transformers) (2023.7.22)\n",
      "Requirement already satisfied: joblib>=1.1.1 in /databricks/python3/lib/python3.11/site-packages (from scikit-learn->sentence-transformers) (1.2.0)\n",
      "Requirement already satisfied: threadpoolctl>=2.0.0 in /databricks/python3/lib/python3.11/site-packages (from scikit-learn->sentence-transformers) (2.2.0)\n",
      "Collecting mpmath<1.4,>=1.1.0 (from sympy>=1.13.3->torch>=1.11.0->sentence-transformers)\n",
      "  Obtaining dependency information for mpmath<1.4,>=1.1.0 from https://files.pythonhosted.org/packages/43/e3/7d92a15f894aa0c9c4b49b8ee9ac9850d6e63b03c9c32c0367a13ae62209/mpmath-1.3.0-py3-none-any.whl.metadata\n",
      "  Downloading mpmath-1.3.0-py3-none-any.whl.metadata (8.6 kB)\n",
      "Collecting MarkupSafe>=2.0 (from jinja2->torch>=1.11.0->sentence-transformers)\n",
      "  Obtaining dependency information for MarkupSafe>=2.0 from https://files.pythonhosted.org/packages/f1/a4/aefb044a2cd8d7334c8a47d3fb2c9f328ac48cb349468cc31c20b539305f/MarkupSafe-3.0.2-cp311-cp311-manylinux_2_17_x86_64.manylinux2014_x86_64.whl.metadata\n",
      "  Downloading MarkupSafe-3.0.2-cp311-cp311-manylinux_2_17_x86_64.manylinux2014_x86_64.whl.metadata (4.0 kB)\n",
      "Downloading sentence_transformers-5.0.0-py3-none-any.whl (470 kB)\n",
      "\u001b[?25l   \u001b[90m━━━━━━━━━━━━━━━━━━━━━━━━━━━━━━━━━━━━━━━━\u001b[0m \u001b[32m0.0/470.2 kB\u001b[0m \u001b[31m?\u001b[0m eta \u001b[36m-:--:--\u001b[0m\n",
      "\u001b[2K   \u001b[91m━━━━━━━━━━━━━━━━━━━━━━━━━━━━━━━━━\u001b[0m\u001b[90m╺\u001b[0m\u001b[90m━━━━━━\u001b[0m \u001b[32m389.1/470.2 kB\u001b[0m \u001b[31m11.5 MB/s\u001b[0m eta \u001b[36m0:00:01\u001b[0m\n",
      "\u001b[2K   \u001b[90m━━━━━━━━━━━━━━━━━━━━━━━━━━━━━━━━━━━━━━━━\u001b[0m \u001b[32m470.2/470.2 kB\u001b[0m \u001b[31m9.1 MB/s\u001b[0m eta \u001b[36m0:00:00\u001b[0m\n",
      "\u001b[?25hDownloading transformers-4.53.0-py3-none-any.whl (10.8 MB)\n",
      "\u001b[?25l   \u001b[90m━━━━━━━━━━━━━━━━━━━━━━━━━━━━━━━━━━━━━━━━\u001b[0m \u001b[32m0.0/10.8 MB\u001b[0m \u001b[31m?\u001b[0m eta \u001b[36m-:--:--\u001b[0m\n",
      "\u001b[2K   \u001b[91m━\u001b[0m\u001b[91m╸\u001b[0m\u001b[90m━━━━━━━━━━━━━━━━━━━━━━━━━━━━━━━━━━━━━━\u001b[0m \u001b[32m0.5/10.8 MB\u001b[0m \u001b[31m15.7 MB/s\u001b[0m eta \u001b[36m0:00:01\u001b[0m\n",
      "\u001b[2K   \u001b[91m━━━━\u001b[0m\u001b[90m╺\u001b[0m\u001b[90m━━━━━━━━━━━━━━━━━━━━━━━━━━━━━━━━━━━\u001b[0m \u001b[32m1.2/10.8 MB\u001b[0m \u001b[31m17.1 MB/s\u001b[0m eta \u001b[36m0:00:01\u001b[0m\n",
      "\u001b[2K   \u001b[91m━━━━━━━\u001b[0m\u001b[91m╸\u001b[0m\u001b[90m━━━━━━━━━━━━━━━━━━━━━━━━━━━━━━━━\u001b[0m \u001b[32m2.1/10.8 MB\u001b[0m \u001b[31m19.9 MB/s\u001b[0m eta \u001b[36m0:00:01\u001b[0m\n",
      "\u001b[2K   \u001b[91m━━━━━━━━━━━━\u001b[0m\u001b[91m╸\u001b[0m\u001b[90m━━━━━━━━━━━━━━━━━━━━━━━━━━━\u001b[0m \u001b[32m3.4/10.8 MB\u001b[0m \u001b[31m17.4 MB/s\u001b[0m eta \u001b[36m0:00:01\u001b[0m\n",
      "\u001b[2K   \u001b[91m━━━━━━━━━━━━━━━━━\u001b[0m\u001b[90m╺\u001b[0m\u001b[90m━━━━━━━━━━━━━━━━━━━━━━\u001b[0m \u001b[32m4.7/10.8 MB\u001b[0m \u001b[31m20.6 MB/s\u001b[0m eta \u001b[36m0:00:01\u001b[0m\n",
      "\u001b[2K   \u001b[91m━━━━━━━━━━━━━━━━━━━━━━━━\u001b[0m\u001b[91m╸\u001b[0m\u001b[90m━━━━━━━━━━━━━━━\u001b[0m \u001b[32m6.7/10.8 MB\u001b[0m \u001b[31m25.5 MB/s\u001b[0m eta \u001b[36m0:00:01\u001b[0m\n",
      "\u001b[2K   \u001b[91m━━━━━━━━━━━━━━━━━━━━━━━━━━━━━━━━━━\u001b[0m\u001b[91m╸\u001b[0m\u001b[90m━━━━━\u001b[0m \u001b[32m9.4/10.8 MB\u001b[0m \u001b[31m31.6 MB/s\u001b[0m eta \u001b[36m0:00:01\u001b[0m\n",
      "\u001b[2K   \u001b[91m━━━━━━━━━━━━━━━━━━━━━━━━━━━━━━━━━━━━━━━\u001b[0m\u001b[91m╸\u001b[0m \u001b[32m10.8/10.8 MB\u001b[0m \u001b[31m36.9 MB/s\u001b[0m eta \u001b[36m0:00:01\u001b[0m\n",
      "\u001b[2K   \u001b[90m━━━━━━━━━━━━━━━━━━━━━━━━━━━━━━━━━━━━━━━━\u001b[0m \u001b[32m10.8/10.8 MB\u001b[0m \u001b[31m30.8 MB/s\u001b[0m eta \u001b[36m0:00:00\u001b[0m\n",
      "\u001b[?25hDownloading accelerate-1.8.1-py3-none-any.whl (365 kB)\n",
      "\u001b[?25l   \u001b[90m━━━━━━━━━━━━━━━━━━━━━━━━━━━━━━━━━━━━━━━━\u001b[0m \u001b[32m0.0/365.3 kB\u001b[0m \u001b[31m?\u001b[0m eta \u001b[36m-:--:--\u001b[0m\n",
      "\u001b[2K   \u001b[90m━━━━━━━━━━━━━━━━━━━━━━━━━━━━━━━━━━━━━━━━\u001b[0m \u001b[32m365.3/365.3 kB\u001b[0m \u001b[31m27.6 MB/s\u001b[0m eta \u001b[36m0:00:00\u001b[0m\n",
      "\u001b[?25hDownloading huggingface_hub-0.33.2-py3-none-any.whl (515 kB)\n",
      "\u001b[?25l   \u001b[90m━━━━━━━━━━━━━━━━━━━━━━━━━━━━━━━━━━━━━━━━\u001b[0m \u001b[32m0.0/515.4 kB\u001b[0m \u001b[31m?\u001b[0m eta \u001b[36m-:--:--\u001b[0m\n",
      "\u001b[2K   \u001b[90m━━━━━━━━━━━━━━━━━━━━━━━━━━━━━━━━━━━━━━━━\u001b[0m \u001b[32m515.4/515.4 kB\u001b[0m \u001b[31m25.3 MB/s\u001b[0m eta \u001b[36m0:00:00\u001b[0m\n",
      "\u001b[?25hDownloading regex-2024.11.6-cp311-cp311-manylinux_2_17_x86_64.manylinux2014_x86_64.whl (792 kB)\n",
      "\u001b[?25l   \u001b[90m━━━━━━━━━━━━━━━━━━━━━━━━━━━━━━━━━━━━━━━━\u001b[0m \u001b[32m0.0/792.7 kB\u001b[0m \u001b[31m?\u001b[0m eta \u001b[36m-:--:--\u001b[0m\n",
      "\u001b[2K   \u001b[90m━━━━━━━━━━━━━━━━━━━━━━━━━━━━━━━━━━━━━━━━\u001b[0m \u001b[32m792.7/792.7 kB\u001b[0m \u001b[31m38.4 MB/s\u001b[0m eta \u001b[36m0:00:00\u001b[0m\n",
      "\u001b[?25hDownloading safetensors-0.5.3-cp38-abi3-manylinux_2_17_x86_64.manylinux2014_x86_64.whl (471 kB)\n",
      "\u001b[?25l   \u001b[90m━━━━━━━━━━━━━━━━━━━━━━━━━━━━━━━━━━━━━━━━\u001b[0m \u001b[32m0.0/471.6 kB\u001b[0m \u001b[31m?\u001b[0m eta \u001b[36m-:--:--\u001b[0m\n",
      "\u001b[2K   \u001b[90m━━━━━━━━━━━━━━━━━━━━━━━━━━━━━━━━━━━━━━━━\u001b[0m \u001b[32m471.6/471.6 kB\u001b[0m \u001b[31m50.6 MB/s\u001b[0m eta \u001b[36m0:00:00\u001b[0m\n",
      "\u001b[?25hDownloading tokenizers-0.21.2-cp39-abi3-manylinux_2_17_x86_64.manylinux2014_x86_64.whl (3.1 MB)\n",
      "\u001b[?25l   \u001b[90m━━━━━━━━━━━━━━━━━━━━━━━━━━━━━━━━━━━━━━━━\u001b[0m \u001b[32m0.0/3.1 MB\u001b[0m \u001b[31m?\u001b[0m eta \u001b[36m-:--:--\u001b[0m\n",
      "\u001b[2K   \u001b[91m━━━━━━━━━━━━━━━━━━━━━━━━━━━━━━━━━━━━━━━\u001b[0m\u001b[91m╸\u001b[0m \u001b[32m3.1/3.1 MB\u001b[0m \u001b[31m129.2 MB/s\u001b[0m eta \u001b[36m0:00:01\u001b[0m\n",
      "\u001b[2K   \u001b[90m━━━━━━━━━━━━━━━━━━━━━━━━━━━━━━━━━━━━━━━━\u001b[0m \u001b[32m3.1/3.1 MB\u001b[0m \u001b[31m59.3 MB/s\u001b[0m eta \u001b[36m0:00:00\u001b[0m\n",
      "\u001b[?25hDownloading torch-2.7.1-cp311-cp311-manylinux_2_28_x86_64.whl (821.2 MB)\n",
      "\u001b[?25l   \u001b[90m━━━━━━━━━━━━━━━━━━━━━━━━━━━━━━━━━━━━━━━━\u001b[0m \u001b[32m0.0/821.2 MB\u001b[0m \u001b[31m?\u001b[0m eta \u001b[36m-:--:--\u001b[0m\n",
      "\u001b[2K   \u001b[90m━━━━━━━━━━━━━━━━━━━━━━━━━━━━━━━━━━━━━━━━\u001b[0m \u001b[32m5.5/821.2 MB\u001b[0m \u001b[31m164.9 MB/s\u001b[0m eta \u001b[36m0:00:05\u001b[0m\n",
      "\u001b[2K   \u001b[91m╸\u001b[0m\u001b[90m━━━━━━━━━━━━━━━━━━━━━━━━━━━━━━━━━━━━━━━\u001b[0m \u001b[32m12.4/821.2 MB\u001b[0m \u001b[31m188.4 MB/s\u001b[0m eta \u001b[36m0:00:05\u001b[0m\n",
      "\u001b[2K   \u001b[91m━\u001b[0m\u001b[90m╺\u001b[0m\u001b[90m━━━━━━━━━━━━━━━━━━━━━━━━━━━━━━━━━━━━━━\u001b[0m \u001b[32m21.8/821.2 MB\u001b[0m \u001b[31m264.2 MB/s\u001b[0m eta \u001b[36m0:00:04\u001b[0m\n",
      "\u001b[2K   \u001b[91m━\u001b[0m\u001b[90m╺\u001b[0m\u001b[90m━━━━━━━━━━━━━━━━━━━━━━━━━━━━━━━━━━━━━━\u001b[0m \u001b[32m30.5/821.2 MB\u001b[0m \u001b[31m250.7 MB/s\u001b[0m eta \u001b[36m0:00:04\u001b[0m\n",
      "\u001b[2K   \u001b[91m━\u001b[0m\u001b[91m╸\u001b[0m\u001b[90m━━━━━━━━━━━━━━━━━━━━━━━━━━━━━━━━━━━━━━\u001b[0m \u001b[32m39.7/821.2 MB\u001b[0m \u001b[31m258.9 MB/s\u001b[0m eta \u001b[36m0:00:04\u001b[0m\n",
      "\u001b[2K   \u001b[91m━━\u001b[0m\u001b[90m╺\u001b[0m\u001b[90m━━━━━━━━━━━━━━━━━━━━━━━━━━━━━━━━━━━━━\u001b[0m \u001b[32m48.0/821.2 MB\u001b[0m \u001b[31m229.3 MB/s\u001b[0m eta \u001b[36m0:00:04\u001b[0m\n",
      "\u001b[2K   \u001b[91m━━\u001b[0m\u001b[91m╸\u001b[0m\u001b[90m━━━━━━━━━━━━━━━━━━━━━━━━━━━━━━━━━━━━━\u001b[0m \u001b[32m57.6/821.2 MB\u001b[0m \u001b[31m262.2 MB/s\u001b[0m eta \u001b[36m0:00:03\u001b[0m\n",
      "\u001b[2K   \u001b[91m━━━\u001b[0m\u001b[90m╺\u001b[0m\u001b[90m━━━━━━━━━━━━━━━━━━━━━━━━━━━━━━━━━━━━\u001b[0m \u001b[32m67.6/821.2 MB\u001b[0m \u001b[31m286.0 MB/s\u001b[0m eta \u001b[36m0:00:03\u001b[0m\n",
      "\u001b[2K   \u001b[91m━━━\u001b[0m\u001b[91m╸\u001b[0m\u001b[90m━━━━━━━━━━━━━━━━━━━━━━━━━━━━━━━━━━━━\u001b[0m \u001b[32m77.4/821.2 MB\u001b[0m \u001b[31m280.5 MB/s\u001b[0m eta \u001b[36m0:00:03\u001b[0m\n",
      "\u001b[2K   \u001b[91m━━━━\u001b[0m\u001b[90m╺\u001b[0m\u001b[90m━━━━━━━━━━━━━━━━━━━━━━━━━━━━━━━━━━━\u001b[0m \u001b[32m87.9/821.2 MB\u001b[0m \u001b[31m319.0 MB/s\u001b[0m eta \u001b[36m0:00:03\u001b[0m\n",
      "\u001b[2K   \u001b[91m━━━━\u001b[0m\u001b[91m╸\u001b[0m\u001b[90m━━━━━━━━━━━━━━━━━━━━━━━━━━━━━━━━━━━\u001b[0m \u001b[32m96.8/821.2 MB\u001b[0m \u001b[31m265.2 MB/s\u001b[0m eta \u001b[36m0:00:03\u001b[0m\n",
      "\u001b[2K   \u001b[91m━━━━━\u001b[0m\u001b[90m╺\u001b[0m\u001b[90m━━━━━━━━━━━━━━━━━━━━━━━━━━━━━━━━━\u001b[0m \u001b[32m105.7/821.2 MB\u001b[0m \u001b[31m249.0 MB/s\u001b[0m eta \u001b[36m0:00:03\u001b[0m\n",
      "\u001b[2K   \u001b[91m━━━━━\u001b[0m\u001b[90m╺\u001b[0m\u001b[90m━━━━━━━━━━━━━━━━━━━━━━━━━━━━━━━━━\u001b[0m \u001b[32m115.2/821.2 MB\u001b[0m \u001b[31m269.2 MB/s\u001b[0m eta \u001b[36m0:00:03\u001b[0m\n",
      "\u001b[2K   \u001b[91m━━━━━\u001b[0m\u001b[91m╸\u001b[0m\u001b[90m━━━━━━━━━━━━━━━━━━━━━━━━━━━━━━━━━\u001b[0m \u001b[32m124.2/821.2 MB\u001b[0m \u001b[31m265.1 MB/s\u001b[0m eta \u001b[36m0:00:03\u001b[0m\n",
      "\u001b[2K   \u001b[91m━━━━━━\u001b[0m\u001b[90m╺\u001b[0m\u001b[90m━━━━━━━━━━━━━━━━━━━━━━━━━━━━━━━━\u001b[0m \u001b[32m133.1/821.2 MB\u001b[0m \u001b[31m242.8 MB/s\u001b[0m eta \u001b[36m0:00:03\u001b[0m\n",
      "\u001b[2K   \u001b[91m━━━━━━\u001b[0m\u001b[91m╸\u001b[0m\u001b[90m━━━━━━━━━━━━━━━━━━━━━━━━━━━━━━━━\u001b[0m \u001b[32m143.6/821.2 MB\u001b[0m \u001b[31m315.7 MB/s\u001b[0m eta \u001b[36m0:00:03\u001b[0m\n",
      "\u001b[2K   \u001b[91m━━━━━━━\u001b[0m\u001b[90m╺\u001b[0m\u001b[90m━━━━━━━━━━━━━━━━━━━━━━━━━━━━━━━\u001b[0m \u001b[32m153.4/821.2 MB\u001b[0m \u001b[31m281.5 MB/s\u001b[0m eta \u001b[36m0:00:03\u001b[0m\n",
      "\u001b[2K   \u001b[91m━━━━━━━\u001b[0m\u001b[91m╸\u001b[0m\u001b[90m━━━━━━━━━━━━━━━━━━━━━━━━━━━━━━━\u001b[0m \u001b[32m163.2/821.2 MB\u001b[0m \u001b[31m281.4 MB/s\u001b[0m eta \u001b[36m0:00:03\u001b[0m\n",
      "\u001b[2K   \u001b[91m━━━━━━━━\u001b[0m\u001b[90m╺\u001b[0m\u001b[90m━━━━━━━━━━━━━━━━━━━━━━━━━━━━━━\u001b[0m \u001b[32m172.2/821.2 MB\u001b[0m \u001b[31m259.5 MB/s\u001b[0m eta \u001b[36m0:00:03\u001b[0m\n",
      "\u001b[2K   \u001b[91m━━━━━━━━\u001b[0m\u001b[91m╸\u001b[0m\u001b[90m━━━━━━━━━━━━━━━━━━━━━━━━━━━━━━\u001b[0m \u001b[32m181.2/821.2 MB\u001b[0m \u001b[31m258.9 MB/s\u001b[0m eta \u001b[36m0:00:03\u001b[0m\n",
      "\u001b[2K   \u001b[91m━━━━━━━━━\u001b[0m\u001b[90m╺\u001b[0m\u001b[90m━━━━━━━━━━━━━━━━━━━━━━━━━━━━━\u001b[0m \u001b[32m189.8/821.2 MB\u001b[0m \u001b[31m245.4 MB/s\u001b[0m eta \u001b[36m0:00:03\u001b[0m\n",
      "\u001b[2K   \u001b[91m━━━━━━━━━\u001b[0m\u001b[90m╺\u001b[0m\u001b[90m━━━━━━━━━━━━━━━━━━━━━━━━━━━━━\u001b[0m \u001b[32m199.0/821.2 MB\u001b[0m \u001b[31m260.8 MB/s\u001b[0m eta \u001b[36m0:00:03\u001b[0m\n",
      "\u001b[2K   \u001b[91m━━━━━━━━━\u001b[0m\u001b[91m╸\u001b[0m\u001b[90m━━━━━━━━━━━━━━━━━━━━━━━━━━━━━\u001b[0m \u001b[32m207.8/821.2 MB\u001b[0m \u001b[31m252.4 MB/s\u001b[0m eta \u001b[36m0:00:03\u001b[0m\n",
      "\u001b[2K   \u001b[91m━━━━━━━━━━\u001b[0m\u001b[90m╺\u001b[0m\u001b[90m━━━━━━━━━━━━━━━━━━━━━━━━━━━━\u001b[0m \u001b[32m217.9/821.2 MB\u001b[0m \u001b[31m290.3 MB/s\u001b[0m eta \u001b[36m0:00:03\u001b[0m\n",
      "\u001b[2K   \u001b[91m━━━━━━━━━━\u001b[0m\u001b[91m╸\u001b[0m\u001b[90m━━━━━━━━━━━━━━━━━━━━━━━━━━━━\u001b[0m \u001b[32m226.4/821.2 MB\u001b[0m \u001b[31m251.3 MB/s\u001b[0m eta \u001b[36m0:00:03\u001b[0m\n",
      "\u001b[2K   \u001b[91m━━━━━━━━━━━\u001b[0m\u001b[90m╺\u001b[0m\u001b[90m━━━━━━━━━━━━━━━━━━━━━━━━━━━\u001b[0m \u001b[32m234.5/821.2 MB\u001b[0m \u001b[31m222.4 MB/s\u001b[0m eta \u001b[36m0:00:03\u001b[0m\n",
      "\u001b[2K   \u001b[91m━━━━━━━━━━━\u001b[0m\u001b[91m╸\u001b[0m\u001b[90m━━━━━━━━━━━━━━━━━━━━━━━━━━━\u001b[0m \u001b[32m244.3/821.2 MB\u001b[0m \u001b[31m276.6 MB/s\u001b[0m eta \u001b[36m0:00:03\u001b[0m\n",
      "\u001b[2K   \u001b[91m━━━━━━━━━━━\u001b[0m\u001b[91m╸\u001b[0m\u001b[90m━━━━━━━━━━━━━━━━━━━━━━━━━━━\u001b[0m \u001b[32m247.8/821.2 MB\u001b[0m \u001b[31m293.3 MB/s\u001b[0m eta \u001b[36m0:00:02\u001b[0m\n",
      "\u001b[2K   \u001b[91m━━━━━━━━━━━\u001b[0m\u001b[91m╸\u001b[0m\u001b[90m━━━━━━━━━━━━━━━━━━━━━━━━━━━\u001b[0m \u001b[32m247.8/821.2 MB\u001b[0m \u001b[31m293.3 MB/s\u001b[0m eta \u001b[36m0:00:02\u001b[0m\n",
      "\u001b[2K   \u001b[91m━━━━━━━━━━━\u001b[0m\u001b[91m╸\u001b[0m\u001b[90m━━━━━━━━━━━━━━━━━━━━━━━━━━━\u001b[0m \u001b[32m247.8/821.2 MB\u001b[0m \u001b[31m293.3 MB/s\u001b[0m eta \u001b[36m0:00:02\u001b[0m\n",
      "\u001b[2K   \u001b[91m━━━━━━━━━━━\u001b[0m\u001b[91m╸\u001b[0m\u001b[90m━━━━━━━━━━━━━━━━━━━━━━━━━━━\u001b[0m \u001b[32m247.8/821.2 MB\u001b[0m \u001b[31m293.3 MB/s\u001b[0m eta \u001b[36m0:00:02\u001b[0m\n",
      "\u001b[2K   \u001b[91m━━━━━━━━━━━\u001b[0m\u001b[91m╸\u001b[0m\u001b[90m━━━━━━━━━━━━━━━━━━━━━━━━━━━\u001b[0m \u001b[32m247.8/821.2 MB\u001b[0m \u001b[31m293.3 MB/s\u001b[0m eta \u001b[36m0:00:02\u001b[0m\n",
      "\u001b[2K   \u001b[91m━━━━━━━━━━━\u001b[0m\u001b[91m╸\u001b[0m\u001b[90m━━━━━━━━━━━━━━━━━━━━━━━━━━━\u001b[0m \u001b[32m247.8/821.2 MB\u001b[0m \u001b[31m293.3 MB/s\u001b[0m eta \u001b[36m0:00:02\u001b[0m\n",
      "\u001b[2K   \u001b[91m━━━━━━━━━━━\u001b[0m\u001b[91m╸\u001b[0m\u001b[90m━━━━━━━━━━━━━━━━━━━━━━━━━━━\u001b[0m \u001b[32m247.8/821.2 MB\u001b[0m \u001b[31m293.3 MB/s\u001b[0m eta \u001b[36m0:00:02\u001b[0m\n",
      "\u001b[2K   \u001b[91m━━━━━━━━━━━\u001b[0m\u001b[91m╸\u001b[0m\u001b[90m━━━━━━━━━━━━━━━━━━━━━━━━━━━\u001b[0m \u001b[32m247.8/821.2 MB\u001b[0m \u001b[31m293.3 MB/s\u001b[0m eta \u001b[36m0:00:02\u001b[0m\n",
      "\u001b[2K   \u001b[91m━━━━━━━━━━━━\u001b[0m\u001b[90m╺\u001b[0m\u001b[90m━━━━━━━━━━━━━━━━━━━━━━━━━━━\u001b[0m \u001b[32m247.9/821.2 MB\u001b[0m \u001b[31m30.4 MB/s\u001b[0m eta \u001b[36m0:00:19\u001b[0m\n",
      "\u001b[2K   \u001b[91m━━━━━━━━━━━━\u001b[0m\u001b[90m╺\u001b[0m\u001b[90m━━━━━━━━━━━━━━━━━━━━━━━━━━━\u001b[0m \u001b[32m252.7/821.2 MB\u001b[0m \u001b[31m28.8 MB/s\u001b[0m eta \u001b[36m0:00:20\u001b[0m\n",
      "\u001b[2K   \u001b[91m━━━━━━━━━━━━\u001b[0m\u001b[90m╺\u001b[0m\u001b[90m━━━━━━━━━━━━━━━━━━━━━━━━━━\u001b[0m \u001b[32m262.1/821.2 MB\u001b[0m \u001b[31m260.6 MB/s\u001b[0m eta \u001b[36m0:00:03\u001b[0m\n",
      "\u001b[2K   \u001b[91m━━━━━━━━━━━━\u001b[0m\u001b[91m╸\u001b[0m\u001b[90m━━━━━━━━━━━━━━━━\n",
      "\n",
      "*** WARNING: max output size exceeded, skipping output. ***\n",
      "\n",
      "m\u001b[91m╸\u001b[0m \u001b[32m201.3/201.3 MB\u001b[0m \u001b[31m258.9 MB/s\u001b[0m eta \u001b[36m0:00:01\u001b[0m\n",
      "\u001b[2K   \u001b[91m━━━━━━━━━━━━━━━━━━━━━━━━━━━━━━━━━━━━━━\u001b[0m\u001b[91m╸\u001b[0m \u001b[32m201.3/201.3 MB\u001b[0m \u001b[31m258.9 MB/s\u001b[0m eta \u001b[36m0:00:01\u001b[0m\n",
      "\u001b[2K   \u001b[91m━━━━━━━━━━━━━━━━━━━━━━━━━━━━━━━━━━━━━━\u001b[0m\u001b[91m╸\u001b[0m \u001b[32m201.3/201.3 MB\u001b[0m \u001b[31m258.9 MB/s\u001b[0m eta \u001b[36m0:00:01\u001b[0m\n",
      "\u001b[2K   \u001b[91m━━━━━━━━━━━━━━━━━━━━━━━━━━━━━━━━━━━━━━\u001b[0m\u001b[91m╸\u001b[0m \u001b[32m201.3/201.3 MB\u001b[0m \u001b[31m258.9 MB/s\u001b[0m eta \u001b[36m0:00:01\u001b[0m\n",
      "\u001b[2K   \u001b[91m━━━━━━━━━━━━━━━━━━━━━━━━━━━━━━━━━━━━━━\u001b[0m\u001b[91m╸\u001b[0m \u001b[32m201.3/201.3 MB\u001b[0m \u001b[31m258.9 MB/s\u001b[0m eta \u001b[36m0:00:01\u001b[0m\n",
      "\u001b[2K   \u001b[91m━━━━━━━━━━━━━━━━━━━━━━━━━━━━━━━━━━━━━━\u001b[0m\u001b[91m╸\u001b[0m \u001b[32m201.3/201.3 MB\u001b[0m \u001b[31m258.9 MB/s\u001b[0m eta \u001b[36m0:00:01\u001b[0m\n",
      "\u001b[2K   \u001b[91m━━━━━━━━━━━━━━━━━━━━━━━━━━━━━━━━━━━━━━\u001b[0m\u001b[91m╸\u001b[0m \u001b[32m201.3/201.3 MB\u001b[0m \u001b[31m258.9 MB/s\u001b[0m eta \u001b[36m0:00:01\u001b[0m\n",
      "\u001b[2K   \u001b[91m━━━━━━━━━━━━━━━━━━━━━━━━━━━━━━━━━━━━━━\u001b[0m\u001b[91m╸\u001b[0m \u001b[32m201.3/201.3 MB\u001b[0m \u001b[31m258.9 MB/s\u001b[0m eta \u001b[36m0:00:01\u001b[0m\n",
      "\u001b[2K   \u001b[91m━━━━━━━━━━━━━━━━━━━━━━━━━━━━━━━━━━━━━━\u001b[0m\u001b[91m╸\u001b[0m \u001b[32m201.3/201.3 MB\u001b[0m \u001b[31m258.9 MB/s\u001b[0m eta \u001b[36m0:00:01\u001b[0m\n",
      "\u001b[2K   \u001b[91m━━━━━━━━━━━━━━━━━━━━━━━━━━━━━━━━━━━━━━\u001b[0m\u001b[91m╸\u001b[0m \u001b[32m201.3/201.3 MB\u001b[0m \u001b[31m258.9 MB/s\u001b[0m eta \u001b[36m0:00:01\u001b[0m\n",
      "\u001b[2K   \u001b[91m━━━━━━━━━━━━━━━━━━━━━━━━━━━━━━━━━━━━━━\u001b[0m\u001b[91m╸\u001b[0m \u001b[32m201.3/201.3 MB\u001b[0m \u001b[31m258.9 MB/s\u001b[0m eta \u001b[36m0:00:01\u001b[0m\n",
      "\u001b[2K   \u001b[91m━━━━━━━━━━━━━━━━━━━━━━━━━━━━━━━━━━━━━━\u001b[0m\u001b[91m╸\u001b[0m \u001b[32m201.3/201.3 MB\u001b[0m \u001b[31m258.9 MB/s\u001b[0m eta \u001b[36m0:00:01\u001b[0m\n",
      "\u001b[2K   \u001b[91m━━━━━━━━━━━━━━━━━━━━━━━━━━━━━━━━━━━━━━\u001b[0m\u001b[91m╸\u001b[0m \u001b[32m201.3/201.3 MB\u001b[0m \u001b[31m258.9 MB/s\u001b[0m eta \u001b[36m0:00:01\u001b[0m\n",
      "\u001b[2K   \u001b[91m━━━━━━━━━━━━━━━━━━━━━━━━━━━━━━━━━━━━━━\u001b[0m\u001b[91m╸\u001b[0m \u001b[32m201.3/201.3 MB\u001b[0m \u001b[31m258.9 MB/s\u001b[0m eta \u001b[36m0:00:01\u001b[0m\n",
      "\u001b[2K   \u001b[91m━━━━━━━━━━━━━━━━━━━━━━━━━━━━━━━━━━━━━━\u001b[0m\u001b[91m╸\u001b[0m \u001b[32m201.3/201.3 MB\u001b[0m \u001b[31m258.9 MB/s\u001b[0m eta \u001b[36m0:00:01\u001b[0m\n",
      "\u001b[2K   \u001b[91m━━━━━━━━━━━━━━━━━━━━━━━━━━━━━━━━━━━━━━\u001b[0m\u001b[91m╸\u001b[0m \u001b[32m201.3/201.3 MB\u001b[0m \u001b[31m258.9 MB/s\u001b[0m eta \u001b[36m0:00:01\u001b[0m\n",
      "\u001b[2K   \u001b[91m━━━━━━━━━━━━━━━━━━━━━━━━━━━━━━━━━━━━━━\u001b[0m\u001b[91m╸\u001b[0m \u001b[32m201.3/201.3 MB\u001b[0m \u001b[31m258.9 MB/s\u001b[0m eta \u001b[36m0:00:01\u001b[0m\n",
      "\u001b[2K   \u001b[91m━━━━━━━━━━━━━━━━━━━━━━━━━━━━━━━━━━━━━━\u001b[0m\u001b[91m╸\u001b[0m \u001b[32m201.3/201.3 MB\u001b[0m \u001b[31m258.9 MB/s\u001b[0m eta \u001b[36m0:00:01\u001b[0m\n",
      "\u001b[2K   \u001b[91m━━━━━━━━━━━━━━━━━━━━━━━━━━━━━━━━━━━━━━\u001b[0m\u001b[91m╸\u001b[0m \u001b[32m201.3/201.3 MB\u001b[0m \u001b[31m258.9 MB/s\u001b[0m eta \u001b[36m0:00:01\u001b[0m\n",
      "\u001b[2K   \u001b[91m━━━━━━━━━━━━━━━━━━━━━━━━━━━━━━━━━━━━━━\u001b[0m\u001b[91m╸\u001b[0m \u001b[32m201.3/201.3 MB\u001b[0m \u001b[31m258.9 MB/s\u001b[0m eta \u001b[36m0:00:01\u001b[0m\n",
      "\u001b[2K   \u001b[91m━━━━━━━━━━━━━━━━━━━━━━━━━━━━━━━━━━━━━━\u001b[0m\u001b[91m╸\u001b[0m \u001b[32m201.3/201.3 MB\u001b[0m \u001b[31m258.9 MB/s\u001b[0m eta \u001b[36m0:00:01\u001b[0m\n",
      "\u001b[2K   \u001b[91m━━━━━━━━━━━━━━━━━━━━━━━━━━━━━━━━━━━━━━\u001b[0m\u001b[91m╸\u001b[0m \u001b[32m201.3/201.3 MB\u001b[0m \u001b[31m258.9 MB/s\u001b[0m eta \u001b[36m0:00:01\u001b[0m\n",
      "\u001b[2K   \u001b[91m━━━━━━━━━━━━━━━━━━━━━━━━━━━━━━━━━━━━━━\u001b[0m\u001b[91m╸\u001b[0m \u001b[32m201.3/201.3 MB\u001b[0m \u001b[31m258.9 MB/s\u001b[0m eta \u001b[36m0:00:01\u001b[0m\n",
      "\u001b[2K   \u001b[91m━━━━━━━━━━━━━━━━━━━━━━━━━━━━━━━━━━━━━━\u001b[0m\u001b[91m╸\u001b[0m \u001b[32m201.3/201.3 MB\u001b[0m \u001b[31m258.9 MB/s\u001b[0m eta \u001b[36m0:00:01\u001b[0m\n",
      "\u001b[2K   \u001b[91m━━━━━━━━━━━━━━━━━━━━━━━━━━━━━━━━━━━━━━\u001b[0m\u001b[91m╸\u001b[0m \u001b[32m201.3/201.3 MB\u001b[0m \u001b[31m258.9 MB/s\u001b[0m eta \u001b[36m0:00:01\u001b[0m\n",
      "\u001b[2K   \u001b[91m━━━━━━━━━━━━━━━━━━━━━━━━━━━━━━━━━━━━━━\u001b[0m\u001b[91m╸\u001b[0m \u001b[32m201.3/201.3 MB\u001b[0m \u001b[31m258.9 MB/s\u001b[0m eta \u001b[36m0:00:01\u001b[0m\n",
      "\u001b[2K   \u001b[91m━━━━━━━━━━━━━━━━━━━━━━━━━━━━━━━━━━━━━━\u001b[0m\u001b[91m╸\u001b[0m \u001b[32m201.3/201.3 MB\u001b[0m \u001b[31m258.9 MB/s\u001b[0m eta \u001b[36m0:00:01\u001b[0m\n",
      "\u001b[2K   \u001b[91m━━━━━━━━━━━━━━━━━━━━━━━━━━━━━━━━━━━━━━\u001b[0m\u001b[91m╸\u001b[0m \u001b[32m201.3/201.3 MB\u001b[0m \u001b[31m258.9 MB/s\u001b[0m eta \u001b[36m0:00:01\u001b[0m\n",
      "\u001b[2K   \u001b[91m━━━━━━━━━━━━━━━━━━━━━━━━━━━━━━━━━━━━━━\u001b[0m\u001b[91m╸\u001b[0m \u001b[32m201.3/201.3 MB\u001b[0m \u001b[31m258.9 MB/s\u001b[0m eta \u001b[36m0:00:01\u001b[0m\n",
      "\u001b[2K   \u001b[91m━━━━━━━━━━━━━━━━━━━━━━━━━━━━━━━━━━━━━━\u001b[0m\u001b[91m╸\u001b[0m \u001b[32m201.3/201.3 MB\u001b[0m \u001b[31m258.9 MB/s\u001b[0m eta \u001b[36m0:00:01\u001b[0m\n",
      "\u001b[2K   \u001b[91m━━━━━━━━━━━━━━━━━━━━━━━━━━━━━━━━━━━━━━\u001b[0m\u001b[91m╸\u001b[0m \u001b[32m201.3/201.3 MB\u001b[0m \u001b[31m258.9 MB/s\u001b[0m eta \u001b[36m0:00:01\u001b[0m\n",
      "\u001b[2K   \u001b[91m━━━━━━━━━━━━━━━━━━━━━━━━━━━━━━━━━━━━━━\u001b[0m\u001b[91m╸\u001b[0m \u001b[32m201.3/201.3 MB\u001b[0m \u001b[31m258.9 MB/s\u001b[0m eta \u001b[36m0:00:01\u001b[0m\n",
      "\u001b[2K   \u001b[91m━━━━━━━━━━━━━━━━━━━━━━━━━━━━━━━━━━━━━━\u001b[0m\u001b[91m╸\u001b[0m \u001b[32m201.3/201.3 MB\u001b[0m \u001b[31m258.9 MB/s\u001b[0m eta \u001b[36m0:00:01\u001b[0m\n",
      "\u001b[2K   \u001b[90m━━━━━━━━━━━━━━━━━━━━━━━━━━━━━━━━━━━━━━━━\u001b[0m \u001b[32m201.3/201.3 MB\u001b[0m \u001b[31m2.6 MB/s\u001b[0m eta \u001b[36m0:00:00\u001b[0m\n",
      "\u001b[?25hDownloading nvidia_nvjitlink_cu12-12.6.85-py3-none-manylinux2010_x86_64.manylinux_2_12_x86_64.whl (19.7 MB)\n",
      "\u001b[?25l   \u001b[90m━━━━━━━━━━━━━━━━━━━━━━━━━━━━━━━━━━━━━━━━\u001b[0m \u001b[32m0.0/19.7 MB\u001b[0m \u001b[31m?\u001b[0m eta \u001b[36m-:--:--\u001b[0m\n",
      "\u001b[2K   \u001b[91m━━━━━━━━━━━━━━━━━━━\u001b[0m\u001b[90m╺\u001b[0m\u001b[90m━━━━━━━━━━━━━━━━━━━━\u001b[0m \u001b[32m9.4/19.7 MB\u001b[0m \u001b[31m284.0 MB/s\u001b[0m eta \u001b[36m0:00:01\u001b[0m\n",
      "\u001b[2K   \u001b[91m━━━━━━━━━━━━━━━━━━━━━━━━━━━━━━━━━━━━━━━\u001b[0m\u001b[91m╸\u001b[0m \u001b[32m19.7/19.7 MB\u001b[0m \u001b[31m318.4 MB/s\u001b[0m eta \u001b[36m0:00:01\u001b[0m\n",
      "\u001b[2K   \u001b[91m━━━━━━━━━━━━━━━━━━━━━━━━━━━━━━━━━━━━━━━\u001b[0m\u001b[91m╸\u001b[0m \u001b[32m19.7/19.7 MB\u001b[0m \u001b[31m318.4 MB/s\u001b[0m eta \u001b[36m0:00:01\u001b[0m\n",
      "\u001b[2K   \u001b[91m━━━━━━━━━━━━━━━━━━━━━━━━━━━━━━━━━━━━━━━\u001b[0m\u001b[91m╸\u001b[0m \u001b[32m19.7/19.7 MB\u001b[0m \u001b[31m318.4 MB/s\u001b[0m eta \u001b[36m0:00:01\u001b[0m\n",
      "\u001b[2K   \u001b[90m━━━━━━━━━━━━━━━━━━━━━━━━━━━━━━━━━━━━━━━━\u001b[0m \u001b[32m19.7/19.7 MB\u001b[0m \u001b[31m92.2 MB/s\u001b[0m eta \u001b[36m0:00:00\u001b[0m\n",
      "\u001b[?25hDownloading nvidia_nvtx_cu12-12.6.77-py3-none-manylinux2014_x86_64.manylinux_2_17_x86_64.whl (89 kB)\n",
      "\u001b[?25l   \u001b[90m━━━━━━━━━━━━━━━━━━━━━━━━━━━━━━━━━━━━━━━━\u001b[0m \u001b[32m0.0/89.3 kB\u001b[0m \u001b[31m?\u001b[0m eta \u001b[36m-:--:--\u001b[0m\n",
      "\u001b[2K   \u001b[90m━━━━━━━━━━━━━━━━━━━━━━━━━━━━━━━━━━━━━━━━\u001b[0m \u001b[32m89.3/89.3 kB\u001b[0m \u001b[31m11.5 MB/s\u001b[0m eta \u001b[36m0:00:00\u001b[0m\n",
      "\u001b[?25hDownloading triton-3.3.1-cp311-cp311-manylinux_2_27_x86_64.manylinux_2_28_x86_64.whl (155.7 MB)\n",
      "\u001b[?25l   \u001b[90m━━━━━━━━━━━━━━━━━━━━━━━━━━━━━━━━━━━━━━━━\u001b[0m \u001b[32m0.0/155.7 MB\u001b[0m \u001b[31m?\u001b[0m eta \u001b[36m-:--:--\u001b[0m\n",
      "\u001b[2K   \u001b[91m━\u001b[0m\u001b[91m╸\u001b[0m\u001b[90m━━━━━━━━━━━━━━━━━━━━━━━━━━━━━━━━━━━━━━\u001b[0m \u001b[32m7.2/155.7 MB\u001b[0m \u001b[31m216.2 MB/s\u001b[0m eta \u001b[36m0:00:01\u001b[0m\n",
      "\u001b[2K   \u001b[91m━━━━\u001b[0m\u001b[90m╺\u001b[0m\u001b[90m━━━━━━━━━━━━━━━━━━━━━━━━━━━━━━━━━━━\u001b[0m \u001b[32m16.1/155.7 MB\u001b[0m \u001b[31m243.0 MB/s\u001b[0m eta \u001b[36m0:00:01\u001b[0m\n",
      "\u001b[2K   \u001b[91m━━━━━━\u001b[0m\u001b[91m╸\u001b[0m\u001b[90m━━━━━━━━━━━━━━━━━━━━━━━━━━━━━━━━━\u001b[0m \u001b[32m25.6/155.7 MB\u001b[0m \u001b[31m271.6 MB/s\u001b[0m eta \u001b[36m0:00:01\u001b[0m\n",
      "\u001b[2K   \u001b[91m━━━━━━━━\u001b[0m\u001b[91m╸\u001b[0m\u001b[90m━━━━━━━━━━━━━━━━━━━━━━━━━━━━━━━\u001b[0m \u001b[32m33.1/155.7 MB\u001b[0m \u001b[31m235.6 MB/s\u001b[0m eta \u001b[36m0:00:01\u001b[0m\n",
      "\u001b[2K   \u001b[91m━━━━━━━━━━━\u001b[0m\u001b[90m╺\u001b[0m\u001b[90m━━━━━━━━━━━━━━━━━━━━━━━━━━━━\u001b[0m \u001b[32m43.0/155.7 MB\u001b[0m \u001b[31m280.4 MB/s\u001b[0m eta \u001b[36m0:00:01\u001b[0m\n",
      "\u001b[2K   \u001b[91m━━━━━━━━━━━━━\u001b[0m\u001b[91m╸\u001b[0m\u001b[90m━━━━━━━━━━━━━━━━━━━━━━━━━━\u001b[0m \u001b[32m52.9/155.7 MB\u001b[0m \u001b[31m284.3 MB/s\u001b[0m eta \u001b[36m0:00:01\u001b[0m\n",
      "\u001b[2K   \u001b[91m━━━━━━━━━━━━━━━\u001b[0m\u001b[91m╸\u001b[0m\u001b[90m━━━━━━━━━━━━━━━━━━━━━━━━\u001b[0m \u001b[32m61.8/155.7 MB\u001b[0m \u001b[31m259.9 MB/s\u001b[0m eta \u001b[36m0:00:01\u001b[0m\n",
      "\u001b[2K   \u001b[91m━━━━━━━━━━━━━━━━━━\u001b[0m\u001b[91m╸\u001b[0m\u001b[90m━━━━━━━━━━━━━━━━━━━━━\u001b[0m \u001b[32m72.4/155.7 MB\u001b[0m \u001b[31m325.0 MB/s\u001b[0m eta \u001b[36m0:00:01\u001b[0m\n",
      "\u001b[2K   \u001b[91m━━━━━━━━━━━━━━━━━━━━━\u001b[0m\u001b[90m╺\u001b[0m\u001b[90m━━━━━━━━━━━━━━━━━━\u001b[0m \u001b[32m83.2/155.7 MB\u001b[0m \u001b[31m325.7 MB/s\u001b[0m eta \u001b[36m0:00:01\u001b[0m\n",
      "\u001b[2K   \u001b[91m━━━━━━━━━━━━━━━━━━━━━━━━\u001b[0m\u001b[90m╺\u001b[0m\u001b[90m━━━━━━━━━━━━━━━\u001b[0m \u001b[32m93.6/155.7 MB\u001b[0m \u001b[31m312.9 MB/s\u001b[0m eta \u001b[36m0:00:01\u001b[0m\n",
      "\u001b[2K   \u001b[91m━━━━━━━━━━━━━━━━━━━━━━━━━━\u001b[0m\u001b[90m╺\u001b[0m\u001b[90m━━━━━━━━━━━━\u001b[0m \u001b[32m104.4/155.7 MB\u001b[0m \u001b[31m327.7 MB/s\u001b[0m eta \u001b[36m0:00:01\u001b[0m\n",
      "\u001b[2K   \u001b[91m━━━━━━━━━━━━━━━━━━━━━━━━━━━━\u001b[0m\u001b[91m╸\u001b[0m\u001b[90m━━━━━━━━━━\u001b[0m \u001b[32m113.9/155.7 MB\u001b[0m \u001b[31m274.1 MB/s\u001b[0m eta \u001b[36m0:00:01\u001b[0m\n",
      "\u001b[2K   \u001b[91m━━━━━━━━━━━━━━━━━━━━━━━━━━━━━━\u001b[0m\u001b[91m╸\u001b[0m\u001b[90m━━━━━━━━\u001b[0m \u001b[32m123.1/155.7 MB\u001b[0m \u001b[31m267.2 MB/s\u001b[0m eta \u001b[36m0:00:01\u001b[0m\n",
      "\u001b[2K   \u001b[91m━━━━━━━━━━━━━━━━━━━━━━━━━━━━━━━━━\u001b[0m\u001b[91m╸\u001b[0m\u001b[90m━━━━━\u001b[0m \u001b[32m133.9/155.7 MB\u001b[0m \u001b[31m326.3 MB/s\u001b[0m eta \u001b[36m0:00:01\u001b[0m\n",
      "\u001b[2K   \u001b[91m━━━━━━━━━━━━━━━━━━━━━━━━━━━━━━━━━━━━\u001b[0m\u001b[90m╺\u001b[0m\u001b[90m━━\u001b[0m \u001b[32m144.5/155.7 MB\u001b[0m \u001b[31m323.3 MB/s\u001b[0m eta \u001b[36m0:00:01\u001b[0m\n",
      "\u001b[2K   \u001b[91m━━━━━━━━━━━━━━━━━━━━━━━━━━━━━━━━━━━━━━\u001b[0m\u001b[91m╸\u001b[0m \u001b[32m153.8/155.7 MB\u001b[0m \u001b[31m266.3 MB/s\u001b[0m eta \u001b[36m0:00:01\u001b[0m\n",
      "\u001b[2K   \u001b[91m━━━━━━━━━━━━━━━━━━━━━━━━━━━━━━━━━━━━━━\u001b[0m\u001b[91m╸\u001b[0m \u001b[32m155.7/155.7 MB\u001b[0m \u001b[31m254.3 MB/s\u001b[0m eta \u001b[36m0:00:01\u001b[0m\n",
      "\u001b[2K   \u001b[91m━━━━━━━━━━━━━━━━━━━━━━━━━━━━━━━━━━━━━━\u001b[0m\u001b[91m╸\u001b[0m \u001b[32m155.7/155.7 MB\u001b[0m \u001b[31m254.3 MB/s\u001b[0m eta \u001b[36m0:00:01\u001b[0m\n",
      "\u001b[2K   \u001b[91m━━━━━━━━━━━━━━━━━━━━━━━━━━━━━━━━━━━━━━\u001b[0m\u001b[91m╸\u001b[0m \u001b[32m155.7/155.7 MB\u001b[0m \u001b[31m254.3 MB/s\u001b[0m eta \u001b[36m0:00:01\u001b[0m\n",
      "\u001b[2K   \u001b[91m━━━━━━━━━━━━━━━━━━━━━━━━━━━━━━━━━━━━━━\u001b[0m\u001b[91m╸\u001b[0m \u001b[32m155.7/155.7 MB\u001b[0m \u001b[31m254.3 MB/s\u001b[0m eta \u001b[36m0:00:01\u001b[0m\n",
      "\u001b[2K   \u001b[91m━━━━━━━━━━━━━━━━━━━━━━━━━━━━━━━━━━━━━━\u001b[0m\u001b[91m╸\u001b[0m \u001b[32m155.7/155.7 MB\u001b[0m \u001b[31m254.3 MB/s\u001b[0m eta \u001b[36m0:00:01\u001b[0m\n",
      "\u001b[2K   \u001b[91m━━━━━━━━━━━━━━━━━━━━━━━━━━━━━━━━━━━━━━\u001b[0m\u001b[91m╸\u001b[0m \u001b[32m155.7/155.7 MB\u001b[0m \u001b[31m254.3 MB/s\u001b[0m eta \u001b[36m0:00:01\u001b[0m\n",
      "\u001b[2K   \u001b[91m━━━━━━━━━━━━━━━━━━━━━━━━━━━━━━━━━━━━━━\u001b[0m\u001b[91m╸\u001b[0m \u001b[32m155.7/155.7 MB\u001b[0m \u001b[31m254.3 MB/s\u001b[0m eta \u001b[36m0:00:01\u001b[0m\n",
      "\u001b[2K   \u001b[91m━━━━━━━━━━━━━━━━━━━━━━━━━━━━━━━━━━━━━━\u001b[0m\u001b[91m╸\u001b[0m \u001b[32m155.7/155.7 MB\u001b[0m \u001b[31m254.3 MB/s\u001b[0m eta \u001b[36m0:00:01\u001b[0m\n",
      "\u001b[2K   \u001b[91m━━━━━━━━━━━━━━━━━━━━━━━━━━━━━━━━━━━━━━\u001b[0m\u001b[91m╸\u001b[0m \u001b[32m155.7/155.7 MB\u001b[0m \u001b[31m254.3 MB/s\u001b[0m eta \u001b[36m0:00:01\u001b[0m\n",
      "\u001b[2K   \u001b[91m━━━━━━━━━━━━━━━━━━━━━━━━━━━━━━━━━━━━━━\u001b[0m\u001b[91m╸\u001b[0m \u001b[32m155.7/155.7 MB\u001b[0m \u001b[31m254.3 MB/s\u001b[0m eta \u001b[36m0:00:01\u001b[0m\n",
      "\u001b[2K   \u001b[91m━━━━━━━━━━━━━━━━━━━━━━━━━━━━━━━━━━━━━━\u001b[0m\u001b[91m╸\u001b[0m \u001b[32m155.7/155.7 MB\u001b[0m \u001b[31m254.3 MB/s\u001b[0m eta \u001b[36m0:00:01\u001b[0m\n",
      "\u001b[2K   \u001b[91m━━━━━━━━━━━━━━━━━━━━━━━━━━━━━━━━━━━━━━\u001b[0m\u001b[91m╸\u001b[0m \u001b[32m155.7/155.7 MB\u001b[0m \u001b[31m254.3 MB/s\u001b[0m eta \u001b[36m0:00:01\u001b[0m\n",
      "\u001b[2K   \u001b[91m━━━━━━━━━━━━━━━━━━━━━━━━━━━━━━━━━━━━━━\u001b[0m\u001b[91m╸\u001b[0m \u001b[32m155.7/155.7 MB\u001b[0m \u001b[31m254.3 MB/s\u001b[0m eta \u001b[36m0:00:01\u001b[0m\n",
      "\u001b[2K   \u001b[91m━━━━━━━━━━━━━━━━━━━━━━━━━━━━━━━━━━━━━━\u001b[0m\u001b[91m╸\u001b[0m \u001b[32m155.7/155.7 MB\u001b[0m \u001b[31m254.3 MB/s\u001b[0m eta \u001b[36m0:00:01\u001b[0m\n",
      "\u001b[2K   \u001b[91m━━━━━━━━━━━━━━━━━━━━━━━━━━━━━━━━━━━━━━\u001b[0m\u001b[91m╸\u001b[0m \u001b[32m155.7/155.7 MB\u001b[0m \u001b[31m254.3 MB/s\u001b[0m eta \u001b[36m0:00:01\u001b[0m\n",
      "\u001b[2K   \u001b[91m━━━━━━━━━━━━━━━━━━━━━━━━━━━━━━━━━━━━━━\u001b[0m\u001b[91m╸\u001b[0m \u001b[32m155.7/155.7 MB\u001b[0m \u001b[31m254.3 MB/s\u001b[0m eta \u001b[36m0:00:01\u001b[0m\n",
      "\u001b[2K   \u001b[91m━━━━━━━━━━━━━━━━━━━━━━━━━━━━━━━━━━━━━━\u001b[0m\u001b[91m╸\u001b[0m \u001b[32m155.7/155.7 MB\u001b[0m \u001b[31m254.3 MB/s\u001b[0m eta \u001b[36m0:00:01\u001b[0m\n",
      "\u001b[2K   \u001b[91m━━━━━━━━━━━━━━━━━━━━━━━━━━━━━━━━━━━━━━\u001b[0m\u001b[91m╸\u001b[0m \u001b[32m155.7/155.7 MB\u001b[0m \u001b[31m254.3 MB/s\u001b[0m eta \u001b[36m0:00:01\u001b[0m\n",
      "\u001b[2K   \u001b[91m━━━━━━━━━━━━━━━━━━━━━━━━━━━━━━━━━━━━━━\u001b[0m\u001b[91m╸\u001b[0m \u001b[32m155.7/155.7 MB\u001b[0m \u001b[31m254.3 MB/s\u001b[0m eta \u001b[36m0:00:01\u001b[0m\n",
      "\u001b[2K   \u001b[91m━━━━━━━━━━━━━━━━━━━━━━━━━━━━━━━━━━━━━━\u001b[0m\u001b[91m╸\u001b[0m \u001b[32m155.7/155.7 MB\u001b[0m \u001b[31m254.3 MB/s\u001b[0m eta \u001b[36m0:00:01\u001b[0m\n",
      "\u001b[2K   \u001b[91m━━━━━━━━━━━━━━━━━━━━━━━━━━━━━━━━━━━━━━\u001b[0m\u001b[91m╸\u001b[0m \u001b[32m155.7/155.7 MB\u001b[0m \u001b[31m254.3 MB/s\u001b[0m eta \u001b[36m0:00:01\u001b[0m\n",
      "\u001b[2K   \u001b[91m━━━━━━━━━━━━━━━━━━━━━━━━━━━━━━━━━━━━━━\u001b[0m\u001b[91m╸\u001b[0m \u001b[32m155.7/155.7 MB\u001b[0m \u001b[31m254.3 MB/s\u001b[0m eta \u001b[36m0:00:01\u001b[0m\n",
      "\u001b[2K   \u001b[91m━━━━━━━━━━━━━━━━━━━━━━━━━━━━━━━━━━━━━━\u001b[0m\u001b[91m╸\u001b[0m \u001b[32m155.7/155.7 MB\u001b[0m \u001b[31m254.3 MB/s\u001b[0m eta \u001b[36m0:00:01\u001b[0m\n",
      "\u001b[2K   \u001b[91m━━━━━━━━━━━━━━━━━━━━━━━━━━━━━━━━━━━━━━\u001b[0m\u001b[91m╸\u001b[0m \u001b[32m155.7/155.7 MB\u001b[0m \u001b[31m254.3 MB/s\u001b[0m eta \u001b[36m0:00:01\u001b[0m\n",
      "\u001b[2K   \u001b[91m━━━━━━━━━━━━━━━━━━━━━━━━━━━━━━━━━━━━━━\u001b[0m\u001b[91m╸\u001b[0m \u001b[32m155.7/155.7 MB\u001b[0m \u001b[31m254.3 MB/s\u001b[0m eta \u001b[36m0:00:01\u001b[0m\n",
      "\u001b[2K   \u001b[91m━━━━━━━━━━━━━━━━━━━━━━━━━━━━━━━━━━━━━━\u001b[0m\u001b[91m╸\u001b[0m \u001b[32m155.7/155.7 MB\u001b[0m \u001b[31m254.3 MB/s\u001b[0m eta \u001b[36m0:00:01\u001b[0m\n",
      "\u001b[2K   \u001b[91m━━━━━━━━━━━━━━━━━━━━━━━━━━━━━━━━━━━━━━\u001b[0m\u001b[91m╸\u001b[0m \u001b[32m155.7/155.7 MB\u001b[0m \u001b[31m254.3 MB/s\u001b[0m eta \u001b[36m0:00:01\u001b[0m\n",
      "\u001b[2K   \u001b[91m━━━━━━━━━━━━━━━━━━━━━━━━━━━━━━━━━━━━━━\u001b[0m\u001b[91m╸\u001b[0m \u001b[32m155.7/155.7 MB\u001b[0m \u001b[31m254.3 MB/s\u001b[0m eta \u001b[36m0:00:01\u001b[0m\n",
      "\u001b[2K   \u001b[91m━━━━━━━━━━━━━━━━━━━━━━━━━━━━━━━━━━━━━━\u001b[0m\u001b[91m╸\u001b[0m \u001b[32m155.7/155.7 MB\u001b[0m \u001b[31m254.3 MB/s\u001b[0m eta \u001b[36m0:00:01\u001b[0m\n",
      "\u001b[2K   \u001b[91m━━━━━━━━━━━━━━━━━━━━━━━━━━━━━━━━━━━━━━\u001b[0m\u001b[91m╸\u001b[0m \u001b[32m155.7/155.7 MB\u001b[0m \u001b[31m254.3 MB/s\u001b[0m eta \u001b[36m0:00:01\u001b[0m\n",
      "\u001b[2K   \u001b[91m━━━━━━━━━━━━━━━━━━━━━━━━━━━━━━━━━━━━━━\u001b[0m\u001b[91m╸\u001b[0m \u001b[32m155.7/155.7 MB\u001b[0m \u001b[31m254.3 MB/s\u001b[0m eta \u001b[36m0:00:01\u001b[0m\n",
      "\u001b[2K   \u001b[91m━━━━━━━━━━━━━━━━━━━━━━━━━━━━━━━━━━━━━━\u001b[0m\u001b[91m╸\u001b[0m \u001b[32m155.7/155.7 MB\u001b[0m \u001b[31m254.3 MB/s\u001b[0m eta \u001b[36m0:00:01\u001b[0m\n",
      "\u001b[2K   \u001b[91m━━━━━━━━━━━━━━━━━━━━━━━━━━━━━━━━━━━━━━\u001b[0m\u001b[91m╸\u001b[0m \u001b[32m155.7/155.7 MB\u001b[0m \u001b[31m254.3 MB/s\u001b[0m eta \u001b[36m0:00:01\u001b[0m\n",
      "\u001b[2K   \u001b[91m━━━━━━━━━━━━━━━━━━━━━━━━━━━━━━━━━━━━━━\u001b[0m\u001b[91m╸\u001b[0m \u001b[32m155.7/155.7 MB\u001b[0m \u001b[31m254.3 MB/s\u001b[0m eta \u001b[36m0:00:01\u001b[0m\n",
      "\u001b[2K   \u001b[91m━━━━━━━━━━━━━━━━━━━━━━━━━━━━━━━━━━━━━━\u001b[0m\u001b[91m╸\u001b[0m \u001b[32m155.7/155.7 MB\u001b[0m \u001b[31m254.3 MB/s\u001b[0m eta \u001b[36m0:00:01\u001b[0m\n",
      "\u001b[2K   \u001b[91m━━━━━━━━━━━━━━━━━━━━━━━━━━━━━━━━━━━━━━\u001b[0m\u001b[91m╸\u001b[0m \u001b[32m155.7/155.7 MB\u001b[0m \u001b[31m254.3 MB/s\u001b[0m eta \u001b[36m0:00:01\u001b[0m\n",
      "\u001b[2K   \u001b[91m━━━━━━━━━━━━━━━━━━━━━━━━━━━━━━━━━━━━━━\u001b[0m\u001b[91m╸\u001b[0m \u001b[32m155.7/155.7 MB\u001b[0m \u001b[31m254.3 MB/s\u001b[0m eta \u001b[36m0:00:01\u001b[0m\n",
      "\u001b[2K   \u001b[91m━━━━━━━━━━━━━━━━━━━━━━━━━━━━━━━━━━━━━━\u001b[0m\u001b[91m╸\u001b[0m \u001b[32m155.7/155.7 MB\u001b[0m \u001b[31m254.3 MB/s\u001b[0m eta \u001b[36m0:00:01\u001b[0m\n",
      "\u001b[2K   \u001b[91m━━━━━━━━━━━━━━━━━━━━━━━━━━━━━━━━━━━━━━\u001b[0m\u001b[91m╸\u001b[0m \u001b[32m155.7/155.7 MB\u001b[0m \u001b[31m254.3 MB/s\u001b[0m eta \u001b[36m0:00:01\u001b[0m\n",
      "\u001b[2K   \u001b[91m━━━━━━━━━━━━━━━━━━━━━━━━━━━━━━━━━━━━━━\u001b[0m\u001b[91m╸\u001b[0m \u001b[32m155.7/155.7 MB\u001b[0m \u001b[31m254.3 MB/s\u001b[0m eta \u001b[36m0:00:01\u001b[0m\n",
      "\u001b[2K   \u001b[91m━━━━━━━━━━━━━━━━━━━━━━━━━━━━━━━━━━━━━━\u001b[0m\u001b[91m╸\u001b[0m \u001b[32m155.7/155.7 MB\u001b[0m \u001b[31m254.3 MB/s\u001b[0m eta \u001b[36m0:00:01\u001b[0m\n",
      "\u001b[2K   \u001b[91m━━━━━━━━━━━━━━━━━━━━━━━━━━━━━━━━━━━━━━\u001b[0m\u001b[91m╸\u001b[0m \u001b[32m155.7/155.7 MB\u001b[0m \u001b[31m254.3 MB/s\u001b[0m eta \u001b[36m0:00:01\u001b[0m\n",
      "\u001b[2K   \u001b[91m━━━━━━━━━━━━━━━━━━━━━━━━━━━━━━━━━━━━━━\u001b[0m\u001b[91m╸\u001b[0m \u001b[32m155.7/155.7 MB\u001b[0m \u001b[31m254.3 MB/s\u001b[0m eta \u001b[36m0:00:01\u001b[0m\n",
      "\u001b[2K   \u001b[91m━━━━━━━━━━━━━━━━━━━━━━━━━━━━━━━━━━━━━━\u001b[0m\u001b[91m╸\u001b[0m \u001b[32m155.7/155.7 MB\u001b[0m \u001b[31m254.3 MB/s\u001b[0m eta \u001b[36m0:00:01\u001b[0m\n",
      "\u001b[2K   \u001b[91m━━━━━━━━━━━━━━━━━━━━━━━━━━━━━━━━━━━━━━\u001b[0m\u001b[91m╸\u001b[0m \u001b[32m155.7/155.7 MB\u001b[0m \u001b[31m254.3 MB/s\u001b[0m eta \u001b[36m0:00:01\u001b[0m\n",
      "\u001b[2K   \u001b[91m━━━━━━━━━━━━━━━━━━━━━━━━━━━━━━━━━━━━━━\u001b[0m\u001b[91m╸\u001b[0m \u001b[32m155.7/155.7 MB\u001b[0m \u001b[31m254.3 MB/s\u001b[0m eta \u001b[36m0:00:01\u001b[0m\n",
      "\u001b[2K   \u001b[91m━━━━━━━━━━━━━━━━━━━━━━━━━━━━━━━━━━━━━━\u001b[0m\u001b[91m╸\u001b[0m \u001b[32m155.7/155.7 MB\u001b[0m \u001b[31m254.3 MB/s\u001b[0m eta \u001b[36m0:00:01\u001b[0m\n",
      "\u001b[2K   \u001b[91m━━━━━━━━━━━━━━━━━━━━━━━━━━━━━━━━━━━━━━\u001b[0m\u001b[91m╸\u001b[0m \u001b[32m155.7/155.7 MB\u001b[0m \u001b[31m254.3 MB/s\u001b[0m eta \u001b[36m0:00:01\u001b[0m\n",
      "\u001b[2K   \u001b[91m━━━━━━━━━━━━━━━━━━━━━━━━━━━━━━━━━━━━━━\u001b[0m\u001b[91m╸\u001b[0m \u001b[32m155.7/155.7 MB\u001b[0m \u001b[31m254.3 MB/s\u001b[0m eta \u001b[36m0:00:01\u001b[0m\n",
      "\u001b[2K   \u001b[91m━━━━━━━━━━━━━━━━━━━━━━━━━━━━━━━━━━━━━━\u001b[0m\u001b[91m╸\u001b[0m \u001b[32m155.7/155.7 MB\u001b[0m \u001b[31m254.3 MB/s\u001b[0m eta \u001b[36m0:00:01\u001b[0m\n",
      "\u001b[2K   \u001b[91m━━━━━━━━━━━━━━━━━━━━━━━━━━━━━━━━━━━━━━\u001b[0m\u001b[91m╸\u001b[0m \u001b[32m155.7/155.7 MB\u001b[0m \u001b[31m254.3 MB/s\u001b[0m eta \u001b[36m0:00:01\u001b[0m\n",
      "\u001b[2K   \u001b[91m━━━━━━━━━━━━━━━━━━━━━━━━━━━━━━━━━━━━━━\u001b[0m\u001b[91m╸\u001b[0m \u001b[32m155.7/155.7 MB\u001b[0m \u001b[31m254.3 MB/s\u001b[0m eta \u001b[36m0:00:01\u001b[0m\n",
      "\u001b[2K   \u001b[91m━━━━━━━━━━━━━━━━━━━━━━━━━━━━━━━━━━━━━━\u001b[0m\u001b[91m╸\u001b[0m \u001b[32m155.7/155.7 MB\u001b[0m \u001b[31m254.3 MB/s\u001b[0m eta \u001b[36m0:00:01\u001b[0m\n",
      "\u001b[2K   \u001b[91m━━━━━━━━━━━━━━━━━━━━━━━━━━━━━━━━━━━━━━\u001b[0m\u001b[91m╸\u001b[0m \u001b[32m155.7/155.7 MB\u001b[0m \u001b[31m254.3 MB/s\u001b[0m eta \u001b[36m0:00:01\u001b[0m\n",
      "\u001b[2K   \u001b[91m━━━━━━━━━━━━━━━━━━━━━━━━━━━━━━━━━━━━━━\u001b[0m\u001b[91m╸\u001b[0m \u001b[32m155.7/155.7 MB\u001b[0m \u001b[31m254.3 MB/s\u001b[0m eta \u001b[36m0:00:01\u001b[0m\n",
      "\u001b[2K   \u001b[91m━━━━━━━━━━━━━━━━━━━━━━━━━━━━━━━━━━━━━━\u001b[0m\u001b[91m╸\u001b[0m \u001b[32m155.7/155.7 MB\u001b[0m \u001b[31m254.3 MB/s\u001b[0m eta \u001b[36m0:00:01\u001b[0m\n",
      "\u001b[2K   \u001b[91m━━━━━━━━━━━━━━━━━━━━━━━━━━━━━━━━━━━━━━\u001b[0m\u001b[91m╸\u001b[0m \u001b[32m155.7/155.7 MB\u001b[0m \u001b[31m254.3 MB/s\u001b[0m eta \u001b[36m0:00:01\u001b[0m\n",
      "\u001b[2K   \u001b[91m━━━━━━━━━━━━━━━━━━━━━━━━━━━━━━━━━━━━━━\u001b[0m\u001b[91m╸\u001b[0m \u001b[32m155.7/155.7 MB\u001b[0m \u001b[31m254.3 MB/s\u001b[0m eta \u001b[36m0:00:01\u001b[0m\n",
      "\u001b[2K   \u001b[91m━━━━━━━━━━━━━━━━━━━━━━━━━━━━━━━━━━━━━━\u001b[0m\u001b[91m╸\u001b[0m \u001b[32m155.7/155.7 MB\u001b[0m \u001b[31m254.3 MB/s\u001b[0m eta \u001b[36m0:00:01\u001b[0m\n",
      "\u001b[2K   \u001b[91m━━━━━━━━━━━━━━━━━━━━━━━━━━━━━━━━━━━━━━\u001b[0m\u001b[91m╸\u001b[0m \u001b[32m155.7/155.7 MB\u001b[0m \u001b[31m254.3 MB/s\u001b[0m eta \u001b[36m0:00:01\u001b[0m\n",
      "\u001b[2K   \u001b[91m━━━━━━━━━━━━━━━━━━━━━━━━━━━━━━━━━━━━━━\u001b[0m\u001b[91m╸\u001b[0m \u001b[32m155.7/155.7 MB\u001b[0m \u001b[31m254.3 MB/s\u001b[0m eta \u001b[36m0:00:01\u001b[0m\n",
      "\u001b[2K   \u001b[91m━━━━━━━━━━━━━━━━━━━━━━━━━━━━━━━━━━━━━━\u001b[0m\u001b[91m╸\u001b[0m \u001b[32m155.7/155.7 MB\u001b[0m \u001b[31m254.3 MB/s\u001b[0m eta \u001b[36m0:00:01\u001b[0m\n",
      "\u001b[2K   \u001b[91m━━━━━━━━━━━━━━━━━━━━━━━━━━━━━━━━━━━━━━\u001b[0m\u001b[91m╸\u001b[0m \u001b[32m155.7/155.7 MB\u001b[0m \u001b[31m254.3 MB/s\u001b[0m eta \u001b[36m0:00:01\u001b[0m\n",
      "\u001b[2K   \u001b[91m━━━━━━━━━━━━━━━━━━━━━━━━━━━━━━━━━━━━━━\u001b[0m\u001b[91m╸\u001b[0m \u001b[32m155.7/155.7 MB\u001b[0m \u001b[31m254.3 MB/s\u001b[0m eta \u001b[36m0:00:01\u001b[0m\n",
      "\u001b[2K   \u001b[91m━━━━━━━━━━━━━━━━━━━━━━━━━━━━━━━━━━━━━━\u001b[0m\u001b[91m╸\u001b[0m \u001b[32m155.7/155.7 MB\u001b[0m \u001b[31m254.3 MB/s\u001b[0m eta \u001b[36m0:00:01\u001b[0m\n",
      "\u001b[2K   \u001b[91m━━━━━━━━━━━━━━━━━━━━━━━━━━━━━━━━━━━━━━\u001b[0m\u001b[91m╸\u001b[0m \u001b[32m155.7/155.7 MB\u001b[0m \u001b[31m254.3 MB/s\u001b[0m eta \u001b[36m0:00:01\u001b[0m\n",
      "\u001b[2K   \u001b[91m━━━━━━━━━━━━━━━━━━━━━━━━━━━━━━━━━━━━━━\u001b[0m\u001b[91m╸\u001b[0m \u001b[32m155.7/155.7 MB\u001b[0m \u001b[31m254.3 MB/s\u001b[0m eta \u001b[36m0:00:01\u001b[0m\n",
      "\u001b[2K   \u001b[91m━━━━━━━━━━━━━━━━━━━━━━━━━━━━━━━━━━━━━━\u001b[0m\u001b[91m╸\u001b[0m \u001b[32m155.7/155.7 MB\u001b[0m \u001b[31m254.3 MB/s\u001b[0m eta \u001b[36m0:00:01\u001b[0m\n",
      "\u001b[2K   \u001b[91m━━━━━━━━━━━━━━━━━━━━━━━━━━━━━━━━━━━━━━\u001b[0m\u001b[91m╸\u001b[0m \u001b[32m155.7/155.7 MB\u001b[0m \u001b[31m254.3 MB/s\u001b[0m eta \u001b[36m0:00:01\u001b[0m\n",
      "\u001b[2K   \u001b[91m━━━━━━━━━━━━━━━━━━━━━━━━━━━━━━━━━━━━━━\u001b[0m\u001b[91m╸\u001b[0m \u001b[32m155.7/155.7 MB\u001b[0m \u001b[31m254.3 MB/s\u001b[0m eta \u001b[36m0:00:01\u001b[0m\n",
      "\u001b[2K   \u001b[91m━━━━━━━━━━━━━━━━━━━━━━━━━━━━━━━━━━━━━━\u001b[0m\u001b[91m╸\u001b[0m \u001b[32m155.7/155.7 MB\u001b[0m \u001b[31m254.3 MB/s\u001b[0m eta \u001b[36m0:00:01\u001b[0m\n",
      "\u001b[2K   \u001b[91m━━━━━━━━━━━━━━━━━━━━━━━━━━━━━━━━━━━━━━\u001b[0m\u001b[91m╸\u001b[0m \u001b[32m155.7/155.7 MB\u001b[0m \u001b[31m254.3 MB/s\u001b[0m eta \u001b[36m0:00:01\u001b[0m\n",
      "\u001b[2K   \u001b[91m━━━━━━━━━━━━━━━━━━━━━━━━━━━━━━━━━━━━━━\u001b[0m\u001b[91m╸\u001b[0m \u001b[32m155.7/155.7 MB\u001b[0m \u001b[31m254.3 MB/s\u001b[0m eta \u001b[36m0:00:01\u001b[0m\n",
      "\u001b[2K   \u001b[91m━━━━━━━━━━━━━━━━━━━━━━━━━━━━━━━━━━━━━━\u001b[0m\u001b[91m╸\u001b[0m \u001b[32m155.7/155.7 MB\u001b[0m \u001b[31m254.3 MB/s\u001b[0m eta \u001b[36m0:00:01\u001b[0m\n",
      "\u001b[2K   \u001b[91m━━━━━━━━━━━━━━━━━━━━━━━━━━━━━━━━━━━━━━\u001b[0m\u001b[91m╸\u001b[0m \u001b[32m155.7/155.7 MB\u001b[0m \u001b[31m254.3 MB/s\u001b[0m eta \u001b[36m0:00:01\u001b[0m\n",
      "\u001b[2K   \u001b[91m━━━━━━━━━━━━━━━━━━━━━━━━━━━━━━━━━━━━━━\u001b[0m\u001b[91m╸\u001b[0m \u001b[32m155.7/155.7 MB\u001b[0m \u001b[31m254.3 MB/s\u001b[0m eta \u001b[36m0:00:01\u001b[0m\n",
      "\u001b[2K   \u001b[91m━━━━━━━━━━━━━━━━━━━━━━━━━━━━━━━━━━━━━━\u001b[0m\u001b[91m╸\u001b[0m \u001b[32m155.7/155.7 MB\u001b[0m \u001b[31m254.3 MB/s\u001b[0m eta \u001b[36m0:00:01\u001b[0m\n",
      "\u001b[2K   \u001b[91m━━━━━━━━━━━━━━━━━━━━━━━━━━━━━━━━━━━━━━\u001b[0m\u001b[91m╸\u001b[0m \u001b[32m155.7/155.7 MB\u001b[0m \u001b[31m254.3 MB/s\u001b[0m eta \u001b[36m0:00:01\u001b[0m\n",
      "\u001b[2K   \u001b[91m━━━━━━━━━━━━━━━━━━━━━━━━━━━━━━━━━━━━━━\u001b[0m\u001b[91m╸\u001b[0m \u001b[32m155.7/155.7 MB\u001b[0m \u001b[31m254.3 MB/s\u001b[0m eta \u001b[36m0:00:01\u001b[0m\n",
      "\u001b[2K   \u001b[91m━━━━━━━━━━━━━━━━━━━━━━━━━━━━━━━━━━━━━━\u001b[0m\u001b[91m╸\u001b[0m \u001b[32m155.7/155.7 MB\u001b[0m \u001b[31m254.3 MB/s\u001b[0m eta \u001b[36m0:00:01\u001b[0m\n",
      "\u001b[2K   \u001b[91m━━━━━━━━━━━━━━━━━━━━━━━━━━━━━━━━━━━━━━\u001b[0m\u001b[91m╸\u001b[0m \u001b[32m155.7/155.7 MB\u001b[0m \u001b[31m254.3 MB/s\u001b[0m eta \u001b[36m0:00:01\u001b[0m\n",
      "\u001b[2K   \u001b[91m━━━━━━━━━━━━━━━━━━━━━━━━━━━━━━━━━━━━━━\u001b[0m\u001b[91m╸\u001b[0m \u001b[32m155.7/155.7 MB\u001b[0m \u001b[31m254.3 MB/s\u001b[0m eta \u001b[36m0:00:01\u001b[0m\n",
      "\u001b[2K   \u001b[91m━━━━━━━━━━━━━━━━━━━━━━━━━━━━━━━━━━━━━━\u001b[0m\u001b[91m╸\u001b[0m \u001b[32m155.7/155.7 MB\u001b[0m \u001b[31m254.3 MB/s\u001b[0m eta \u001b[36m0:00:01\u001b[0m\n",
      "\u001b[2K   \u001b[91m━━━━━━━━━━━━━━━━━━━━━━━━━━━━━━━━━━━━━━\u001b[0m\u001b[91m╸\u001b[0m \u001b[32m155.7/155.7 MB\u001b[0m \u001b[31m254.3 MB/s\u001b[0m eta \u001b[36m0:00:01\u001b[0m\n",
      "\u001b[2K   \u001b[91m━━━━━━━━━━━━━━━━━━━━━━━━━━━━━━━━━━━━━━\u001b[0m\u001b[91m╸\u001b[0m \u001b[32m155.7/155.7 MB\u001b[0m \u001b[31m254.3 MB/s\u001b[0m eta \u001b[36m0:00:01\u001b[0m\n",
      "\u001b[2K   \u001b[91m━━━━━━━━━━━━━━━━━━━━━━━━━━━━━━━━━━━━━━\u001b[0m\u001b[91m╸\u001b[0m \u001b[32m155.7/155.7 MB\u001b[0m \u001b[31m254.3 MB/s\u001b[0m eta \u001b[36m0:00:01\u001b[0m\n",
      "\u001b[2K   \u001b[91m━━━━━━━━━━━━━━━━━━━━━━━━━━━━━━━━━━━━━━\u001b[0m\u001b[91m╸\u001b[0m \u001b[32m155.7/155.7 MB\u001b[0m \u001b[31m254.3 MB/s\u001b[0m eta \u001b[36m0:00:01\u001b[0m\n",
      "\u001b[2K   \u001b[91m━━━━━━━━━━━━━━━━━━━━━━━━━━━━━━━━━━━━━━\u001b[0m\u001b[91m╸\u001b[0m \u001b[32m155.7/155.7 MB\u001b[0m \u001b[31m254.3 MB/s\u001b[0m eta \u001b[36m0:00:01\u001b[0m\n",
      "\u001b[2K   \u001b[91m━━━━━━━━━━━━━━━━━━━━━━━━━━━━━━━━━━━━━━\u001b[0m\u001b[91m╸\u001b[0m \u001b[32m155.7/155.7 MB\u001b[0m \u001b[31m254.3 MB/s\u001b[0m eta \u001b[36m0:00:01\u001b[0m\n",
      "\u001b[2K   \u001b[91m━━━━━━━━━━━━━━━━━━━━━━━━━━━━━━━━━━━━━━\u001b[0m\u001b[91m╸\u001b[0m \u001b[32m155.7/155.7 MB\u001b[0m \u001b[31m254.3 MB/s\u001b[0m eta \u001b[36m0:00:01\u001b[0m\n",
      "\u001b[2K   \u001b[91m━━━━━━━━━━━━━━━━━━━━━━━━━━━━━━━━━━━━━━\u001b[0m\u001b[91m╸\u001b[0m \u001b[32m155.7/155.7 MB\u001b[0m \u001b[31m254.3 MB/s\u001b[0m eta \u001b[36m0:00:01\u001b[0m\n",
      "\u001b[2K   \u001b[91m━━━━━━━━━━━━━━━━━━━━━━━━━━━━━━━━━━━━━━\u001b[0m\u001b[91m╸\u001b[0m \u001b[32m155.7/155.7 MB\u001b[0m \u001b[31m254.3 MB/s\u001b[0m eta \u001b[36m0:00:01\u001b[0m\n",
      "\u001b[2K   \u001b[91m━━━━━━━━━━━━━━━━━━━━━━━━━━━━━━━━━━━━━━\u001b[0m\u001b[91m╸\u001b[0m \u001b[32m155.7/155.7 MB\u001b[0m \u001b[31m254.3 MB/s\u001b[0m eta \u001b[36m0:00:01\u001b[0m\n",
      "\u001b[2K   \u001b[91m━━━━━━━━━━━━━━━━━━━━━━━━━━━━━━━━━━━━━━\u001b[0m\u001b[91m╸\u001b[0m \u001b[32m155.7/155.7 MB\u001b[0m \u001b[31m254.3 MB/s\u001b[0m eta \u001b[36m0:00:01\u001b[0m\n",
      "\u001b[2K   \u001b[91m━━━━━━━━━━━━━━━━━━━━━━━━━━━━━━━━━━━━━━\u001b[0m\u001b[91m╸\u001b[0m \u001b[32m155.7/155.7 MB\u001b[0m \u001b[31m254.3 MB/s\u001b[0m eta \u001b[36m0:00:01\u001b[0m\n",
      "\u001b[2K   \u001b[91m━━━━━━━━━━━━━━━━━━━━━━━━━━━━━━━━━━━━━━\u001b[0m\u001b[91m╸\u001b[0m \u001b[32m155.7/155.7 MB\u001b[0m \u001b[31m254.3 MB/s\u001b[0m eta \u001b[36m0:00:01\u001b[0m\n",
      "\u001b[2K   \u001b[91m━━━━━━━━━━━━━━━━━━━━━━━━━━━━━━━━━━━━━━\u001b[0m\u001b[91m╸\u001b[0m \u001b[32m155.7/155.7 MB\u001b[0m \u001b[31m254.3 MB/s\u001b[0m eta \u001b[36m0:00:01\u001b[0m\n",
      "\u001b[2K   \u001b[91m━━━━━━━━━━━━━━━━━━━━━━━━━━━━━━━━━━━━━━\u001b[0m\u001b[91m╸\u001b[0m \u001b[32m155.7/155.7 MB\u001b[0m \u001b[31m254.3 MB/s\u001b[0m eta \u001b[36m0:00:01\u001b[0m\n",
      "\u001b[2K   \u001b[91m━━━━━━━━━━━━━━━━━━━━━━━━━━━━━━━━━━━━━━\u001b[0m\u001b[91m╸\u001b[0m \u001b[32m155.7/155.7 MB\u001b[0m \u001b[31m254.3 MB/s\u001b[0m eta \u001b[36m0:00:01\u001b[0m\n",
      "\u001b[2K   \u001b[91m━━━━━━━━━━━━━━━━━━━━━━━━━━━━━━━━━━━━━━\u001b[0m\u001b[91m╸\u001b[0m \u001b[32m155.7/155.7 MB\u001b[0m \u001b[31m254.3 MB/s\u001b[0m eta \u001b[36m0:00:01\u001b[0m\n",
      "\u001b[2K   \u001b[91m━━━━━━━━━━━━━━━━━━━━━━━━━━━━━━━━━━━━━━\u001b[0m\u001b[91m╸\u001b[0m \u001b[32m155.7/155.7 MB\u001b[0m \u001b[31m254.3 MB/s\u001b[0m eta \u001b[36m0:00:01\u001b[0m\n",
      "\u001b[2K   \u001b[91m━━━━━━━━━━━━━━━━━━━━━━━━━━━━━━━━━━━━━━\u001b[0m\u001b[91m╸\u001b[0m \u001b[32m155.7/155.7 MB\u001b[0m \u001b[31m254.3 MB/s\u001b[0m eta \u001b[36m0:00:01\u001b[0m\n",
      "\u001b[2K   \u001b[90m━━━━━━━━━━━━━━━━━━━━━━━━━━━━━━━━━━━━━━━━\u001b[0m \u001b[32m155.7/155.7 MB\u001b[0m \u001b[31m2.8 MB/s\u001b[0m eta \u001b[36m0:00:00\u001b[0m\n",
      "\u001b[?25hDownloading tqdm-4.67.1-py3-none-any.whl (78 kB)\n",
      "\u001b[?25l   \u001b[90m━━━━━━━━━━━━━━━━━━━━━━━━━━━━━━━━━━━━━━━━\u001b[0m \u001b[32m0.0/78.5 kB\u001b[0m \u001b[31m?\u001b[0m eta \u001b[36m-:--:--\u001b[0m\n",
      "\u001b[2K   \u001b[90m━━━━━━━━━━━━━━━━━━━━━━━━━━━━━━━━━━━━━━━━\u001b[0m \u001b[32m78.5/78.5 kB\u001b[0m \u001b[31m5.2 MB/s\u001b[0m eta \u001b[36m0:00:00\u001b[0m\n",
      "\u001b[?25hDownloading fsspec-2025.5.1-py3-none-any.whl (199 kB)\n",
      "\u001b[?25l   \u001b[90m━━━━━━━━━━━━━━━━━━━━━━━━━━━━━━━━━━━━━━━━\u001b[0m \u001b[32m0.0/199.1 kB\u001b[0m \u001b[31m?\u001b[0m eta \u001b[36m-:--:--\u001b[0m\n",
      "\u001b[2K   \u001b[90m━━━━━━━━━━━━━━━━━━━━━━━━━━━━━━━━━━━━━━━━\u001b[0m \u001b[32m199.1/199.1 kB\u001b[0m \u001b[31m27.1 MB/s\u001b[0m eta \u001b[36m0:00:00\u001b[0m\n",
      "\u001b[?25hDownloading hf_xet-1.1.5-cp37-abi3-manylinux_2_17_x86_64.manylinux2014_x86_64.whl (3.1 MB)\n",
      "\u001b[?25l   \u001b[90m━━━━━━━━━━━━━━━━━━━━━━━━━━━━━━━━━━━━━━━━\u001b[0m \u001b[32m0.0/3.1 MB\u001b[0m \u001b[31m?\u001b[0m eta \u001b[36m-:--:--\u001b[0m\n",
      "\u001b[2K   \u001b[90m━━━━━━━━━━━━━━━━━━━━━━━━━━━━━━━━━━━━━━━━\u001b[0m \u001b[32m3.1/3.1 MB\u001b[0m \u001b[31m97.3 MB/s\u001b[0m eta \u001b[36m0:00:00\u001b[0m\n",
      "\u001b[?25hDownloading sympy-1.14.0-py3-none-any.whl (6.3 MB)\n",
      "\u001b[?25l   \u001b[90m━━━━━━━━━━━━━━━━━━━━━━━━━━━━━━━━━━━━━━━━\u001b[0m \u001b[32m0.0/6.3 MB\u001b[0m \u001b[31m?\u001b[0m eta \u001b[36m-:--:--\u001b[0m\n",
      "\u001b[2K   \u001b[91m━━━━━━━━━━━━━━━━━━━━━━━━━━━━━━━━━━━━━━━\u001b[0m\u001b[91m╸\u001b[0m \u001b[32m6.3/6.3 MB\u001b[0m \u001b[31m286.1 MB/s\u001b[0m eta \u001b[36m0:00:01\u001b[0m\n",
      "\u001b[2K   \u001b[90m━━━━━━━━━━━━━━━━━━━━━━━━━━━━━━━━━━━━━━━━\u001b[0m \u001b[32m6.3/6.3 MB\u001b[0m \u001b[31m121.8 MB/s\u001b[0m eta \u001b[36m0:00:00\u001b[0m\n",
      "\u001b[?25hDownloading jinja2-3.1.6-py3-none-any.whl (134 kB)\n",
      "\u001b[?25l   \u001b[90m━━━━━━━━━━━━━━━━━━━━━━━━━━━━━━━━━━━━━━━━\u001b[0m \u001b[32m0.0/134.9 kB\u001b[0m \u001b[31m?\u001b[0m eta \u001b[36m-:--:--\u001b[0m\n",
      "\u001b[2K   \u001b[90m━━━━━━━━━━━━━━━━━━━━━━━━━━━━━━━━━━━━━━━━\u001b[0m \u001b[32m134.9/134.9 kB\u001b[0m \u001b[31m20.1 MB/s\u001b[0m eta \u001b[36m0:00:00\u001b[0m\n",
      "\u001b[?25hDownloading networkx-3.5-py3-none-any.whl (2.0 MB)\n",
      "\u001b[?25l   \u001b[90m━━━━━━━━━━━━━━━━━━━━━━━━━━━━━━━━━━━━━━━━\u001b[0m \u001b[32m0.0/2.0 MB\u001b[0m \u001b[31m?\u001b[0m eta \u001b[36m-:--:--\u001b[0m\n",
      "\u001b[2K   \u001b[90m━━━━━━━━━━━━━━━━━━━━━━━━━━━━━━━━━━━━━━━━\u001b[0m \u001b[32m2.0/2.0 MB\u001b[0m \u001b[31m67.4 MB/s\u001b[0m eta \u001b[36m0:00:00\u001b[0m\n",
      "\u001b[?25hDownloading MarkupSafe-3.0.2-cp311-cp311-manylinux_2_17_x86_64.manylinux2014_x86_64.whl (23 kB)\n",
      "Downloading mpmath-1.3.0-py3-none-any.whl (536 kB)\n",
      "\u001b[?25l   \u001b[90m━━━━━━━━━━━━━━━━━━━━━━━━━━━━━━━━━━━━━━━━\u001b[0m \u001b[32m0.0/536.2 kB\u001b[0m \u001b[31m?\u001b[0m eta \u001b[36m-:--:--\u001b[0m\n",
      "\u001b[2K   \u001b[90m━━━━━━━━━━━━━━━━━━━━━━━━━━━━━━━━━━━━━━━━\u001b[0m \u001b[32m536.2/536.2 kB\u001b[0m \u001b[31m40.1 MB/s\u001b[0m eta \u001b[36m0:00:00\u001b[0m\n",
      "\u001b[?25hInstalling collected packages: nvidia-cusparselt-cu12, mpmath, triton, tqdm, sympy, safetensors, regex, nvidia-nvtx-cu12, nvidia-nvjitlink-cu12, nvidia-nccl-cu12, nvidia-curand-cu12, nvidia-cufile-cu12, nvidia-cuda-runtime-cu12, nvidia-cuda-nvrtc-cu12, nvidia-cuda-cupti-cu12, nvidia-cublas-cu12, networkx, MarkupSafe, hf-xet, fsspec, nvidia-cusparse-cu12, nvidia-cufft-cu12, nvidia-cudnn-cu12, jinja2, huggingface-hub, tokenizers, nvidia-cusolver-cu12, transformers, torch, sentence-transformers, accelerate\n",
      "Successfully installed MarkupSafe-3.0.2 accelerate-1.8.1 fsspec-2025.5.1 hf-xet-1.1.5 huggingface-hub-0.33.2 jinja2-3.1.6 mpmath-1.3.0 networkx-3.5 nvidia-cublas-cu12-12.6.4.1 nvidia-cuda-cupti-cu12-12.6.80 nvidia-cuda-nvrtc-cu12-12.6.77 nvidia-cuda-runtime-cu12-12.6.77 nvidia-cudnn-cu12-9.5.1.17 nvidia-cufft-cu12-11.3.0.4 nvidia-cufile-cu12-1.11.1.6 nvidia-curand-cu12-10.3.7.77 nvidia-cusolver-cu12-11.7.1.2 nvidia-cusparse-cu12-12.5.4.2 nvidia-cusparselt-cu12-0.6.3 nvidia-nccl-cu12-2.26.2 nvidia-nvjitlink-cu12-12.6.85 nvidia-nvtx-cu12-12.6.77 regex-2024.11.6 safetensors-0.5.3 sentence-transformers-5.0.0 sympy-1.14.0 tokenizers-0.21.2 torch-2.7.1 tqdm-4.67.1 transformers-4.53.0 triton-3.3.1\n",
      "\u001b[43mNote: you may need to restart the kernel using %restart_python or dbutils.library.restartPython() to use updated packages.\u001b[0m\n"
     ]
    }
   ],
   "source": [
    "# Para la búsqueda semántica\n",
    "%pip install pandas sentence-transformers transformers accelerate\n"
   ]
  },
  {
   "cell_type": "code",
   "execution_count": 0,
   "metadata": {
    "application/vnd.databricks.v1+cell": {
     "cellMetadata": {
      "byteLimit": 2048000,
      "rowLimit": 10000
     },
     "inputWidgets": {},
     "nuid": "2cf7031b-e2b2-402a-8e89-68b67a00d568",
     "showTitle": false,
     "tableResultSettingsMap": {},
     "title": ""
    }
   },
   "outputs": [
    {
     "name": "stdout",
     "output_type": "stream",
     "text": [
      "Collecting openpyxl\n",
      "  Obtaining dependency information for openpyxl from https://files.pythonhosted.org/packages/c0/da/977ded879c29cbd04de313843e76868e6e13408a94ed6b987245dc7c8506/openpyxl-3.1.5-py2.py3-none-any.whl.metadata\n",
      "  Downloading openpyxl-3.1.5-py2.py3-none-any.whl.metadata (2.5 kB)\n",
      "Collecting et-xmlfile (from openpyxl)\n",
      "  Obtaining dependency information for et-xmlfile from https://files.pythonhosted.org/packages/c1/8b/5fe2cc11fee489817272089c4203e679c63b570a5aaeb18d852ae3cbba6a/et_xmlfile-2.0.0-py3-none-any.whl.metadata\n",
      "  Downloading et_xmlfile-2.0.0-py3-none-any.whl.metadata (2.7 kB)\n",
      "Downloading openpyxl-3.1.5-py2.py3-none-any.whl (250 kB)\n",
      "\u001b[?25l   \u001b[90m━━━━━━━━━━━━━━━━━━━━━━━━━━━━━━━━━━━━━━━━\u001b[0m \u001b[32m0.0/250.9 kB\u001b[0m \u001b[31m?\u001b[0m eta \u001b[36m-:--:--\u001b[0m\n",
      "\u001b[2K   \u001b[90m━━━━━━━━━━━━━━━━━━━━━━━━━━━━━━━━━━━━━━━━\u001b[0m \u001b[32m250.9/250.9 kB\u001b[0m \u001b[31m7.8 MB/s\u001b[0m eta \u001b[36m0:00:00\u001b[0m\n",
      "\u001b[?25hDownloading et_xmlfile-2.0.0-py3-none-any.whl (18 kB)\n",
      "Installing collected packages: et-xmlfile, openpyxl\n",
      "Successfully installed et-xmlfile-2.0.0 openpyxl-3.1.5\n",
      "\u001b[43mNote: you may need to restart the kernel using %restart_python or dbutils.library.restartPython() to use updated packages.\u001b[0m\n"
     ]
    }
   ],
   "source": [
    "# Para la gestión de archivos xls\n",
    "%pip install openpyxl"
   ]
  },
  {
   "cell_type": "code",
   "execution_count": 0,
   "metadata": {
    "application/vnd.databricks.v1+cell": {
     "cellMetadata": {
      "byteLimit": 2048000,
      "rowLimit": 10000
     },
     "inputWidgets": {},
     "nuid": "27e1cfdc-9704-40ab-95bf-f5adb93c5890",
     "showTitle": false,
     "tableResultSettingsMap": {},
     "title": ""
    }
   },
   "outputs": [
    {
     "name": "stdout",
     "output_type": "stream",
     "text": [
      "Requirement already satisfied: requests in /databricks/python3/lib/python3.11/site-packages (2.31.0)\n",
      "Requirement already satisfied: charset-normalizer<4,>=2 in /databricks/python3/lib/python3.11/site-packages (from requests) (2.0.4)\n",
      "Requirement already satisfied: idna<4,>=2.5 in /databricks/python3/lib/python3.11/site-packages (from requests) (3.4)\n",
      "Requirement already satisfied: urllib3<3,>=1.21.1 in /databricks/python3/lib/python3.11/site-packages (from requests) (1.26.16)\n",
      "Requirement already satisfied: certifi>=2017.4.17 in /databricks/python3/lib/python3.11/site-packages (from requests) (2023.7.22)\n",
      "\u001b[43mNote: you may need to restart the kernel using %restart_python or dbutils.library.restartPython() to use updated packages.\u001b[0m\n"
     ]
    }
   ],
   "source": [
    "# Para la conexión con el modelo en Azure Foundry\n",
    "%pip install requests\n"
   ]
  },
  {
   "cell_type": "markdown",
   "metadata": {
    "application/vnd.databricks.v1+cell": {
     "cellMetadata": {},
     "inputWidgets": {},
     "nuid": "75eb24e6-d9ce-4667-9a6c-d34524d8edf7",
     "showTitle": false,
     "tableResultSettingsMap": {},
     "title": ""
    }
   },
   "source": [
    "##Importaciones"
   ]
  },
  {
   "cell_type": "code",
   "execution_count": 0,
   "metadata": {
    "application/vnd.databricks.v1+cell": {
     "cellMetadata": {
      "byteLimit": 2048000,
      "rowLimit": 10000
     },
     "inputWidgets": {},
     "nuid": "c86daffd-25d8-453a-b272-ea8475fbf587",
     "showTitle": false,
     "tableResultSettingsMap": {},
     "title": ""
    }
   },
   "outputs": [],
   "source": [
    "import pandas as pd\n",
    "from sentence_transformers import SentenceTransformer, util\n",
    "from transformers import AutoModelForCausalLM, AutoTokenizer, pipeline\n",
    "import torch\n",
    "import requests\n",
    "import json"
   ]
  },
  {
   "cell_type": "markdown",
   "metadata": {
    "application/vnd.databricks.v1+cell": {
     "cellMetadata": {},
     "inputWidgets": {},
     "nuid": "ca300611-7dad-463d-93e9-4a7d083bd62d",
     "showTitle": false,
     "tableResultSettingsMap": {},
     "title": ""
    }
   },
   "source": [
    "## Endpoint y API key"
   ]
  },
  {
   "cell_type": "code",
   "execution_count": 0,
   "metadata": {
    "application/vnd.databricks.v1+cell": {
     "cellMetadata": {
      "byteLimit": 2048000,
      "rowLimit": 10000
     },
     "inputWidgets": {},
     "nuid": "a24ffaae-0e95-4db7-90df-0eb41d50b6c1",
     "showTitle": false,
     "tableResultSettingsMap": {},
     "title": ""
    }
   },
   "outputs": [],
   "source": [
    "endpoint = \"https://aoi-demogeneral-eastus2.openai.azure.com/openai/deployments/o4-mini-prueba-tecnica/chat/completions?api-version=2024-12-01-preview\"\n",
    "\n",
    "api_key = \"\""
   ]
  },
  {
   "cell_type": "markdown",
   "metadata": {
    "application/vnd.databricks.v1+cell": {
     "cellMetadata": {},
     "inputWidgets": {},
     "nuid": "6cc1fea5-7a1b-4f05-8d77-5eb9036acb6f",
     "showTitle": false,
     "tableResultSettingsMap": {},
     "title": ""
    }
   },
   "source": [
    "##Carga y visualización del archivo"
   ]
  },
  {
   "cell_type": "code",
   "execution_count": 0,
   "metadata": {
    "application/vnd.databricks.v1+cell": {
     "cellMetadata": {
      "byteLimit": 2048000,
      "rowLimit": 10000
     },
     "inputWidgets": {},
     "nuid": "29a89de6-06e9-42ac-9eb3-40febb580bd8",
     "showTitle": false,
     "tableResultSettingsMap": {},
     "title": ""
    }
   },
   "outputs": [
    {
     "data": {
      "text/html": [
       "<style scoped>\n",
       "  .table-result-container {\n",
       "    max-height: 300px;\n",
       "    overflow: auto;\n",
       "  }\n",
       "  table, th, td {\n",
       "    border: 1px solid black;\n",
       "    border-collapse: collapse;\n",
       "  }\n",
       "  th, td {\n",
       "    padding: 5px;\n",
       "  }\n",
       "  th {\n",
       "    text-align: left;\n",
       "  }\n",
       "</style><div class='table-result-container'><table class='table-result'><thead style='background-color: white'><tr><th>#</th><th>Relevancia</th><th>Providencia</th><th>Tipo</th><th>Fecha Sentencia</th><th>Tema - subtema</th><th>resuelve</th><th>sintesis</th></tr></thead><tbody><tr><td>1</td><td>966965.0</td><td>T-185/22</td><td>null</td><td>2022-05-31T00:00:00Z</td><td>null</td><td>en nombre del pueblo y por mandato de la Constitución, RESUELVE PRIMERO.- REVOCAR las sentencias expedidas el 6 de enero de 2021, por el Juzgado Veinte Penal Municipal con Función de Control de Garantías de Bogotá, en primera instancia, y el 12 de febrero de 2021, por el Juzgado Cincuenta Penal del Circuito con Función de Conocimiento de Bogotá, en segunda instancia, mediante las cuales concedieron el amparo de los derechos fundamentales al buen nombre y a la honra de Enrique Vallejo Echeverri, Paula Camila Fonseca y la Clínica Envalle S.A.S. En su lugar, DECLARAR IMPROCEDENTE el amparo invocado por los accionantes, por las razones expuestas en la parte motiva de esta providencia. SEGUNDO.- Por Secretaría General, LÍBRENSE las comunicaciones de que trata el artículo 36 del Decreto 2591 de 1991.</td><td>En este caso se formula la acción de tutela en contra de un particular, alegando la vulneración de los derechos fundamentales al buen nombre y honra, en virtud de las afirmaciones publicadas en redes sociales sobre el procedimiento médico veterinario que se le practicó a la mascota de la accionada, las cuales, según los accionantes, ponen en duda su ética profesional, al ser información errónea e inexacta. La Corte decidió declararla IMPROCEDENTE la acción de tutela, por no acreditar los requisitos de procedencia frente a la libertad de expresión en las redes sociales. En particular, no se demostró el estado de indefensión, como tampoco se superó el requisito de subsidiariedad.</td></tr><tr><td>3</td><td>963168.0</td><td>T-356/21</td><td>null</td><td>2021-10-15T00:00:00Z</td><td>ACCIÓN DE TUTELA PARA PROTEGER EL DERECHO A LA HONRA Y BUEN NOMBRE EN REDES SOCIALES-Improcedencia por incumplir requisito de subsidiariedad y los accionantes no se encuentran en estado de indefensión ADMINISTRACION DE JUSTICIA CON PERSPECTIVA DE GENERO-Su desconocimiento por parte de quienes ejercen funciones judiciales, puede convertirse en un nuevo acto de violencia en contra de la mujer denunciante DERECHO A LA HONRA Y BUEN NOMBRE FRENTE A LA LIBERTAD DE EXPRESIÓN EN REDES SOCIALES-Denuncia de víctimas de violencia sexual, discurso especialmente protegido DERECHO A LA LIBERTAD DE INFORMACION Y DERECHO DE OPINION-Diferencias DERECHO DE LAS MUJERES A UNA VIDA LIBRE DE VIOLENCIA-Fundamental DERECHOS A LA LIBERTAD DE EXPRESION DE PENSAMIENTO Y OPINION-Reiteración de jurisprudencia ESCRACHE Y LIBERTAD DE EXPRESIÓN EN REDES SOCIALES-Discurso protegido de denuncia social sobre hechos de acoso o violencia sexual LIBERTAD DE EXPRESION EN INTERNET Y REDES SOCIALES-Límites a partir de la eventual afectación de derechos de terceros LIBERTAD DE EXPRESION FRENTE A LOS DERECHOS A LA HONRA Y AL BUEN NOMBRE EN REDES SOCIALES-Deber del juez constitucional realizar ponderación PRINCIPIO DE SUBSIDIARIEDAD FRENTE AL BUEN NOMBRE Y HONRA EN INTERNET Y REDES SOCIALES-Parámetros para determinar relevancia constitucional PRINCIPIO DE SUBSIDIARIEDAD FRENTE AL BUEN NOMBRE Y HONRA EN INTERNET Y REDES SOCIALES-Personas naturales</td><td>en nombre del pueblo y por mandato de la Constitucion Politica, RESUELVE: Primero. REVOCAR el fallo proferido por el Juzgado Octavo Civil del Circuito de Cartagena 17 de septiembre de 2020, que a su vez confirmo la sentencia emitida por el Juzgado Decimo Civil Municipal de Cartagena el 3 de julio de 2020, mediante la cual se concedio el amparo deprecado por el accionante; en su lugar, DECLARAR IMPROCEDENTE la accion de tutela presentada por Daniel Quiros Carvalo contra la Colectiva Feminista Blanca Villamil, el Colectivo de Trabajo Social de la Universidad de Cartagena y la Mesa del Movimiento Social de Mujeres de Cartagena y Bolivar. Segundo. DESVINCULAR del tramite de la presente accion de tutela a la Colectiva Feminista \"Las Anonimas\" de la Universidad de Cartagena, el grupo Incendiarias y el grupo Juntanza Feminista, por las razones expuestas en esta providencia. Tercero. LLAMAR la atencion a los Juzgados Decimo Civil Municipal y Octavo Civil del Circuito de Cartagena para que analicen con perspectiva de genero los casos concretos donde son parte mujeres afectadas o victimas, conforme lo anotado por la jurisprudencia de este tribunal. Cuarto. Por Secretaria General de esta Corporacion LIBRAR la comunicacion prevista en el articulo 36 del Decreto 2591 de 1991.</td><td>El peticionario considera que los accionantes violaron sus derechos fundamentales al buen nombre, la honra y la integridad moral, al difundir a través de redes sociales denuncias públicas realizadas en su contra y en las que se le refiere como responsable del delito de acceso carnal violento, sin que para el efecto obrara decisión penal ejecutoriada que respaldara dichas publicaciones. Se reitera jurisprudencia relacionada con: 1°. La libertad de expresión en el ámbito de la jurisprudencia constitucional. 2°. Las reglas de procedibilidad de la acción de tutela en materia de libertad de expresión. 3°. Los límites a la libertad de expresión en Internet a partir de la eventual afectación de derechos de terceros -juicio de ponderación- y, 4°. La defensa de los derechos de las mujeres a través de redes sociales. A pesar de declarar IMPROCEDENTE la acción de tutela deprecada por no superar el principio de subsidiariedad ni el de relevancia constitucional, la Corte hizo un llamado de atención a los jueces de instancia para que analicen con perspectiva de género los casos concretos donde son parte mujeres afectadas o víctimas, conforme lo anotado por la jurisprudencia de la Corporación. Lo anterior, por cuanto las determinaciones adoptadas en primera y segunda instancia desconocieron los estándares de procedibilidad de libertad de expresión fijados por este Tribunal, por cuanto pretermitieron que al tratarse de personas que pertenecen a un grupo históricamente discriminado, marginado o en una especial situación de vulnerabilidad, como las mujeres que defienden y representan las organizaciones accionadas, â€œcualquier restricción que se imponga a sus opiniones debe demostrar que no constituye un acto discriminatorioâ€. Aunado a ello, la orden de disculpas públicas, sin duda, revictimizaba a las afectadas por presuntos actos de violencia de género, quienes bajo el amparo de la Constitución, encuentran en las redes sociales una â€œválvula de escapeâ€ para hacer visibles tales situaciones y vindicar el respeto y la garantía de los derechos de las mujeres.</td></tr><tr><td>5</td><td>956201.0</td><td>T-351/22</td><td>null</td><td>2022-10-07T00:00:00Z</td><td>ACCIÓN DE TUTELA PARA PROTEGER EL DERECHO A LA HONRA Y BUEN NOMBRE EN REDES SOCIALES-Improcedencia por incumplir requisito de subsidiariedad y legitimación en la causa por pasiva LEGITIMACION POR PASIVA DE PLATAFORMAS DIGITALES O REDES SOCIALES-Corresponde al juez constitucional, examinar en cada caso concreto la situación de indefensión frente a internet y a las redes sociales PRINCIPIO DE SUBSIDIARIEDAD FRENTE AL BUEN NOMBRE Y HONRA EN INTERNET Y REDES SOCIALES-Parámetros para determinar relevancia constitucional PRINCIPIO DE SUBSIDIARIEDAD FRENTE AL BUEN NOMBRE Y HONRA EN INTERNET Y REDES SOCIALES-Personas naturales</td><td>administrando justicia en nombre del Pueblo, y por mandato de la Constitución, RESUELVE PRIMERO. REVOCAR el fallo adoptado, el 27 de octubre de 2021, por el Juzgado Veintisiete Civil del Circuito de Bogotá, que confirmó la sentencia dictada el 5 de octubre de 2021, por el Juzgado Octavo de Pequeñas Causas y Competencias Múltiples de Bogotá, que negó las pretensiones invocadas. SEGUNDO. DECLARAR IMPROCEDENTE la acción de tutela, por las razones expuestas en esta providencia. TERCERO. Por Secretaría General, LÍBRESE la comunicación a que alude el artículo 36 del Decreto 2591 de 1991.</td><td>El periodista accionante acusa al abogado accionado de vulnerar sus derechos fundamentales a la intimidad y al habeas datas, así como las libertades de expresión e información, con ocasión de tres mensajes que el accionado publicó, desde el perfil de su firma de abogados, en la red social Twitter, con información personal y difamatoria del accionante, en represalia por la publicación de una columna de opinión. Según el criterio del peticionario, dichos tuits se dirigieron a atacar su integridad personal y dignidad humana al referirse a asuntos que pertenecían a la esfera íntima de su vida, especialmente, a su orientación sexual, salud reproductiva y vida afectiva, además de resultar irresponsables, peligrosas, tendenciosas y reproducen discursos de odio en contra de la comunidad LGTBIQ+. Luego de revisar los presupuestos de procedibilidad de la acción de tutela en materia de libertad de expresión en las redes sociales, cuando se trata de trasgresiones entre particulares, la Corte encontró que el amparo es IMPROCEDENTE porque no superó los requisitos de legitimación por pasiva y subsidiariedad.</td></tr><tr><td>6</td><td>955889.0</td><td>T-246/21</td><td>null</td><td>2021-07-29T00:00:00Z</td><td>ACCION DE TUTELA PARA PROTEGER EL DERECHO A LA INTIMIDAD, AL BUEN NOMBRE Y A LA HONRA EN REDES SOCIALES-Improcedencia por incumplir requisito de relevancia constitucional LEGITIMACION POR PASIVA DE PLATAFORMAS DIGITALES O REDES SOCIALES-Corresponde al juez constitucional, examinar en cada caso concreto la situación de indefensión frente a internet y a las redes sociales PRINCIPIO DE SUBSIDIARIEDAD FRENTE AL BUEN NOMBRE Y HONRA EN INTERNET Y REDES SOCIALES-Personas naturales</td><td>en nombre del pueblo y por mandato de la Constitución, RESUELVE PRIMERO.- CONFIRMAR el fallo el 5 de octubre de 2020, dictado por el Juzgado Décimo Civil Municipal de Ejecución de Sentencias de Medellín, en el cual resolvió declarar improcedente la acción de tutela interpuesta por Jhon David García Valderrama en contra de Luis Emilio Arboleda Arenas, por no haberse cumplido el requisito de subsidiariedad. SEGUNDO.- ORDENAR la desvinculación de este trámite, de Facebook Colombia S.A.S, por las razones expuestas en la parte motiva de esta providencia. TERCERO.- Por Secretaría General, LÍBRENSE las comunicaciones previstas en el artículo 36 del Decreto 2591 de 1991.</td><td>Se presenta la acción de tutela en contra de un ciudadano que publicó en su cuenta de Facebook una fotografía que el actor tenía en la precitada red social, acompañada de un texto que, al parecer del peticionario, es falsa e incita al odio. La Corte declaró la IMPROCEDENCIA de la acción de tutela por falta del requisito de subsidiariedad. Frente al particular precisó que el peticionario no activó los mecanismos de reporte de Facebook, como tampoco advirtió la Corporación que se tratara de un asunto con relevancia constitucional que ameritara un pronunciamiento de fondo. Además, indicó que la acción penal que ya se encuentra en ejecución, resulta idónea y eficaz para atender este reclamo, pues la querella interpuesta por el accionante es por los delitos de injuria y calumnia, Â´por lo que resulta ser un escenario adecuado para establecer si la referida publicación vulneró o no su honra y buen nombre, máxime cuando, según las pruebas practicadas, en el proceso penal ya se cuenta con la dirección de ubicación del aquí accionado, lo cual resultaba indispensable para vincularlo a dicho trámite y poder adelantar las etapas procesales pertinentes.</td></tr><tr><td>7</td><td>955787.0</td><td>T-245A/22</td><td>null</td><td>2022-07-01T00:00:00Z</td><td>ACCION DE TUTELA-Inexistencia de hecho superado ALIENACIÓN O MANIPULACIÓN PARENTAL-Forma de violencia psicológica en contra de la expareja, mediante la instrumentalización de los hijos CARENCIA ACTUAL DE OBJETO-Fenómeno que se configura en los siguientes eventos: hecho superado, daño consumado o situación sobreviniente CONCEPTO DE FAMILIA-No puede ser entendido de manera aislada, sino en concordancia con el principio de pluralismo DERECHO A LA INTIMIDAD FAMILIAR-Afectación por alienación parental, mediante divulgación de información sensible a los hijos DERECHO A LA INTIMIDAD FAMILIAR-Alcance DERECHO A LA INTIMIDAD PERSONAL Y FAMILIAR-Alcance DERECHO A LA INTIMIDAD-Información no debe tocar aspectos de la privacidad mínima de la persona DERECHO A LA INTIMIDAD-Principios que lo protegen DERECHO A LA PROPIA IMAGEN DE NIÑOS, NIÑAS Y ADOLESCENTES-Alcance y contenido DERECHO AL AMBIENTE FAMILIAR SANO E INTERÉS SUPERIOR DE LOS NIÑOS, NIÑAS Y ADOLESCENTES-Progenitores deben mantener rol de garantes, protectores y cuidadores de sus hijos, frente a la exposición de imágenes y videos en redes sociales DERECHO AL BUEN NOMBRE-Alcance DERECHO AL LIBRE DESARROLLO DE LA PERSONALIDAD DE LOS NIÑOS-Protección DERECHO AL LIBRE DESARROLLO DE LA PERSONALIDAD-Contenido y alcance DERECHO DE LOS NIÑOS, NIÑAS Y ADOLESCENTES A SER OIDOS Y A QUE SUS OPINIONES SEAN TENIDAS EN CUENTA-En función de la edad y del grado de madurez DERECHO DE LOS NIÑOS, NIÑAS Y ADOLESCENTES A TENER UNA FAMILIA Y A NO SER SEPARADOS DE ELLA-Protección constitucional DERECHO FUNDAMENTAL DE LOS NIÑOS AL CUIDADO Y AMOR-Deber en el ejercicio de la responsabilidad paternal DERECHOS DE LOS NIÑOS, NIÑAS Y ADOLESCENTES-Regla de subsidiariedad es menos rigurosa y se debe atender de manera primordial el interés superior de los menores de edad ESPACIOS SEMIPUBLICOS Y SEMIPRIVADOS-Características INFORMACION PERSONAL, INTIMIDAD E IMAGEN EN REDES SOCIALES DIGITALES Y EN INTERNET-Riesgos para menores de edad INTERÉS SUPERIOR DE LOS NIÑOS, NIÑAS Y ADOLESCENTES-Prohibición de cualquier forma de violencia en su contra JUEZ DE TUTELA-Facultad de fallar extra y ultra petita LIBERTAD DE EXPRESION Y DERECHO A LA INTIMIDAD-Protección constitucional NIÑOS Y NIÑAS COMO SUJETOS DE ESPECIAL PROTECCION E INTERES SUPERIOR DEL MENOR-Protección y prevalencia de sus derechos sobre los derechos de los demás RESTRICCIONES AL DERECHO AL LIBRE DESARROLLO DE LA PERSONALIDAD-Jurisprudencia constitucional SEPARACION DE LOS PADRES-Actitud hacia los hijos debe propiciar el bienestar general integral SHARENTING Y HUELLA DIGITAL-Riesgos de la sobreexposición de la imagen de los niños, niñas y adolescentes en las redes sociales SHARENTING-Concepto SÍNDROME DE ALIENACIÓN PARENTAL-Concepto VIOLENCIA PSICOLOGICA-Características VIOLENCIA VICARIA-Violencia indirecta contra la mujer</td><td>en nombre del pueblo y por mandato de la Constitución Política, RESUELVE PRIMERO. REVOCAR la Sentencia del 2 de noviembre de 2021 del Juzgado 14 Penal del Circuito de Conocimiento de Santiago de Cali, que confirmó la Sentencia del 21 de septiembre de 2021 del Juzgado 3° Penal Municipal con Función de Control de Garantías de Santiago de Cali, que declaró improcedente la solicitud de amparo por falta de subsidiariedad. En su lugar, AMPARAR los derechos fundamentales de MARR a no padecer injerencias arbitrarias en la familia, a la intimidad familiar, al ambiente familiar sano, a no padecer violencia psicológica y a la dignidad humana y NEGAR la protección de sus derechos a la intimidad, al buen nombre, al libre desarrollo de la personalidad, a la imagen y a la prevalencia de sus derechos sobre los demás. SEGUNDO. ORDENAR a los padres de MARR que, en el futuro, se abstengan de involucrarlo en los conflictos que tengan derivados de su ruptura como pareja. Del mismo modo, ordenarles que asistan a todas las terapias psicológicas que se consideren necesarias por parte del Sistema Nacional de Bienestar Familiar. En todo caso, se hace un llamado a la Defensoría de Familia de Atención Inicial del Centro Zonal Centro del ICBF Regional Valle del Cauca para que, una vez culminada la asistencia psicológica ordenada, en caso de observar un comportamiento reiterativo de los padres que afecte los derechos del niño, imparta las amonestaciones y sanciones previstas en los artículos 54 y 55 del Código de la Infancia y la Adolescencia, haciendo una particular valoración de la conducta renuente de los padres y previo el agotamiento del debido proceso. TERCERO. ORDENAR a la Defensoría de Familia de Atención Inicial del Centro Zonal Centro del ICBF Regional Valle del Cauca que realice un seguimiento a la asistencia de los padres a las terapias y verifique las condiciones del niño, y, en caso de considerarlo necesario, adopte las medidas pertinentes para garantizar los derechos de MARR. CUARTO. EXHORTAR al señor LARC para que se abstenga de divulgar al niño información privada o íntima de la accionada y realizar conductas que afecten psicológicamente a su hijo, lo instrumentalicen para ejercer violencia vicaria o interfieran arbitrariamente en la familia monoparental que este tiene con su madre. QUINTO. ORDENAR a la señora JRR que, en el futuro, cada vez que vaya a publicar en sus redes sociales fotografías, videos o cualquier material relacionado con su hijo MARR, valore los riesgos y las amenazas que se generan con la exposición de su imagen en las redes sociales que utiliza y, en particular, los que han sido estudiados en las consideraciones de este fallo. SEXTO. ORDENAR a la Secretaría General de esta corporación que suprima de toda publicación del presente fallo, los nombres y los datos que permitan identificar al niño y a sus progenitores. Igualmente, ordenar por Secretaría General a los jueces de tutela competentes que se encarguen de salvaguardar la intimidad de las personas mencionadas, manteniendo la reserva sobre el expediente. SÉPTIMO. LIBRAR por Secretaría General la comunicación prevista en el artículo 36 del Decreto Ley 2591 de 1991.</td><td>El accionante, actuando en representación de su hijo menor de edad, presentó la acción de tutela en contra de la progenitora del niño, alegando que ésta vulneró derechos fundamentales al publicar en sus redes sociales unas imágenes en las que aparece con el niño, pese a que estas redes son de acceso público y, además, se encuentran â€œasociadasâ€ a una plataforma de contenido para adultos. Se pide al juez constitucional que ordene a la accionada (i) retirar y eliminar de sus redes sociales o plataformas digitales cualquier imagen, video o contenido en el que se observe o se mencione al niño; (ii) no vuelva a subir a sus redes sociales contenido en el que él menor aparezca, mientras estas continúen siendo completamente públicas, y (iii) tenga en cuenta los deseos de su hijo y no pase por alto las inconformidades expresadas por este acerca de no querer participar de ninguna actividad que implique que su imagen sea subida en dichas redes sociales. Se analiza la siguiente temática: 1°. Los derechos de los niños y niñas en nuestro ordenamiento jurídico. 2°. La manipulación parental y la violencia vicaria como formas de violencia psicológica hacia los niños y niñas y como una forma de vulneración de sus derechos a la intimidad familiar, a no padecer injerencias arbitrarias en ella y a vivir en un ambiente sano. La afectación del derecho a la intimidad familiar derivado de la manipulación de la información sensible expuesta en espacios semipúblicos y, 4°. El derecho a la imagen de los niños y niñas y el deber parental de protección de sus datos en relación con el sharenting. Se AMPARAN los derechos fundamentales a no padecer injerencias arbitrarias en la familia, a la intimidad familiar, al ambiente familiar sano, a no padecer violencia psicológica y a la dignidad humana. Se hace una advertencia a los padres del niño para que, en el futuro, se abstengan de involucrarlo en los conflictos que tengan derivados de su ruptura como pareja. También se imparten una serie de órdenes conducentes a hacer efectivo el goce de las garantías constitucionales amparadas.</td></tr></tbody></table></div>"
      ]
     },
     "metadata": {
      "application/vnd.databricks.v1+output": {
       "addedWidgets": {},
       "aggData": [],
       "aggError": "",
       "aggOverflow": false,
       "aggSchema": [],
       "aggSeriesLimitReached": false,
       "aggType": "",
       "arguments": {},
       "columnCustomDisplayInfos": {},
       "data": [
        [
         1,
         966965,
         "T-185/22",
         null,
         "2022-05-31T00:00:00Z",
         null,
         "en nombre del pueblo y por mandato de la Constitución, RESUELVE PRIMERO.- REVOCAR las sentencias expedidas el 6 de enero de 2021, por el Juzgado Veinte Penal Municipal con Función de Control de Garantías de Bogotá, en primera instancia, y el 12 de febrero de 2021, por el Juzgado Cincuenta Penal del Circuito con Función de Conocimiento de Bogotá, en segunda instancia, mediante las cuales concedieron el amparo de los derechos fundamentales al buen nombre y a la honra de Enrique Vallejo Echeverri, Paula Camila Fonseca y la Clínica Envalle S.A.S. En su lugar, DECLARAR IMPROCEDENTE el amparo invocado por los accionantes, por las razones expuestas en la parte motiva de esta providencia. SEGUNDO.- Por Secretaría General, LÍBRENSE las comunicaciones de que trata el artículo 36 del Decreto 2591 de 1991.",
         "En este caso se formula la acción de tutela en contra de un particular, alegando la vulneración de los derechos fundamentales al buen nombre y honra, en virtud de las afirmaciones publicadas en redes sociales sobre el procedimiento médico veterinario que se le practicó a la mascota de la accionada, las cuales, según los accionantes, ponen en duda su ética profesional, al ser información errónea e inexacta. La Corte decidió declararla IMPROCEDENTE la acción de tutela, por no acreditar los requisitos de procedencia frente a la libertad de expresión en las redes sociales. En particular, no se demostró el estado de indefensión, como tampoco se superó el requisito de subsidiariedad."
        ],
        [
         3,
         963168,
         "T-356/21",
         null,
         "2021-10-15T00:00:00Z",
         "ACCIÓN DE TUTELA PARA PROTEGER EL DERECHO A LA HONRA Y BUEN NOMBRE EN REDES SOCIALES-Improcedencia por incumplir requisito de subsidiariedad y los accionantes no se encuentran en estado de indefensión ADMINISTRACION DE JUSTICIA CON PERSPECTIVA DE GENERO-Su desconocimiento por parte de quienes ejercen funciones judiciales, puede convertirse en un nuevo acto de violencia en contra de la mujer denunciante DERECHO A LA HONRA Y BUEN NOMBRE FRENTE A LA LIBERTAD DE EXPRESIÓN EN REDES SOCIALES-Denuncia de víctimas de violencia sexual, discurso especialmente protegido DERECHO A LA LIBERTAD DE INFORMACION Y DERECHO DE OPINION-Diferencias DERECHO DE LAS MUJERES A UNA VIDA LIBRE DE VIOLENCIA-Fundamental DERECHOS A LA LIBERTAD DE EXPRESION DE PENSAMIENTO Y OPINION-Reiteración de jurisprudencia ESCRACHE Y LIBERTAD DE EXPRESIÓN EN REDES SOCIALES-Discurso protegido de denuncia social sobre hechos de acoso o violencia sexual LIBERTAD DE EXPRESION EN INTERNET Y REDES SOCIALES-Límites a partir de la eventual afectación de derechos de terceros LIBERTAD DE EXPRESION FRENTE A LOS DERECHOS A LA HONRA Y AL BUEN NOMBRE EN REDES SOCIALES-Deber del juez constitucional realizar ponderación PRINCIPIO DE SUBSIDIARIEDAD FRENTE AL BUEN NOMBRE Y HONRA EN INTERNET Y REDES SOCIALES-Parámetros para determinar relevancia constitucional PRINCIPIO DE SUBSIDIARIEDAD FRENTE AL BUEN NOMBRE Y HONRA EN INTERNET Y REDES SOCIALES-Personas naturales",
         "en nombre del pueblo y por mandato de la Constitucion Politica, RESUELVE: Primero. REVOCAR el fallo proferido por el Juzgado Octavo Civil del Circuito de Cartagena 17 de septiembre de 2020, que a su vez confirmo la sentencia emitida por el Juzgado Decimo Civil Municipal de Cartagena el 3 de julio de 2020, mediante la cual se concedio el amparo deprecado por el accionante; en su lugar, DECLARAR IMPROCEDENTE la accion de tutela presentada por Daniel Quiros Carvalo contra la Colectiva Feminista Blanca Villamil, el Colectivo de Trabajo Social de la Universidad de Cartagena y la Mesa del Movimiento Social de Mujeres de Cartagena y Bolivar. Segundo. DESVINCULAR del tramite de la presente accion de tutela a la Colectiva Feminista \"Las Anonimas\" de la Universidad de Cartagena, el grupo Incendiarias y el grupo Juntanza Feminista, por las razones expuestas en esta providencia. Tercero. LLAMAR la atencion a los Juzgados Decimo Civil Municipal y Octavo Civil del Circuito de Cartagena para que analicen con perspectiva de genero los casos concretos donde son parte mujeres afectadas o victimas, conforme lo anotado por la jurisprudencia de este tribunal. Cuarto. Por Secretaria General de esta Corporacion LIBRAR la comunicacion prevista en el articulo 36 del Decreto 2591 de 1991.",
         "El peticionario considera que los accionantes violaron sus derechos fundamentales al buen nombre, la honra y la integridad moral, al difundir a través de redes sociales denuncias públicas realizadas en su contra y en las que se le refiere como responsable del delito de acceso carnal violento, sin que para el efecto obrara decisión penal ejecutoriada que respaldara dichas publicaciones. Se reitera jurisprudencia relacionada con: 1°. La libertad de expresión en el ámbito de la jurisprudencia constitucional. 2°. Las reglas de procedibilidad de la acción de tutela en materia de libertad de expresión. 3°. Los límites a la libertad de expresión en Internet a partir de la eventual afectación de derechos de terceros -juicio de ponderación- y, 4°. La defensa de los derechos de las mujeres a través de redes sociales. A pesar de declarar IMPROCEDENTE la acción de tutela deprecada por no superar el principio de subsidiariedad ni el de relevancia constitucional, la Corte hizo un llamado de atención a los jueces de instancia para que analicen con perspectiva de género los casos concretos donde son parte mujeres afectadas o víctimas, conforme lo anotado por la jurisprudencia de la Corporación. Lo anterior, por cuanto las determinaciones adoptadas en primera y segunda instancia desconocieron los estándares de procedibilidad de libertad de expresión fijados por este Tribunal, por cuanto pretermitieron que al tratarse de personas que pertenecen a un grupo históricamente discriminado, marginado o en una especial situación de vulnerabilidad, como las mujeres que defienden y representan las organizaciones accionadas, â€œcualquier restricción que se imponga a sus opiniones debe demostrar que no constituye un acto discriminatorioâ€. Aunado a ello, la orden de disculpas públicas, sin duda, revictimizaba a las afectadas por presuntos actos de violencia de género, quienes bajo el amparo de la Constitución, encuentran en las redes sociales una â€œválvula de escapeâ€ para hacer visibles tales situaciones y vindicar el respeto y la garantía de los derechos de las mujeres."
        ],
        [
         5,
         956201,
         "T-351/22",
         null,
         "2022-10-07T00:00:00Z",
         "ACCIÓN DE TUTELA PARA PROTEGER EL DERECHO A LA HONRA Y BUEN NOMBRE EN REDES SOCIALES-Improcedencia por incumplir requisito de subsidiariedad y legitimación en la causa por pasiva LEGITIMACION POR PASIVA DE PLATAFORMAS DIGITALES O REDES SOCIALES-Corresponde al juez constitucional, examinar en cada caso concreto la situación de indefensión frente a internet y a las redes sociales PRINCIPIO DE SUBSIDIARIEDAD FRENTE AL BUEN NOMBRE Y HONRA EN INTERNET Y REDES SOCIALES-Parámetros para determinar relevancia constitucional PRINCIPIO DE SUBSIDIARIEDAD FRENTE AL BUEN NOMBRE Y HONRA EN INTERNET Y REDES SOCIALES-Personas naturales",
         "administrando justicia en nombre del Pueblo, y por mandato de la Constitución, RESUELVE PRIMERO. REVOCAR el fallo adoptado, el 27 de octubre de 2021, por el Juzgado Veintisiete Civil del Circuito de Bogotá, que confirmó la sentencia dictada el 5 de octubre de 2021, por el Juzgado Octavo de Pequeñas Causas y Competencias Múltiples de Bogotá, que negó las pretensiones invocadas. SEGUNDO. DECLARAR IMPROCEDENTE la acción de tutela, por las razones expuestas en esta providencia. TERCERO. Por Secretaría General, LÍBRESE la comunicación a que alude el artículo 36 del Decreto 2591 de 1991.",
         "El periodista accionante acusa al abogado accionado de vulnerar sus derechos fundamentales a la intimidad y al habeas datas, así como las libertades de expresión e información, con ocasión de tres mensajes que el accionado publicó, desde el perfil de su firma de abogados, en la red social Twitter, con información personal y difamatoria del accionante, en represalia por la publicación de una columna de opinión. Según el criterio del peticionario, dichos tuits se dirigieron a atacar su integridad personal y dignidad humana al referirse a asuntos que pertenecían a la esfera íntima de su vida, especialmente, a su orientación sexual, salud reproductiva y vida afectiva, además de resultar irresponsables, peligrosas, tendenciosas y reproducen discursos de odio en contra de la comunidad LGTBIQ+. Luego de revisar los presupuestos de procedibilidad de la acción de tutela en materia de libertad de expresión en las redes sociales, cuando se trata de trasgresiones entre particulares, la Corte encontró que el amparo es IMPROCEDENTE porque no superó los requisitos de legitimación por pasiva y subsidiariedad."
        ],
        [
         6,
         955889,
         "T-246/21",
         null,
         "2021-07-29T00:00:00Z",
         "ACCION DE TUTELA PARA PROTEGER EL DERECHO A LA INTIMIDAD, AL BUEN NOMBRE Y A LA HONRA EN REDES SOCIALES-Improcedencia por incumplir requisito de relevancia constitucional LEGITIMACION POR PASIVA DE PLATAFORMAS DIGITALES O REDES SOCIALES-Corresponde al juez constitucional, examinar en cada caso concreto la situación de indefensión frente a internet y a las redes sociales PRINCIPIO DE SUBSIDIARIEDAD FRENTE AL BUEN NOMBRE Y HONRA EN INTERNET Y REDES SOCIALES-Personas naturales",
         "en nombre del pueblo y por mandato de la Constitución, RESUELVE PRIMERO.- CONFIRMAR el fallo el 5 de octubre de 2020, dictado por el Juzgado Décimo Civil Municipal de Ejecución de Sentencias de Medellín, en el cual resolvió declarar improcedente la acción de tutela interpuesta por Jhon David García Valderrama en contra de Luis Emilio Arboleda Arenas, por no haberse cumplido el requisito de subsidiariedad. SEGUNDO.- ORDENAR la desvinculación de este trámite, de Facebook Colombia S.A.S, por las razones expuestas en la parte motiva de esta providencia. TERCERO.- Por Secretaría General, LÍBRENSE las comunicaciones previstas en el artículo 36 del Decreto 2591 de 1991.",
         "Se presenta la acción de tutela en contra de un ciudadano que publicó en su cuenta de Facebook una fotografía que el actor tenía en la precitada red social, acompañada de un texto que, al parecer del peticionario, es falsa e incita al odio. La Corte declaró la IMPROCEDENCIA de la acción de tutela por falta del requisito de subsidiariedad. Frente al particular precisó que el peticionario no activó los mecanismos de reporte de Facebook, como tampoco advirtió la Corporación que se tratara de un asunto con relevancia constitucional que ameritara un pronunciamiento de fondo. Además, indicó que la acción penal que ya se encuentra en ejecución, resulta idónea y eficaz para atender este reclamo, pues la querella interpuesta por el accionante es por los delitos de injuria y calumnia, Â´por lo que resulta ser un escenario adecuado para establecer si la referida publicación vulneró o no su honra y buen nombre, máxime cuando, según las pruebas practicadas, en el proceso penal ya se cuenta con la dirección de ubicación del aquí accionado, lo cual resultaba indispensable para vincularlo a dicho trámite y poder adelantar las etapas procesales pertinentes."
        ],
        [
         7,
         955787,
         "T-245A/22",
         null,
         "2022-07-01T00:00:00Z",
         "ACCION DE TUTELA-Inexistencia de hecho superado ALIENACIÓN O MANIPULACIÓN PARENTAL-Forma de violencia psicológica en contra de la expareja, mediante la instrumentalización de los hijos CARENCIA ACTUAL DE OBJETO-Fenómeno que se configura en los siguientes eventos: hecho superado, daño consumado o situación sobreviniente CONCEPTO DE FAMILIA-No puede ser entendido de manera aislada, sino en concordancia con el principio de pluralismo DERECHO A LA INTIMIDAD FAMILIAR-Afectación por alienación parental, mediante divulgación de información sensible a los hijos DERECHO A LA INTIMIDAD FAMILIAR-Alcance DERECHO A LA INTIMIDAD PERSONAL Y FAMILIAR-Alcance DERECHO A LA INTIMIDAD-Información no debe tocar aspectos de la privacidad mínima de la persona DERECHO A LA INTIMIDAD-Principios que lo protegen DERECHO A LA PROPIA IMAGEN DE NIÑOS, NIÑAS Y ADOLESCENTES-Alcance y contenido DERECHO AL AMBIENTE FAMILIAR SANO E INTERÉS SUPERIOR DE LOS NIÑOS, NIÑAS Y ADOLESCENTES-Progenitores deben mantener rol de garantes, protectores y cuidadores de sus hijos, frente a la exposición de imágenes y videos en redes sociales DERECHO AL BUEN NOMBRE-Alcance DERECHO AL LIBRE DESARROLLO DE LA PERSONALIDAD DE LOS NIÑOS-Protección DERECHO AL LIBRE DESARROLLO DE LA PERSONALIDAD-Contenido y alcance DERECHO DE LOS NIÑOS, NIÑAS Y ADOLESCENTES A SER OIDOS Y A QUE SUS OPINIONES SEAN TENIDAS EN CUENTA-En función de la edad y del grado de madurez DERECHO DE LOS NIÑOS, NIÑAS Y ADOLESCENTES A TENER UNA FAMILIA Y A NO SER SEPARADOS DE ELLA-Protección constitucional DERECHO FUNDAMENTAL DE LOS NIÑOS AL CUIDADO Y AMOR-Deber en el ejercicio de la responsabilidad paternal DERECHOS DE LOS NIÑOS, NIÑAS Y ADOLESCENTES-Regla de subsidiariedad es menos rigurosa y se debe atender de manera primordial el interés superior de los menores de edad ESPACIOS SEMIPUBLICOS Y SEMIPRIVADOS-Características INFORMACION PERSONAL, INTIMIDAD E IMAGEN EN REDES SOCIALES DIGITALES Y EN INTERNET-Riesgos para menores de edad INTERÉS SUPERIOR DE LOS NIÑOS, NIÑAS Y ADOLESCENTES-Prohibición de cualquier forma de violencia en su contra JUEZ DE TUTELA-Facultad de fallar extra y ultra petita LIBERTAD DE EXPRESION Y DERECHO A LA INTIMIDAD-Protección constitucional NIÑOS Y NIÑAS COMO SUJETOS DE ESPECIAL PROTECCION E INTERES SUPERIOR DEL MENOR-Protección y prevalencia de sus derechos sobre los derechos de los demás RESTRICCIONES AL DERECHO AL LIBRE DESARROLLO DE LA PERSONALIDAD-Jurisprudencia constitucional SEPARACION DE LOS PADRES-Actitud hacia los hijos debe propiciar el bienestar general integral SHARENTING Y HUELLA DIGITAL-Riesgos de la sobreexposición de la imagen de los niños, niñas y adolescentes en las redes sociales SHARENTING-Concepto SÍNDROME DE ALIENACIÓN PARENTAL-Concepto VIOLENCIA PSICOLOGICA-Características VIOLENCIA VICARIA-Violencia indirecta contra la mujer",
         "en nombre del pueblo y por mandato de la Constitución Política, RESUELVE PRIMERO. REVOCAR la Sentencia del 2 de noviembre de 2021 del Juzgado 14 Penal del Circuito de Conocimiento de Santiago de Cali, que confirmó la Sentencia del 21 de septiembre de 2021 del Juzgado 3° Penal Municipal con Función de Control de Garantías de Santiago de Cali, que declaró improcedente la solicitud de amparo por falta de subsidiariedad. En su lugar, AMPARAR los derechos fundamentales de MARR a no padecer injerencias arbitrarias en la familia, a la intimidad familiar, al ambiente familiar sano, a no padecer violencia psicológica y a la dignidad humana y NEGAR la protección de sus derechos a la intimidad, al buen nombre, al libre desarrollo de la personalidad, a la imagen y a la prevalencia de sus derechos sobre los demás. SEGUNDO. ORDENAR a los padres de MARR que, en el futuro, se abstengan de involucrarlo en los conflictos que tengan derivados de su ruptura como pareja. Del mismo modo, ordenarles que asistan a todas las terapias psicológicas que se consideren necesarias por parte del Sistema Nacional de Bienestar Familiar. En todo caso, se hace un llamado a la Defensoría de Familia de Atención Inicial del Centro Zonal Centro del ICBF Regional Valle del Cauca para que, una vez culminada la asistencia psicológica ordenada, en caso de observar un comportamiento reiterativo de los padres que afecte los derechos del niño, imparta las amonestaciones y sanciones previstas en los artículos 54 y 55 del Código de la Infancia y la Adolescencia, haciendo una particular valoración de la conducta renuente de los padres y previo el agotamiento del debido proceso. TERCERO. ORDENAR a la Defensoría de Familia de Atención Inicial del Centro Zonal Centro del ICBF Regional Valle del Cauca que realice un seguimiento a la asistencia de los padres a las terapias y verifique las condiciones del niño, y, en caso de considerarlo necesario, adopte las medidas pertinentes para garantizar los derechos de MARR. CUARTO. EXHORTAR al señor LARC para que se abstenga de divulgar al niño información privada o íntima de la accionada y realizar conductas que afecten psicológicamente a su hijo, lo instrumentalicen para ejercer violencia vicaria o interfieran arbitrariamente en la familia monoparental que este tiene con su madre. QUINTO. ORDENAR a la señora JRR que, en el futuro, cada vez que vaya a publicar en sus redes sociales fotografías, videos o cualquier material relacionado con su hijo MARR, valore los riesgos y las amenazas que se generan con la exposición de su imagen en las redes sociales que utiliza y, en particular, los que han sido estudiados en las consideraciones de este fallo. SEXTO. ORDENAR a la Secretaría General de esta corporación que suprima de toda publicación del presente fallo, los nombres y los datos que permitan identificar al niño y a sus progenitores. Igualmente, ordenar por Secretaría General a los jueces de tutela competentes que se encarguen de salvaguardar la intimidad de las personas mencionadas, manteniendo la reserva sobre el expediente. SÉPTIMO. LIBRAR por Secretaría General la comunicación prevista en el artículo 36 del Decreto Ley 2591 de 1991.",
         "El accionante, actuando en representación de su hijo menor de edad, presentó la acción de tutela en contra de la progenitora del niño, alegando que ésta vulneró derechos fundamentales al publicar en sus redes sociales unas imágenes en las que aparece con el niño, pese a que estas redes son de acceso público y, además, se encuentran â€œasociadasâ€ a una plataforma de contenido para adultos. Se pide al juez constitucional que ordene a la accionada (i) retirar y eliminar de sus redes sociales o plataformas digitales cualquier imagen, video o contenido en el que se observe o se mencione al niño; (ii) no vuelva a subir a sus redes sociales contenido en el que él menor aparezca, mientras estas continúen siendo completamente públicas, y (iii) tenga en cuenta los deseos de su hijo y no pase por alto las inconformidades expresadas por este acerca de no querer participar de ninguna actividad que implique que su imagen sea subida en dichas redes sociales. Se analiza la siguiente temática: 1°. Los derechos de los niños y niñas en nuestro ordenamiento jurídico. 2°. La manipulación parental y la violencia vicaria como formas de violencia psicológica hacia los niños y niñas y como una forma de vulneración de sus derechos a la intimidad familiar, a no padecer injerencias arbitrarias en ella y a vivir en un ambiente sano. La afectación del derecho a la intimidad familiar derivado de la manipulación de la información sensible expuesta en espacios semipúblicos y, 4°. El derecho a la imagen de los niños y niñas y el deber parental de protección de sus datos en relación con el sharenting. Se AMPARAN los derechos fundamentales a no padecer injerencias arbitrarias en la familia, a la intimidad familiar, al ambiente familiar sano, a no padecer violencia psicológica y a la dignidad humana. Se hace una advertencia a los padres del niño para que, en el futuro, se abstengan de involucrarlo en los conflictos que tengan derivados de su ruptura como pareja. También se imparten una serie de órdenes conducentes a hacer efectivo el goce de las garantías constitucionales amparadas."
        ]
       ],
       "datasetInfos": [],
       "dbfsResultPath": null,
       "isJsonSchema": true,
       "metadata": {},
       "overflow": false,
       "plotOptions": {
        "customPlotOptions": {},
        "displayType": "table",
        "pivotAggregation": null,
        "pivotColumns": null,
        "xColumns": null,
        "yColumns": null
       },
       "removedWidgets": [],
       "schema": [
        {
         "metadata": "{}",
         "name": "#",
         "type": "\"long\""
        },
        {
         "metadata": "{}",
         "name": "Relevancia",
         "type": "\"double\""
        },
        {
         "metadata": "{}",
         "name": "Providencia",
         "type": "\"string\""
        },
        {
         "metadata": "{}",
         "name": "Tipo",
         "type": "\"double\""
        },
        {
         "metadata": "{}",
         "name": "Fecha Sentencia",
         "type": "\"timestamp\""
        },
        {
         "metadata": "{}",
         "name": "Tema - subtema",
         "type": "\"string\""
        },
        {
         "metadata": "{}",
         "name": "resuelve",
         "type": "\"string\""
        },
        {
         "metadata": "{}",
         "name": "sintesis",
         "type": "\"string\""
        }
       ],
       "type": "table"
      }
     },
     "output_type": "display_data"
    }
   ],
   "source": [
    "# Ruta del archivo\n",
    "file_path = '/Workspace/Users/nicolayc@outlook.com/sentencias_pasadas.xlsx'\n",
    "\n",
    "# Leer el archivo Excel\n",
    "df = pd.read_excel(file_path)\n",
    "\n",
    "# Verificar las primeras filas\n",
    "display(df.head())"
   ]
  },
  {
   "cell_type": "markdown",
   "metadata": {
    "application/vnd.databricks.v1+cell": {
     "cellMetadata": {},
     "inputWidgets": {},
     "nuid": "d6ebc5f3-66ae-41a1-81d0-38f208f22f4c",
     "showTitle": false,
     "tableResultSettingsMap": {},
     "title": ""
    }
   },
   "source": [
    "##Preprocesamiento y generación de embeddings"
   ]
  },
  {
   "cell_type": "code",
   "execution_count": 0,
   "metadata": {
    "application/vnd.databricks.v1+cell": {
     "cellMetadata": {
      "byteLimit": 2048000,
      "rowLimit": 10000
     },
     "inputWidgets": {},
     "nuid": "f89fd7fc-e6a8-488a-a1c3-b65ae20c4964",
     "showTitle": false,
     "tableResultSettingsMap": {},
     "title": ""
    }
   },
   "outputs": [
    {
     "data": {
      "application/vnd.jupyter.widget-view+json": {
       "model_id": "209e9ccd3d194040be756e4cacb2f3c4",
       "version_major": 2,
       "version_minor": 0
      },
      "text/plain": [
       "modules.json:   0%|          | 0.00/349 [00:00<?, ?B/s]"
      ]
     },
     "metadata": {},
     "output_type": "display_data"
    },
    {
     "data": {
      "application/vnd.jupyter.widget-view+json": {
       "model_id": "5eb3da8104464817beb6219f06ee0a6e",
       "version_major": 2,
       "version_minor": 0
      },
      "text/plain": [
       "config_sentence_transformers.json:   0%|          | 0.00/116 [00:00<?, ?B/s]"
      ]
     },
     "metadata": {},
     "output_type": "display_data"
    },
    {
     "data": {
      "application/vnd.jupyter.widget-view+json": {
       "model_id": "e77b1639c21d4cb1b77d4556a246cace",
       "version_major": 2,
       "version_minor": 0
      },
      "text/plain": [
       "README.md: 0.00B [00:00, ?B/s]"
      ]
     },
     "metadata": {},
     "output_type": "display_data"
    },
    {
     "data": {
      "application/vnd.jupyter.widget-view+json": {
       "model_id": "89f5aa438c4d49ef84ef94f61fa01e38",
       "version_major": 2,
       "version_minor": 0
      },
      "text/plain": [
       "sentence_bert_config.json:   0%|          | 0.00/53.0 [00:00<?, ?B/s]"
      ]
     },
     "metadata": {},
     "output_type": "display_data"
    },
    {
     "data": {
      "application/vnd.jupyter.widget-view+json": {
       "model_id": "55de0fcb741b4fb79ff3ca25f3c1a5fd",
       "version_major": 2,
       "version_minor": 0
      },
      "text/plain": [
       "config.json:   0%|          | 0.00/612 [00:00<?, ?B/s]"
      ]
     },
     "metadata": {},
     "output_type": "display_data"
    },
    {
     "data": {
      "application/vnd.jupyter.widget-view+json": {
       "model_id": "49b31a8966d5453a831d8d0feadb3687",
       "version_major": 2,
       "version_minor": 0
      },
      "text/plain": [
       "model.safetensors:   0%|          | 0.00/90.9M [00:00<?, ?B/s]"
      ]
     },
     "metadata": {},
     "output_type": "display_data"
    },
    {
     "data": {
      "application/vnd.jupyter.widget-view+json": {
       "model_id": "65bdf5b0e0574f50b1fc51d61487d621",
       "version_major": 2,
       "version_minor": 0
      },
      "text/plain": [
       "tokenizer_config.json:   0%|          | 0.00/350 [00:00<?, ?B/s]"
      ]
     },
     "metadata": {},
     "output_type": "display_data"
    },
    {
     "data": {
      "application/vnd.jupyter.widget-view+json": {
       "model_id": "f3f85ca710984de79192a31bfb6188c4",
       "version_major": 2,
       "version_minor": 0
      },
      "text/plain": [
       "vocab.txt: 0.00B [00:00, ?B/s]"
      ]
     },
     "metadata": {},
     "output_type": "display_data"
    },
    {
     "data": {
      "application/vnd.jupyter.widget-view+json": {
       "model_id": "7284c6ae497f4878a4ade0dd54d7a681",
       "version_major": 2,
       "version_minor": 0
      },
      "text/plain": [
       "tokenizer.json: 0.00B [00:00, ?B/s]"
      ]
     },
     "metadata": {},
     "output_type": "display_data"
    },
    {
     "data": {
      "application/vnd.jupyter.widget-view+json": {
       "model_id": "0d43a9e168b74fbfa8e67c1bff38b13d",
       "version_major": 2,
       "version_minor": 0
      },
      "text/plain": [
       "special_tokens_map.json:   0%|          | 0.00/112 [00:00<?, ?B/s]"
      ]
     },
     "metadata": {},
     "output_type": "display_data"
    },
    {
     "data": {
      "application/vnd.jupyter.widget-view+json": {
       "model_id": "fa5387cdddc4450cb3f95de94c753672",
       "version_major": 2,
       "version_minor": 0
      },
      "text/plain": [
       "config.json:   0%|          | 0.00/190 [00:00<?, ?B/s]"
      ]
     },
     "metadata": {},
     "output_type": "display_data"
    },
    {
     "name": "stdout",
     "output_type": "stream",
     "text": [
      "Embeddings generados.\n"
     ]
    }
   ],
   "source": [
    "sentencias = df['sintesis'].dropna().tolist()\n",
    "\n",
    "# Cargar modelo semántico\n",
    "semantic_model = SentenceTransformer('all-MiniLM-L6-v2')\n",
    "\n",
    "# Generar embeddings\n",
    "embeddings = semantic_model.encode(sentencias, convert_to_tensor=True)\n",
    "\n",
    "print('Embeddings generados.')"
   ]
  },
  {
   "cell_type": "markdown",
   "metadata": {
    "application/vnd.databricks.v1+cell": {
     "cellMetadata": {},
     "inputWidgets": {},
     "nuid": "98765352-d48b-4ba5-8c74-5f127bb52dc5",
     "showTitle": false,
     "tableResultSettingsMap": {},
     "title": ""
    }
   },
   "source": [
    "##Conexión al modelo generativo"
   ]
  },
  {
   "cell_type": "code",
   "execution_count": 0,
   "metadata": {
    "application/vnd.databricks.v1+cell": {
     "cellMetadata": {
      "byteLimit": 2048000,
      "rowLimit": 10000
     },
     "inputWidgets": {},
     "nuid": "62d74245-9d38-45ac-93c1-c90380cf2337",
     "showTitle": false,
     "tableResultSettingsMap": {},
     "title": ""
    }
   },
   "outputs": [],
   "source": [
    "def generar_respuesta_azure(prompt):\n",
    "    headers = {\n",
    "        \"Content-Type\": \"application/json\",\n",
    "        \"api-key\": api_key\n",
    "    }\n",
    "\n",
    "    body = {\n",
    "        \"messages\": [\n",
    "            {\"role\": \"system\", \"content\": \"Eres un asistente legal que explica casos jurídicos de manera sencilla para personas sin conocimientos de derecho.\"},\n",
    "            {\"role\": \"user\", \"content\": prompt}\n",
    "        ],\n",
    "        \"max_completion_tokens\": 1500\n",
    "    }\n",
    "\n",
    "    response = requests.post(endpoint, headers=headers, data=json.dumps(body))\n",
    "\n",
    "    if response.status_code == 200:\n",
    "        respuesta = response.json()[\"choices\"][0][\"message\"][\"content\"]\n",
    "        return respuesta\n",
    "    else:\n",
    "        print(f\"Error {response.status_code}: {response.text}\")\n",
    "        return None\n"
   ]
  },
  {
   "cell_type": "markdown",
   "metadata": {
    "application/vnd.databricks.v1+cell": {
     "cellMetadata": {},
     "inputWidgets": {},
     "nuid": "ccac58b8-9e8d-4186-9b06-a265ee2831b5",
     "showTitle": false,
     "tableResultSettingsMap": {},
     "title": ""
    }
   },
   "source": [
    "##Función para la búsqueda semántica"
   ]
  },
  {
   "cell_type": "code",
   "execution_count": 0,
   "metadata": {
    "application/vnd.databricks.v1+cell": {
     "cellMetadata": {
      "byteLimit": 2048000,
      "rowLimit": 10000
     },
     "inputWidgets": {},
     "nuid": "98a45660-a9b7-4cfd-93f7-10f52e37ba74",
     "showTitle": false,
     "tableResultSettingsMap": {},
     "title": ""
    }
   },
   "outputs": [],
   "source": [
    "# Función para buscar la sentencia más relevante para un solo tema\n",
    "def buscar_sentencia(tema):\n",
    "    sentencias_encontradas = []\n",
    "\n",
    "    # Calcular embedding de la consulta\n",
    "    query_embedding = semantic_model.encode(tema, convert_to_tensor=True)\n",
    "    cos_sim = util.cos_sim(query_embedding, embeddings)[0]\n",
    "\n",
    "    # Obtener la sentencia más relevante\n",
    "    top_result = cos_sim.topk(1)\n",
    "\n",
    "    for idx in top_result.indices:\n",
    "        idx = int(idx)\n",
    "        sentencia = {\n",
    "            'Tema': tema,\n",
    "            'Número Sentencia': df.iloc[idx]['#'],\n",
    "            'Fecha Sentencia': df.iloc[idx]['Fecha Sentencia'],\n",
    "            'Sentencia': df.iloc[idx]['resuelve'],\n",
    "            'Sintesis': df.iloc[idx]['sintesis']\n",
    "        }\n",
    "        sentencias_encontradas.append(sentencia)\n",
    "\n",
    "    return sentencias_encontradas\n"
   ]
  },
  {
   "cell_type": "markdown",
   "metadata": {
    "application/vnd.databricks.v1+cell": {
     "cellMetadata": {},
     "inputWidgets": {},
     "nuid": "f6a7597c-7292-4036-b14d-f06db66482ec",
     "showTitle": false,
     "tableResultSettingsMap": {},
     "title": ""
    }
   },
   "source": [
    "# Consulta de 3 demandas"
   ]
  },
  {
   "cell_type": "markdown",
   "metadata": {
    "application/vnd.databricks.v1+cell": {
     "cellMetadata": {},
     "inputWidgets": {},
     "nuid": "e13d42d5-1850-4a48-b7bb-d15d1512fe8b",
     "showTitle": false,
     "tableResultSettingsMap": {},
     "title": ""
    }
   },
   "source": [
    "## ¿Cuál caso habla de las organizaciones criminales y grupos armados organizados?"
   ]
  },
  {
   "cell_type": "markdown",
   "metadata": {
    "application/vnd.databricks.v1+cell": {
     "cellMetadata": {},
     "inputWidgets": {},
     "nuid": "75af33f3-5b80-4895-a9b2-5ebb62623ed3",
     "showTitle": false,
     "tableResultSettingsMap": {},
     "title": ""
    }
   },
   "source": [
    "Input, ejecución de la búsqueda y explicación de la sentencia"
   ]
  },
  {
   "cell_type": "code",
   "execution_count": 0,
   "metadata": {
    "application/vnd.databricks.v1+cell": {
     "cellMetadata": {
      "byteLimit": 2048000,
      "rowLimit": 10000
     },
     "inputWidgets": {},
     "nuid": "2bde9e3e-f20e-4ed9-969d-51bdaf46b3af",
     "showTitle": false,
     "tableResultSettingsMap": {},
     "title": ""
    }
   },
   "outputs": [
    {
     "data": {
      "text/plain": [
       "Ingrese el tema que desea consultar:  ¿Cuál caso habla de las organizaciones criminales y grupos armados organizados?"
      ]
     },
     "metadata": {},
     "output_type": "display_data"
    }
   ],
   "source": [
    "tema = input(\"Ingrese el tema que desea consultar: \")"
   ]
  },
  {
   "cell_type": "code",
   "execution_count": 0,
   "metadata": {
    "application/vnd.databricks.v1+cell": {
     "cellMetadata": {},
     "inputWidgets": {},
     "nuid": "aeed5edb-124c-4861-bc38-b477b04d7758",
     "showTitle": false,
     "tableResultSettingsMap": {},
     "title": ""
    }
   },
   "outputs": [
    {
     "name": "stdout",
     "output_type": "stream",
     "text": [
      "\n",
      "Explicación generada:\n",
      "Sentencia 410 – Fecha: 2019-11-20  \n",
      "  \n",
      "Qué pasó en palabras muy sencillas:  \n",
      "Un grupo de personas cuestionó varios apartados de la Ley 1908 de 2018, una norma que busca agilizar la investigación y el juicio de grandes bandas criminales (los llamados GDO y GAO). Esa ley decía, básicamente, que durante la primera fase de investigación (“fase de indagación”) no se podía divulgar nada para proteger a testigos, víctimas o fiscales, y para resguardar la seguridad nacional. Los demandantes dijeron que eso choca con:  \n",
      "  1. El derecho a acceder a la información.  \n",
      "  2. El derecho al debido proceso y a la defensa de quien está siendo investigado.  \n",
      "\n",
      "Qué decidió la Corte Constitucional:  \n",
      "  • Revisó el artículo 22 de la ley (el que añadió el nuevo artículo 212B al Código de Procedimiento Penal).  \n",
      "  • Dijo que esa restricción de publicar datos SÍ puede mantenerse, pero sólo cuando haya indicios de que el caso involucra a esos grandes grupos criminales organizados (GDO o GAO).  \n",
      "  • En lenguaje técnico, declaró la “exequibilidad condicionada” de ese artículo 22: es constitucional, pero con la condición de que se aplique únicamente a investigaciones relacionadas con GDO o GAO.  \n",
      "\n",
      "En resumen:  \n",
      "  - No tumbaron toda la ley ni todos los artículos impugnados, sino que validaron el secreto de la indagación sólo para casos de esas bandas organizadas.  \n"
     ]
    }
   ],
   "source": [
    "# Buscar sentencias\n",
    "sentencias_encontradas = buscar_sentencia(tema)\n",
    "\n",
    "# Armar el texto para el prompt\n",
    "sentencias_texto = \"\"\n",
    "for i, sentencia in enumerate(sentencias_encontradas, 1):\n",
    "    sentencias_texto += f\"{i}. Número Sentencia: {sentencia['Número Sentencia']} - Fecha: {sentencia['Fecha Sentencia']}\\n\"\n",
    "    sentencias_texto += f\"Demanda: {sentencia['Sintesis']}\\n\"\n",
    "    sentencias_texto += f\"Sentencia: {sentencia['Sentencia']}\\n\\n\"\n",
    "\n",
    "# Crear el prompt\n",
    "prompt = f\"\"\"\n",
    "Te muestro las siguientes demandas legales. Por favor, explícalas de forma muy sencilla y clara, como si se lo contaras a alguien sin conocimientos de derecho. Incluye siempre el número de la sentencia y la fecha al explicarlas.\n",
    "\n",
    "{sentencias_texto}\n",
    "\n",
    "Explica cada demanda de forma breve y accesible.\n",
    "\"\"\"\n",
    "\n",
    "# Llamar al modelo en Azure\n",
    "respuesta = generar_respuesta_azure(prompt)\n",
    "\n",
    "# Mostrar la respuesta\n",
    "if respuesta:\n",
    "    print(f'\\nExplicación generada:\\n{respuesta}')"
   ]
  },
  {
   "cell_type": "markdown",
   "metadata": {
    "application/vnd.databricks.v1+cell": {
     "cellMetadata": {},
     "inputWidgets": {},
     "nuid": "41c5d7c8-ae00-4ed0-9007-0c2c528ee235",
     "showTitle": false,
     "tableResultSettingsMap": {},
     "title": ""
    }
   },
   "source": [
    "##¿Qué caso habla sobre el barrio Julio Manzur?"
   ]
  },
  {
   "cell_type": "markdown",
   "metadata": {
    "application/vnd.databricks.v1+cell": {
     "cellMetadata": {},
     "inputWidgets": {},
     "nuid": "e0bbc928-af28-4ef8-bd0e-7a0b920cf093",
     "showTitle": false,
     "tableResultSettingsMap": {},
     "title": ""
    }
   },
   "source": [
    "Input, ejecución de la búsqueda y explicación de la sentencia"
   ]
  },
  {
   "cell_type": "code",
   "execution_count": 0,
   "metadata": {
    "application/vnd.databricks.v1+cell": {
     "cellMetadata": {
      "byteLimit": 2048000,
      "rowLimit": 10000
     },
     "inputWidgets": {},
     "nuid": "76a60ad1-19e1-420f-ab98-6cb3566a00fb",
     "showTitle": false,
     "tableResultSettingsMap": {},
     "title": ""
    }
   },
   "outputs": [
    {
     "data": {
      "text/plain": [
       "Ingrese el tema que desea consultar:  ¿Qué caso habla sobre el barrio Julio Manzur?"
      ]
     },
     "metadata": {},
     "output_type": "display_data"
    }
   ],
   "source": [
    "tema = input(\"Ingrese el tema que desea consultar: \")"
   ]
  },
  {
   "cell_type": "code",
   "execution_count": 0,
   "metadata": {
    "application/vnd.databricks.v1+cell": {
     "cellMetadata": {
      "byteLimit": 2048000,
      "rowLimit": 10000
     },
     "inputWidgets": {},
     "nuid": "c1e29d2b-7e77-43ff-9c34-ff73bf0db509",
     "showTitle": false,
     "tableResultSettingsMap": {},
     "title": ""
    }
   },
   "outputs": [
    {
     "name": "stdout",
     "output_type": "stream",
     "text": [
      "\n",
      "Explicación generada:\n",
      "Sentencia 157 – Fecha: 2021-11-10  \n",
      "Resumen claro y sencillo:\n",
      "\n",
      "1. Qué pasó  \n",
      "   • Carlos Fred Brender Ackerman, ciudadano venezolano en Bogotá, pidió amparo (tutela) porque la alcaldesa Claudia López dijo, en un Consejo Local de Gobierno, que muchos delitos en la ciudad eran culpa de ciudadanos venezolanos.  \n",
      "   • Para él, esas afirmaciones dañaron su buen nombre, honor, dignidad y fueron discriminatorias. Además, la alcaldesa no le respondió su petición de rectificar y pedir disculpas públicas.\n",
      "\n",
      "2. Qué analizó la Corte Constitucional  \n",
      "   • Derechos de los extranjeros en Colombia.  \n",
      "   • El derecho a no ser discriminado.  \n",
      "   • Libertad de expresión de los funcionarios y sus límites.  \n",
      "   • Derecho al buen nombre y a la honra.  \n",
      "   • Cuándo una afirmación genérica o específica puede ser estigmatizante.  \n",
      "   • La importancia de usar un lenguaje respetuoso.\n",
      "\n",
      "3. Qué decidió la Corte  \n",
      "   • CONCEDER la tutela porque las declaraciones de la alcaldesa excedieron su derecho a expresarse y vulneraron derechos fundamentales (buen nombre, honor, no discriminación) de Brender Ackerman y de otros venezolanos que se sintieron agraviados.  \n",
      "   • Extender la protección a todos los migrantes venezolanos en la misma situación (efectos inter comunis).\n",
      "\n",
      "4. Órdenes para la alcaldesa Claudia López  \n",
      "   a) En 5 días: retractarse y ofrecer disculpas públicas a Brender Ackerman y a los venezolanos ofendidos. Estas disculpas deben permanecer publicadas en las redes sociales oficiales de la Alcaldía y en el Twitter personal de la mandataria.  \n",
      "   b) En 2 meses, dentro del Consejo Distrital de Seguridad y Convivencia, debe:  \n",
      "      1. Hacer un diagnóstico sobre estigmatización y discriminación de venezolanos en Bogotá.  \n",
      "      2. Formular recomendaciones y adoptar medidas para eliminarlas en la política de seguridad.  \n",
      "      3. Crear mecanismos de seguimiento y verificación de esas medidas.  \n",
      "   c) Abstenerse de futuras declaraciones que relacionen la nacionalidad venezolana con problemas de inseguridad.\n",
      "\n",
      "5. Estado de la petición original  \n",
      "   • La Corte declaró que ya no hay objeto sobre el derecho de petición, porque la Alcaldía respondió el 14 de diciembre de 2020 a la solicitud de Brender Ackerman.\n",
      "\n",
      "En pocas palabras, la Sentencia 157 del 10 de noviembre de 2021 amparó a un venezolano y a su comunidad contra declaraciones discriminatorias de la alcaldesa de Bogotá, ordenó una disculpa pública y medidas contra la estigmatización.\n"
     ]
    }
   ],
   "source": [
    "# Buscar sentencia\n",
    "sentencia_encontrada = buscar_sentencia(tema)\n",
    "\n",
    "# Armar el texto para el prompt\n",
    "sentencias_texto = \"\"\n",
    "for i, sentencia in enumerate(sentencia_encontrada, 1):\n",
    "    sentencias_texto += f\"{i}. Número Sentencia: {sentencia['Número Sentencia']} - Fecha: {sentencia['Fecha Sentencia']}\\n\"\n",
    "    sentencias_texto += f\"Demanda: {sentencia['Sintesis']}\\n\"\n",
    "    sentencias_texto += f\"Sentencia: {sentencia['Sentencia']}\\n\\n\"\n",
    "\n",
    "# Crear el prompt\n",
    "prompt = f\"\"\"\n",
    "Te muestro la siguiente demanda legale. Por favor, explícala de forma muy sencilla y clara, como si se lo contaras a alguien sin conocimientos de derecho. Incluye siempre el número de la sentencia y la fecha al explicarla.\n",
    "\n",
    "{sentencias_texto}\n",
    "\n",
    "Explica cada demanda de forma breve y accesible.\n",
    "\"\"\"\n",
    "\n",
    "# Llamar al modelo en Azure\n",
    "respuesta = generar_respuesta_azure(prompt)\n",
    "\n",
    "# Mostrar la respuesta\n",
    "if respuesta:\n",
    "    print(f'\\nExplicación generada:\\n{respuesta}')"
   ]
  },
  {
   "cell_type": "markdown",
   "metadata": {
    "application/vnd.databricks.v1+cell": {
     "cellMetadata": {},
     "inputWidgets": {},
     "nuid": "0043f069-762d-4eba-94a8-62b192c36377",
     "showTitle": false,
     "tableResultSettingsMap": {},
     "title": ""
    }
   },
   "source": [
    "## ¿Qué caso habla sobre la comunidad indígena Wayuu?"
   ]
  },
  {
   "cell_type": "markdown",
   "metadata": {
    "application/vnd.databricks.v1+cell": {
     "cellMetadata": {},
     "inputWidgets": {},
     "nuid": "81051024-7ab1-4d95-94b2-cf89525d99fa",
     "showTitle": false,
     "tableResultSettingsMap": {},
     "title": ""
    }
   },
   "source": [
    "Input, ejecución de la búsqueda y explicación de la sentencia"
   ]
  },
  {
   "cell_type": "code",
   "execution_count": 0,
   "metadata": {
    "application/vnd.databricks.v1+cell": {
     "cellMetadata": {
      "byteLimit": 2048000,
      "rowLimit": 10000
     },
     "inputWidgets": {},
     "nuid": "4d281fe7-5528-4039-9901-271d9a5759e6",
     "showTitle": false,
     "tableResultSettingsMap": {},
     "title": ""
    }
   },
   "outputs": [
    {
     "data": {
      "text/plain": [
       "Ingrese el tema que desea consultar:  ¿Qué caso habla sobre la comunidad indígena Wayuu?"
      ]
     },
     "metadata": {},
     "output_type": "display_data"
    }
   ],
   "source": [
    "tema = input(\"Ingrese el tema que desea consultar: \")"
   ]
  },
  {
   "cell_type": "code",
   "execution_count": 0,
   "metadata": {
    "application/vnd.databricks.v1+cell": {
     "cellMetadata": {
      "byteLimit": 2048000,
      "rowLimit": 10000
     },
     "inputWidgets": {},
     "nuid": "899b4aa2-726d-4440-8183-e3666e272a6c",
     "showTitle": false,
     "tableResultSettingsMap": {},
     "title": ""
    }
   },
   "outputs": [
    {
     "name": "stdout",
     "output_type": "stream",
     "text": [
      "\n",
      "Explicación generada:\n",
      "Sentencia 395 – 24/05/2021  \n",
      "Qué pasó en este caso:  \n",
      "La comunidad indígena “Telar Luz del Amanecer” denunció que instalaban y mejoraban un camino terciario dentro de su resguardo sin consultarles. Las autoridades y la empresa encargada decían que no era necesaria la consulta previa porque el camino ya existía y, además, la obra traería beneficios.  \n",
      "\n",
      "Qué decidió la Corte Constitucional:  \n",
      "La Corte revocó (anuló) un fallo anterior que había dicho que no pasaba nada. En su lugar, reconoció que la comunidad sí tenía derecho a ser consultada y protegida en varios ámbitos (petición, consulta previa e identidad cultural) y ordenó lo siguiente:  \n",
      "\n",
      "1. Iniciar la consulta previa  \n",
      "   • En 15 días – el Ministerio del Interior, la Alcaldía de Orito y el contratista (Consorcio Craing) deben convocar a la comunidad y entregar toda la información del proyecto (“Mejoramiento de Vías Terciarias en Orito y Valle del Guamuez”).  \n",
      "   • Objetivos de esa consulta:  \n",
      "     a) Identificar impactos ya causados y los que vengan (ambientales, culturales, sociales…).  \n",
      "     b) Mantener un diálogo permanente entre la comunidad y las entidades.  \n",
      "     c) Proponer medidas (de infraestructura, mitigación, restauración…) que respeten la cultura indígena o, si no fuera posible, explicar por qué y cómo se protege igualmente su cosmovisión.  \n",
      "\n",
      "2. Ajustes ambientales  \n",
      "   • En 20 días – Corpoamazonia (autoridad ambiental) debe revisar y corregir sus planes y el contrato de obra para responder a los impactos directos que ya han ocurrido. Además, participar en la consulta previa.  \n",
      "\n",
      "3. Acto simbólico de disculpa  \n",
      "   • En 10 días – La Alcaldía de Orito debe hacer un acto público pidiendo perdón a la comunidad por haber despreciado la importancia de la consulta previa. Debe grabarlo o documentarlo y publicarlo en su web.  \n",
      "\n",
      "4. Manual interno de consulta  \n",
      "   • En 20 días – La Alcaldía de Orito debe elaborar y difundir instrucciones claras sobre cómo hacer consultas previas en el futuro, para evitar considerar ese trámite como algo “de relleno”.  \n",
      "\n",
      "5. Respuesta a petición  \n",
      "   • En 2 días – La Gobernación del Putumayo debe responder de forma completa y clara a la solicitud que la comunidad le había enviado.  \n",
      "\n",
      "6. Supervisión disciplinaria  \n",
      "   • El expediente se envía a la Procuraduría General para que evalúe si hay lugar a investigación disciplinaria por las demoras u omisiones de la Gobernación del Putumayo y de Corpoamazonia.  \n",
      "\n",
      "Con esta sentencia, la Corte dejó claro que, incluso si una obra parece “mejorar” algo existente, las comunidades indígenas tienen derecho a ser informadas, escuchadas y a que se respeten sus costumbres y forma de vida antes de ejecutar cualquier proyecto en su territorio.\n"
     ]
    }
   ],
   "source": [
    "# Buscar sentencia\n",
    "sentencia_encontrada = buscar_sentencia(tema)\n",
    "\n",
    "# Armar el texto para el prompt\n",
    "sentencias_texto = \"\"\n",
    "for i, sentencia in enumerate(sentencia_encontrada, 1):\n",
    "    sentencias_texto += f\"{i}. Número Sentencia: {sentencia['Número Sentencia']} - Fecha: {sentencia['Fecha Sentencia']}\\n\"\n",
    "    sentencias_texto += f\"Demanda: {sentencia['Sintesis']}\\n\"\n",
    "    sentencias_texto += f\"Sentencia: {sentencia['Sentencia']}\\n\\n\"\n",
    "\n",
    "# Crear el prompt\n",
    "prompt = f\"\"\"\n",
    "Te muestro la siguiente demanda legale. Por favor, explícala de forma muy sencilla y clara, como si se lo contaras a alguien sin conocimientos de derecho. Incluye siempre el número de la sentencia y la fecha al explicarla.\n",
    "\n",
    "{sentencias_texto}\n",
    "\n",
    "Explica cada demanda de forma breve y accesible.\n",
    "\"\"\"\n",
    "\n",
    "# Llamar al modelo en Azure\n",
    "respuesta = generar_respuesta_azure(prompt)\n",
    "\n",
    "# Mostrar la respuesta\n",
    "if respuesta:\n",
    "    print(f'\\nExplicación generada:\\n{respuesta}')"
   ]
  },
  {
   "cell_type": "markdown",
   "metadata": {
    "application/vnd.databricks.v1+cell": {
     "cellMetadata": {},
     "inputWidgets": {},
     "nuid": "b0da8a96-1471-4e19-a69b-92c477fb2b12",
     "showTitle": false,
     "tableResultSettingsMap": {},
     "title": ""
    }
   },
   "source": [
    "# ¿Cuál fue la sentencia del caso que habla de acoso escolar? "
   ]
  },
  {
   "cell_type": "markdown",
   "metadata": {
    "application/vnd.databricks.v1+cell": {
     "cellMetadata": {},
     "inputWidgets": {},
     "nuid": "e859075e-0e1e-4d6e-927b-a42d1eba91b3",
     "showTitle": false,
     "tableResultSettingsMap": {},
     "title": ""
    }
   },
   "source": [
    "Input, ejecución de la búsqueda y explicación de la sentencia"
   ]
  },
  {
   "cell_type": "code",
   "execution_count": 0,
   "metadata": {
    "application/vnd.databricks.v1+cell": {
     "cellMetadata": {
      "byteLimit": 2048000,
      "rowLimit": 10000
     },
     "inputWidgets": {},
     "nuid": "95672169-ab93-4895-8192-78a7daa8180f",
     "showTitle": false,
     "tableResultSettingsMap": {},
     "title": ""
    }
   },
   "outputs": [
    {
     "data": {
      "text/plain": [
       "Ingrese el tema que desea consultar:  ¿Cuál fue la sentencia del caso que habla de acoso escolar?"
      ]
     },
     "metadata": {},
     "output_type": "display_data"
    }
   ],
   "source": [
    "tema = input(\"Ingrese el tema que desea consultar: \")"
   ]
  },
  {
   "cell_type": "markdown",
   "metadata": {
    "application/vnd.databricks.v1+cell": {
     "cellMetadata": {},
     "inputWidgets": {},
     "nuid": "ea5303a1-8c5b-40ab-bf9f-548db6b0fc9f",
     "showTitle": false,
     "tableResultSettingsMap": {},
     "title": ""
    }
   },
   "source": [
    "Ejecución de la búsqueda y explicación de la sentencia"
   ]
  },
  {
   "cell_type": "code",
   "execution_count": 0,
   "metadata": {
    "application/vnd.databricks.v1+cell": {
     "cellMetadata": {
      "byteLimit": 2048000,
      "rowLimit": 10000
     },
     "inputWidgets": {},
     "nuid": "85dff828-769d-44bc-964a-2d82dcb93ac4",
     "showTitle": false,
     "tableResultSettingsMap": {},
     "title": ""
    }
   },
   "outputs": [
    {
     "name": "stdout",
     "output_type": "stream",
     "text": [
      "\n",
      "Explicación generada:\n",
      "Sentencia 140 – Fecha: 2024-06-26\n",
      "\n",
      "Qué se pidió (la “demanda”):  \n",
      "La madre de Paola, una niña acosada en el colegio, solicitó amparo porque:  \n",
      "• El colegio no protegió a su hija ante el matoneo escolar.  \n",
      "• El Plan Individualizado de Ajustes Razonables (PIAR) que le dieron fue sólo “para cumplir la ley”, sin atender sus necesidades reales.  \n",
      "• Paola reprobaría el año y no le permitieron nivelar las materias reprobadas.  \n",
      "• No respondieron su solicitud para hacer dicha nivelación.\n",
      "\n",
      "Temas que analizó el tribunal:  \n",
      "1. En qué consiste el acoso escolar y cómo enfrentarlo.  \n",
      "2. Efectos del acoso en la salud mental y emocional de los menores.  \n",
      "3. Qué es y cómo debe aplicarse un PIAR para incluir al estudiante.  \n",
      "4. Reglas del derecho de petición (cómo y cuándo debe responderse).\n",
      "\n",
      "Qué decidió el Tribunal Constitucional:  \n",
      "\n",
      "1.    Revocó (anuló) la primera decisión de diciembre de 2023 que había negado el amparo.  \n",
      "2.    Reconoció que, aunque ya ocurrió el daño (la etapa de matoneo es “consumada”), sí hubo violación de los derechos fundamentales de Paola (a la educación, a la igualdad y al derecho de petición).  \n",
      "3.    CONCEDIÓ el amparo sobre esos derechos y ordenó medidas de reparación y prevención:\n",
      "\n",
      "   – El colegio, la Secretaría de Educación local y el Ministerio de Educación deben ofrecer excusas públicas a Paola en un acto institucional, con acompañamiento del ICBF y de la Defensoría del Pueblo.  \n",
      "   – En 10 días, el colegio y las autoridades deben presentar a la madre un “plan de formación y evaluación diferencial” (una especie de programa de recuperación académica adaptado). Paola y su madre tendrán 2 días para aceptarlo o proponer cambios. Este plan no puede durar más de 2 meses.  \n",
      "   – Si Paola cumple los objetivos de ese plan, el colegio debe entregarle el diploma de bachiller en el plazo de una semana.  \n",
      "   – En seis meses, el Ministerio de Educación debe revisar y mejorar la política pública de prevención y atención del acoso escolar.  \n",
      "   – En 3 meses, el colegio, con la Secretaría de Educación y el Ministerio, debe revisar su manual de convivencia para incluir mecanismos de detección y seguimiento del acoso y capacitar a su personal en ese tema.  \n",
      "   – La Secretaría de Educación local investigará si los profesores divulgaron indebidamente datos de la historia clínica de Paola y, de ser el caso, abrirá el proceso disciplinario correspondiente.  \n",
      "   – Se exhortó a la Fiscalía para que evalúe si reabre la investigación penal por estos hechos y mantenga informada a la justicia constitucional y al juez de primera instancia.  \n",
      "   – En 48 horas, el colegio debe responder la petición pendiente que la madre radicó el 17 de noviembre de 2023.  \n",
      "\n",
      "4.    Desvinculó a la Secretaría de Educación Departamental de Azul Claro (quedó fuera del proceso).  \n",
      "\n",
      "Con estas órdenes, el tribunal busca no solo reparar el daño ya sufrido por Paola, sino también fortalecer las políticas y prácticas de la institución y de las autoridades para prevenir y atender casos de acoso escolar en el futuro.\n"
     ]
    }
   ],
   "source": [
    "# Buscar sentencia\n",
    "sentencia_encontrada = buscar_sentencia(tema)\n",
    "\n",
    "# Armar el texto para el prompt\n",
    "sentencias_texto = \"\"\n",
    "for i, sentencia in enumerate(sentencia_encontrada, 1):\n",
    "    sentencias_texto += f\"{i}. Número Sentencia: {sentencia['Número Sentencia']} - Fecha: {sentencia['Fecha Sentencia']}\\n\"\n",
    "    sentencias_texto += f\"Demanda: {sentencia['Sintesis']}\\n\"\n",
    "    sentencias_texto += f\"Sentencia: {sentencia['Sentencia']}\\n\\n\"\n",
    "\n",
    "# Crear el prompt\n",
    "prompt = f\"\"\"\n",
    "Te muestro la siguiente demanda legale. Por favor, explícala de forma muy sencilla y clara, como si se lo contaras a alguien sin conocimientos de derecho. Incluye siempre el número de la sentencia y la fecha al explicarla.\n",
    "\n",
    "{sentencias_texto}\n",
    "\n",
    "Explica cada demanda de forma breve y accesible.\n",
    "\"\"\"\n",
    "\n",
    "# Llamar al modelo en Azure\n",
    "respuesta = generar_respuesta_azure(prompt)\n",
    "\n",
    "# Mostrar la respuesta\n",
    "if respuesta:\n",
    "    print(f'\\nExplicación generada:\\n{respuesta}')\n"
   ]
  },
  {
   "cell_type": "markdown",
   "metadata": {
    "application/vnd.databricks.v1+cell": {
     "cellMetadata": {},
     "inputWidgets": {},
     "nuid": "de096ec2-c2fc-4b6f-95d4-a613591d7e3c",
     "showTitle": false,
     "tableResultSettingsMap": {},
     "title": ""
    }
   },
   "source": [
    "# ¿Existen casos que hablan sobre el PIAR? indique de qué trataron los casos y cuáles fueron sus sentencias"
   ]
  },
  {
   "cell_type": "markdown",
   "metadata": {
    "application/vnd.databricks.v1+cell": {
     "cellMetadata": {},
     "inputWidgets": {},
     "nuid": "008b40ca-141e-4f86-999c-3abbcc3a66e2",
     "showTitle": false,
     "tableResultSettingsMap": {},
     "title": ""
    }
   },
   "source": [
    "Input, ejecución de la búsqueda y explicación de la sentencia"
   ]
  },
  {
   "cell_type": "code",
   "execution_count": 0,
   "metadata": {
    "application/vnd.databricks.v1+cell": {
     "cellMetadata": {
      "byteLimit": 2048000,
      "rowLimit": 10000
     },
     "inputWidgets": {},
     "nuid": "a5ec33c5-f09b-4c88-8d07-50342ed093f5",
     "showTitle": false,
     "tableResultSettingsMap": {},
     "title": ""
    }
   },
   "outputs": [
    {
     "data": {
      "text/plain": [
       "Ingrese el tema que desea consultar:  ¿existen casos que hablan sobre el PIAR? indique de qué trataron los casos y cuáles fueron sus sentencias"
      ]
     },
     "metadata": {},
     "output_type": "display_data"
    }
   ],
   "source": [
    "temas_input = input(\"Ingrese el tema que desea consultar: \")\n",
    "temas = [t.strip() for t in temas_input.split(',')]"
   ]
  },
  {
   "cell_type": "code",
   "execution_count": 0,
   "metadata": {
    "application/vnd.databricks.v1+cell": {
     "cellMetadata": {
      "byteLimit": 2048000,
      "rowLimit": 10000
     },
     "inputWidgets": {},
     "nuid": "71d3b942-6054-457c-9e41-c6a88e2e04c5",
     "showTitle": false,
     "tableResultSettingsMap": {},
     "title": ""
    }
   },
   "outputs": [
    {
     "name": "stdout",
     "output_type": "stream",
     "text": [
      "\n",
      "Explicación generada:\n",
      "Sentencia 140 – 2024-06-26  \n",
      "\n",
      "¿Qué pasó?  \n",
      "Una madre demandó a la Institución Educativa Sol porque su hija, Paola, fue víctima de acoso escolar tan grave que acabó con depresión, ansiedad e incluso pensamientos suicidas. La niña reprobó el año escolar y tampoco le permitieron nivelar las materias. La familia había solicitado un “Plan Individualizado de Ajustes Razonables” (PIAR), pero la escuela lo hizo solo para cumplir formalidades, sin atender las necesidades reales de Paola.\n",
      "\n",
      "¿Qué decidió el tribunal?  \n",
      "1. Revocó la sentencia inicial (4-dic-2023) que había negado la protección de derechos de Paola.  \n",
      "2. Reconoció que el daño por el acoso ya ocurrió y violó derechos fundamentales (educación, igualdad, petición).  \n",
      "3. Concedió el amparo para restablecer esos derechos y dictó estas órdenes:\n",
      "\n",
      "Órdenes para la escuela, el municipio y el Ministerio de Educación  \n",
      "• 3 meses para hacer un acto público de excusas y compromiso con Paola (con el ICBF y la Defensoría del Pueblo presentes).  \n",
      "• 10 días para presentar a la madre un plan de refuerzo académico adaptado (duración máxima 2 meses). Paola y su mamá tienen 2 días para decir si lo aceptan.  \n",
      "• 1 semana después de superar el plan, la escuela debe entregarle el diploma de bachiller a Paola.  \n",
      "• 6 meses para que el Ministerio mejore la política pública contra la violencia escolar.  \n",
      "• 3 meses para que la escuela revise y actualice su manual de convivencia y capacite a su personal en detección y prevención del acoso.  \n",
      "• 48 horas para que la escuela responda la petición pendiente de la madre.\n",
      "\n",
      "Investigaciones y seguimiento  \n",
      "• La Secretaría de Educación Municipal investigará si hubo filtración de información confidencial de la historia clínica de la niña y tomará medidas disciplinarias si es necesario.  \n",
      "• Se exhorta a la Fiscalía para que reabra o continúe la investigación penal sobre los responsables del acoso.  \n",
      "• Se desvinculó a la Secretaría de Educación Departamental de Azul de este caso (no era parte legítima).\n",
      "\n",
      "¿Para qué sirve todo esto?  \n",
      "Con estas medidas el tribunal busca reparar el daño a Paola, garantizar que termine el bachillerato, mejorar las reglas y protocolos contra el bullying en la escuela y en el sistema educativo, y asegurar que hechos así no queden impunes.\n"
     ]
    }
   ],
   "source": [
    "# Buscar sentencia\n",
    "sentencia_encontrada = buscar_sentencia(tema)\n",
    "\n",
    "# Armar el texto para el prompt\n",
    "sentencias_texto = \"\"\n",
    "for i, sentencia in enumerate(sentencia_encontrada, 1):\n",
    "    sentencias_texto += f\"{i}. Número Sentencia: {sentencia['Número Sentencia']} - Fecha: {sentencia['Fecha Sentencia']}\\n\"\n",
    "    sentencias_texto += f\"Demanda: {sentencia['Sintesis']}\\n\"\n",
    "    sentencias_texto += f\"Sentencia: {sentencia['Sentencia']}\\n\\n\"\n",
    "\n",
    "# Crear el prompt\n",
    "prompt = f\"\"\"\n",
    "Te muestro las siguientes demandas legales. Por favor, explícalas de forma muy sencilla y clara, como si se lo contaras a alguien sin conocimientos de derecho. Incluye siempre el número de la sentencia y la fecha al explicarlas.\n",
    "\n",
    "{sentencias_texto}\n",
    "\n",
    "Explica cada demanda de forma breve y accesible.\n",
    "\"\"\"\n",
    "\n",
    "# Llamar al modelo en Azure\n",
    "respuesta = generar_respuesta_azure(prompt)\n",
    "\n",
    "# Mostrar la respuesta\n",
    "if respuesta:\n",
    "    print(f'\\nExplicación generada:\\n{respuesta}')"
   ]
  }
 ],
 "metadata": {
  "application/vnd.databricks.v1+notebook": {
   "computePreferences": null,
   "dashboards": [],
   "environmentMetadata": {
    "base_environment": "",
    "environment_version": "2"
   },
   "inputWidgetPreferences": null,
   "language": "python",
   "notebookMetadata": {
    "pythonIndentUnit": 4
   },
   "notebookName": "Consultoría Legal",
   "widgets": {}
  },
  "language_info": {
   "name": "python"
  }
 },
 "nbformat": 4,
 "nbformat_minor": 0
}
